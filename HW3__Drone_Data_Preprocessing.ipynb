{
  "nbformat": 4,
  "nbformat_minor": 0,
  "metadata": {
    "colab": {
      "provenance": [],
      "gpuType": "T4",
      "mount_file_id": "1wFPcA8BQfcyzmPvSR95VPiut1U6MC9m5",
      "authorship_tag": "ABX9TyNVYstosVEr8TtTGewiL22/",
      "include_colab_link": true
    },
    "kernelspec": {
      "name": "python3",
      "display_name": "Python 3"
    },
    "language_info": {
      "name": "python"
    },
    "accelerator": "GPU"
  },
  "cells": [
    {
      "cell_type": "markdown",
      "metadata": {
        "id": "view-in-github",
        "colab_type": "text"
      },
      "source": [
        "<a href=\"https://colab.research.google.com/github/imrib/ImriBregman-HW/blob/main/HW3__Drone_Data_Preprocessing.ipynb\" target=\"_parent\"><img src=\"https://colab.research.google.com/assets/colab-badge.svg\" alt=\"Open In Colab\"/></a>"
      ]
    },
    {
      "cell_type": "markdown",
      "source": [
        "Drone Data Preprocessing"
      ],
      "metadata": {
        "id": "8SaeTAOlzyQg"
      }
    },
    {
      "cell_type": "code",
      "execution_count": 2,
      "metadata": {
        "id": "iIz-PdxtJwvb",
        "colab": {
          "base_uri": "https://localhost:8080/",
          "height": 368
        },
        "outputId": "3f380f58-a57b-4598-ca8e-624a56ae5b34"
      },
      "outputs": [
        {
          "output_type": "error",
          "ename": "AttributeError",
          "evalue": "ignored",
          "traceback": [
            "\u001b[0;31m---------------------------------------------------------------------------\u001b[0m",
            "\u001b[0;31mAttributeError\u001b[0m                            Traceback (most recent call last)",
            "\u001b[0;32m<ipython-input-2-53d868debe8b>\u001b[0m in \u001b[0;36m<cell line: 47>\u001b[0;34m()\u001b[0m\n\u001b[1;32m     46\u001b[0m \u001b[0;31m# Process each random image\u001b[0m\u001b[0;34m\u001b[0m\u001b[0;34m\u001b[0m\u001b[0m\n\u001b[1;32m     47\u001b[0m \u001b[0;32mfor\u001b[0m \u001b[0mimg_name\u001b[0m \u001b[0;32min\u001b[0m \u001b[0mrandom_images\u001b[0m\u001b[0;34m:\u001b[0m\u001b[0;34m\u001b[0m\u001b[0;34m\u001b[0m\u001b[0m\n\u001b[0;32m---> 48\u001b[0;31m     \u001b[0mprocess_image\u001b[0m\u001b[0;34m(\u001b[0m\u001b[0mimg_name\u001b[0m\u001b[0;34m)\u001b[0m\u001b[0;34m\u001b[0m\u001b[0;34m\u001b[0m\u001b[0m\n\u001b[0m\u001b[1;32m     49\u001b[0m \u001b[0;34m\u001b[0m\u001b[0m\n\u001b[1;32m     50\u001b[0m \u001b[0;31m# Display the processed images\u001b[0m\u001b[0;34m\u001b[0m\u001b[0;34m\u001b[0m\u001b[0m\n",
            "\u001b[0;32m<ipython-input-2-53d868debe8b>\u001b[0m in \u001b[0;36mprocess_image\u001b[0;34m(image_name)\u001b[0m\n\u001b[1;32m     28\u001b[0m \u001b[0;34m\u001b[0m\u001b[0m\n\u001b[1;32m     29\u001b[0m         \u001b[0;31m# Crop the image based on the bounding box\u001b[0m\u001b[0;34m\u001b[0m\u001b[0;34m\u001b[0m\u001b[0m\n\u001b[0;32m---> 30\u001b[0;31m         crop_img = img[int(y * img.shape[0]):int((y + h) * img.shape[0]),\n\u001b[0m\u001b[1;32m     31\u001b[0m                        int(x * img.shape[1]):int((x + w) * img.shape[1])]\n\u001b[1;32m     32\u001b[0m \u001b[0;34m\u001b[0m\u001b[0m\n",
            "\u001b[0;31mAttributeError\u001b[0m: 'NoneType' object has no attribute 'shape'"
          ]
        }
      ],
      "source": [
        "import os\n",
        "import cv2\n",
        "import numpy as np\n",
        "from keras.preprocessing import image\n",
        "from random import sample\n",
        "\n",
        "# Set paths\n",
        "data_folder = \"/content/drive/MyDrive/Copy_of_drone_data\"\n",
        "output_folder = \"/content/drive/MyDrive/Drone_Crop\"\n",
        "\n",
        "# Get a list of 10 random images from the data folder\n",
        "random_images = sample(os.listdir(data_folder), 10)\n",
        "\n",
        "processed_data = []\n",
        "\n",
        "# Function to extract drone location and process the image\n",
        "def process_image(image_name):\n",
        "    # Read the image\n",
        "    img_path = os.path.join(data_folder, image_name)\n",
        "    img = cv2.imread(img_path)\n",
        "\n",
        "    # Read the label file\n",
        "    label_path = os.path.join(data_folder, image_name.replace(\".jpg\", \".txt\"))\n",
        "    with open(label_path, \"r\") as label_file:\n",
        "        # Extracting bounding box coordinates from YOLOv8 format\n",
        "        label_data = label_file.readline().strip().split(\" \")\n",
        "        x, y, w, h = map(float, label_data[1:5])\n",
        "\n",
        "        # Crop the image based on the bounding box\n",
        "        crop_img = img[int(y * img.shape[0]):int((y + h) * img.shape[0]),\n",
        "                       int(x * img.shape[1]):int((x + w) * img.shape[1])]\n",
        "\n",
        "        # Convert the cropped image to black and white\n",
        "        gray_img = cv2.cvtColor(crop_img, cv2.COLOR_BGR2GRAY)\n",
        "\n",
        "        # Resize the image to a quadratic form (28x28)\n",
        "        resized_img = cv2.resize(gray_img, (28, 28))\n",
        "\n",
        "        # Save the processed image\n",
        "        output_path = os.path.join(output_folder, image_name.replace(\".jpg\", \"_processed.jpg\"))\n",
        "        cv2.imwrite(output_path, resized_img)\n",
        "\n",
        "        # Append the processed data to the list\n",
        "        processed_data.append({\"image_path\": output_path, \"label\": \"drone\"})\n",
        "\n",
        "# Process each random image\n",
        "for img_name in random_images:\n",
        "    process_image(img_name)\n",
        "\n",
        "# Display the processed images\n",
        "for item in processed_data:\n",
        "    img = image.load_img(item[\"image_path\"])\n",
        "    display(img)\n"
      ]
    },
    {
      "cell_type": "code",
      "source": [
        "import os\n",
        "import cv2\n",
        "import numpy as np\n",
        "from keras.preprocessing import image\n",
        "from random import sample\n",
        "\n",
        "# Set paths\n",
        "data_folder = \"/content/drive/MyDrive/Copy_of_drone_data\"\n",
        "output_folder = \"/content/drive/MyDrive/Drone_Crop\"\n",
        "\n",
        "# Get a list of 10 random images from the data folder\n",
        "random_images = sample(os.listdir(data_folder), 10)\n",
        "\n",
        "processed_data = []\n",
        "\n",
        "# Function to extract drone location and process the image\n",
        "def process_image(image_name):\n",
        "    # Read the image\n",
        "    img_path = os.path.join(data_folder, image_name)\n",
        "    img = cv2.imread(img_path)\n",
        "\n",
        "    # Check if the image is successfully loaded\n",
        "    if img is not None:\n",
        "        # Read the label file\n",
        "        label_path = os.path.join(data_folder, image_name.replace(\".jpg\", \".txt\"))\n",
        "        with open(label_path, \"r\") as label_file:\n",
        "            # Extracting bounding box coordinates from YOLOv8 format\n",
        "            label_data = label_file.readline().strip().split(\" \")\n",
        "            x, y, w, h = map(float, label_data[1:5])\n",
        "\n",
        "            # Crop the image based on the bounding box\n",
        "            crop_img = img[int(y * img.shape[0]):int((y + h) * img.shape[0]),\n",
        "                           int(x * img.shape[1]):int((x + w) * img.shape[1])]\n",
        "\n",
        "            # Convert the cropped image to black and white\n",
        "            gray_img = cv2.cvtColor(crop_img, cv2.COLOR_BGR2GRAY)\n",
        "\n",
        "            # Resize the image to a quadratic form (28x28)\n",
        "            resized_img = cv2.resize(gray_img, (28, 28))\n",
        "\n",
        "            # Save the processed image\n",
        "            output_path = os.path.join(output_folder, image_name.replace(\".jpg\", \"_processed.jpg\"))\n",
        "            cv2.imwrite(output_path, resized_img)\n",
        "\n",
        "            # Append the processed data to the list\n",
        "            processed_data.append({\"image_path\": output_path, \"label\": \"drone\"})\n",
        "    else:\n",
        "        print(f\"Error: Unable to read image {image_name}\")\n",
        "\n",
        "# Process each random image\n",
        "for img_name in random_images:\n",
        "    process_image(img_name)\n",
        "\n",
        "# Display the processed images\n",
        "for item in processed_data:\n",
        "    img = image.load_img(item[\"image_path\"])\n",
        "    display(img)\n"
      ],
      "metadata": {
        "colab": {
          "base_uri": "https://localhost:8080/",
          "height": 244
        },
        "id": "lRKbG5doeOIU",
        "outputId": "35f44f23-db57-40d6-d598-4104d01bc387"
      },
      "execution_count": 5,
      "outputs": [
        {
          "output_type": "stream",
          "name": "stdout",
          "text": [
            "Error: Unable to read image video15_381.txt\n",
            "Error: Unable to read image video18_2048.txt\n",
            "Error: Unable to read image DJI_FPV_Evening (516).txt\n",
            "Error: Unable to read image video16_391.txt\n",
            "Error: Unable to read image video18_1688.txt\n"
          ]
        },
        {
          "output_type": "display_data",
          "data": {
            "text/plain": [
              "<PIL.Image.Image image mode=RGB size=28x28>"
            ],
            "image/png": "[encoded data removed]"
          },
          "metadata": {}
        },
        {
          "output_type": "display_data",
          "data": {
            "text/plain": [
              "<PIL.Image.Image image mode=RGB size=28x28>"
            ],
            "image/png": "[encoded data removed]"
          },
          "metadata": {}
        },
        {
          "output_type": "display_data",
          "data": {
            "text/plain": [
              "<PIL.Image.Image image mode=RGB size=28x28>"
            ],
            "image/png": "[encoded data removed]"
          },
          "metadata": {}
        },
        {
          "output_type": "display_data",
          "data": {
            "text/plain": [
              "<PIL.Image.Image image mode=RGB size=28x28>"
            ],
            "image/png": "[encoded data removed]"
          },
          "metadata": {}
        },
        {
          "output_type": "display_data",
          "data": {
            "text/plain": [
              "<PIL.Image.Image image mode=RGB size=28x28>"
            ],
            "image/png": "[encoded data removed]"
          },
          "metadata": {}
        }
      ]
    },
    {
      "cell_type": "code",
      "source": [
        "import os\n",
        "import cv2\n",
        "import numpy as np\n",
        "from keras.preprocessing import image\n",
        "from random import sample\n",
        "\n",
        "# Set paths\n",
        "data_folder = \"/content/drive/MyDrive/Copy_of_drone_data\"\n",
        "output_folder = \"/content/drive/MyDrive/Drone_Crop\"\n",
        "\n",
        "# Get a list of 10 random images from the data folder\n",
        "random_images = sample(os.listdir(data_folder), 10)\n",
        "\n",
        "processed_data = []\n",
        "\n",
        "# Function to extract drone location and process the image\n",
        "def process_image(image_name):\n",
        "    # Read the image\n",
        "    img_path = os.path.join(data_folder, image_name)\n",
        "    img = cv2.imread(img_path)\n",
        "\n",
        "    # Check if the image is successfully loaded\n",
        "    if img is not None:\n",
        "        # Read the label file\n",
        "        label_path = os.path.join(data_folder, image_name.replace(\".jpg\", \".txt\"))\n",
        "        with open(label_path, \"r\") as label_file:\n",
        "            # Extracting bounding box coordinates from YOLOv8 format\n",
        "            label_data = label_file.readline().strip().split(\" \")\n",
        "            x, y, w, h = map(float, label_data[1:5])\n",
        "\n",
        "            # Crop the image based on the bounding box\n",
        "            crop_img = img[int(y * img.shape[0]):int((y + h) * img.shape[0]),\n",
        "                           int(x * img.shape[1]):int((x + w) * img.shape[1])]\n",
        "\n",
        "            # Convert the cropped image to black and white\n",
        "            gray_img = cv2.cvtColor(crop_img, cv2.COLOR_BGR2GRAY)\n",
        "\n",
        "            # Resize the image to a quadratic form (28x28)\n",
        "            resized_img = cv2.resize(gray_img, (28, 28))\n",
        "\n",
        "            # Save the processed image\n",
        "            output_path = os.path.join(output_folder, image_name.replace(\".jpg\", \"_processed.jpg\"))\n",
        "            cv2.imwrite(output_path, resized_img)\n",
        "\n",
        "            # Append the processed data to the list\n",
        "            processed_data.append({\"image_path\": output_path, \"label\": \"drone\"})\n",
        "    else:\n",
        "        print(f\"Error: Unable to read image {image_name}\")\n",
        "\n",
        "# Process each random image\n",
        "for img_name in random_images:\n",
        "    process_image(img_name)\n",
        "\n",
        "# Display the processed images\n",
        "for item in processed_data:\n",
        "    img = image.load_img(item[\"image_path\"])\n",
        "    display(img)\n"
      ],
      "metadata": {
        "colab": {
          "base_uri": "https://localhost:8080/",
          "height": 244
        },
        "id": "FfAGUNfOhKbL",
        "outputId": "ef0cbc9f-6a71-464a-b339-3d08affd215a"
      },
      "execution_count": 7,
      "outputs": [
        {
          "output_type": "stream",
          "name": "stdout",
          "text": [
            "Error: Unable to read image Dji_pantom_Sunny (615).txt\n",
            "Error: Unable to read image MAVIC_Air_Evening (392).txt\n",
            "Error: Unable to read image MAVIC_Air_Cloudy (824).txt\n",
            "Error: Unable to read image video18_1673.txt\n",
            "Error: Unable to read image DJI_FPV_Sunny (445).txt\n"
          ]
        },
        {
          "output_type": "display_data",
          "data": {
            "text/plain": [
              "<PIL.Image.Image image mode=RGB size=28x28>"
            ],
            "image/png": "[encoded data removed]"
          },
          "metadata": {}
        },
        {
          "output_type": "display_data",
          "data": {
            "text/plain": [
              "<PIL.Image.Image image mode=RGB size=28x28>"
            ],
            "image/png": "[encoded data removed]"
          },
          "metadata": {}
        },
        {
          "output_type": "display_data",
          "data": {
            "text/plain": [
              "<PIL.Image.Image image mode=RGB size=28x28>"
            ],
            "image/png": "[encoded data removed]"
          },
          "metadata": {}
        },
        {
          "output_type": "display_data",
          "data": {
            "text/plain": [
              "<PIL.Image.Image image mode=RGB size=28x28>"
            ],
            "image/png": "[encoded data removed]"
          },
          "metadata": {}
        },
        {
          "output_type": "display_data",
          "data": {
            "text/plain": [
              "<PIL.Image.Image image mode=RGB size=28x28>"
            ],
            "image/png": "[encoded data removed]"
          },
          "metadata": {}
        }
      ]
    },
    {
      "cell_type": "code",
      "source": [
        "import os\n",
        "import cv2\n",
        "import numpy as np\n",
        "from keras.preprocessing import image\n",
        "from random import sample\n",
        "\n",
        "# Set paths\n",
        "data_folder = \"/content/drive/MyDrive/Copy_of_drone_data\"\n",
        "output_folder = \"/content/drive/MyDrive/Drone_Crop\"\n",
        "\n",
        "# Get a list of all image files in the data folder\n",
        "all_images = [file for file in os.listdir(data_folder) if file.endswith(\".jpg\")]\n",
        "\n",
        "# Choose 10 random images\n",
        "random_images = sample(all_images, 10)\n",
        "\n",
        "processed_data = []\n",
        "\n",
        "# Function to extract drone location and process the image\n",
        "def process_image(image_name):\n",
        "    # Read the image\n",
        "    img_path = os.path.join(data_folder, image_name)\n",
        "    img = cv2.imread(img_path)\n",
        "\n",
        "    # Check if the image is successfully loaded\n",
        "    if img is not None:\n",
        "        # Read the label file\n",
        "        label_path = os.path.join(data_folder, image_name.replace(\".jpg\", \".txt\"))\n",
        "\n",
        "        # Check if the corresponding label file exists\n",
        "        if os.path.exists(label_path):\n",
        "            with open(label_path, \"r\") as label_file:\n",
        "                # Extracting bounding box coordinates from YOLOv8 format\n",
        "                label_data = label_file.readline().strip().split(\" \")\n",
        "                x, y, w, h = map(float, label_data[1:5])\n",
        "\n",
        "                # Crop the image based on the bounding box\n",
        "                crop_img = img[int(y * img.shape[0]):int((y + h) * img.shape[0]),\n",
        "                               int(x * img.shape[1]):int((x + w) * img.shape[1])]\n",
        "\n",
        "                # Convert the cropped image to black and white\n",
        "                gray_img = cv2.cvtColor(crop_img, cv2.COLOR_BGR2GRAY)\n",
        "\n",
        "                # Resize the image to a quadratic form (28x28)\n",
        "                resized_img = cv2.resize(gray_img, (28, 28))\n",
        "\n",
        "                # Save the processed image\n",
        "                output_path = os.path.join(output_folder, image_name.replace(\".jpg\", \"_processed.jpg\"))\n",
        "                cv2.imwrite(output_path, resized_img)\n",
        "\n",
        "                # Append the processed data to the list\n",
        "                processed_data.append({\"image_path\": output_path, \"label\": \"drone\"})\n",
        "        else:\n",
        "            print(f\"Error: Corresponding label file not found for image {image_name}\")\n",
        "    else:\n",
        "        print(f\"Error: Unable to read image {image_name}\")\n",
        "\n",
        "# Process each random image\n",
        "for img_name in random_images:\n",
        "    process_image(img_name)\n",
        "\n",
        "# Display the processed images\n",
        "for item in processed_data:\n",
        "    img = image.load_img(item[\"image_path\"])\n",
        "    display(img)\n"
      ],
      "metadata": {
        "colab": {
          "base_uri": "https://localhost:8080/",
          "height": 297
        },
        "id": "ymBrHtLGh34c",
        "outputId": "160b7d21-cec8-4945-d80d-6389af427527"
      },
      "execution_count": 8,
      "outputs": [
        {
          "output_type": "display_data",
          "data": {
            "text/plain": [
              "<PIL.Image.Image image mode=RGB size=28x28>"
            ],
            "image/png": "[encoded data removed]"
          },
          "metadata": {}
        },
        {
          "output_type": "display_data",
          "data": {
            "text/plain": [
              "<PIL.Image.Image image mode=RGB size=28x28>"
            ],
            "image/png": "[encoded data removed]"
          },
          "metadata": {}
        },
        {
          "output_type": "display_data",
          "data": {
            "text/plain": [
              "<PIL.Image.Image image mode=RGB size=28x28>"
            ],
            "image/png": "[encoded data removed]"
          },
          "metadata": {}
        },
        {
          "output_type": "display_data",
          "data": {
            "text/plain": [
              "<PIL.Image.Image image mode=RGB size=28x28>"
            ],
            "image/png": "[encoded data removed]"
          },
          "metadata": {}
        },
        {
          "output_type": "display_data",
          "data": {
            "text/plain": [
              "<PIL.Image.Image image mode=RGB size=28x28>"
            ],
            "image/png": "[encoded data removed]"
          },
          "metadata": {}
        },
        {
          "output_type": "display_data",
          "data": {
            "text/plain": [
              "<PIL.Image.Image image mode=RGB size=28x28>"
            ],
            "image/png": "[encoded data removed]"
          },
          "metadata": {}
        },
        {
          "output_type": "display_data",
          "data": {
            "text/plain": [
              "<PIL.Image.Image image mode=RGB size=28x28>"
            ],
            "image/png": "[encoded data removed]"
          },
          "metadata": {}
        },
        {
          "output_type": "display_data",
          "data": {
            "text/plain": [
              "<PIL.Image.Image image mode=RGB size=28x28>"
            ],
            "image/png": "[encoded data removed]"
          },
          "metadata": {}
        },
        {
          "output_type": "display_data",
          "data": {
            "text/plain": [
              "<PIL.Image.Image image mode=RGB size=28x28>"
            ],
            "image/png": "[encoded data removed]"
          },
          "metadata": {}
        },
        {
          "output_type": "display_data",
          "data": {
            "text/plain": [
              "<PIL.Image.Image image mode=RGB size=28x28>"
            ],
            "image/png": "[encoded data removed]"
          },
          "metadata": {}
        }
      ]
    },
    {
      "cell_type": "code",
      "source": [
        "import os\n",
        "import cv2\n",
        "import numpy as np\n",
        "from keras.preprocessing import image\n",
        "from random import sample\n",
        "\n",
        "# Set paths\n",
        "data_folder = \"/content/drive/MyDrive/Copy_of_drone_data\"\n",
        "output_folder = \"/content/drive/MyDrive/Drone_Crop\"\n",
        "\n",
        "# Get a list of all image files in the data folder\n",
        "all_images = [file for file in os.listdir(data_folder) if file.endswith(\".jpg\")]\n",
        "\n",
        "# Choose 10 random images\n",
        "random_images = sample(all_images, 10)\n",
        "\n",
        "processed_data = []\n",
        "\n",
        "# Function to extract drone location and process the image\n",
        "def process_image(image_name):\n",
        "    # Read the image\n",
        "    img_path = os.path.join(data_folder, image_name)\n",
        "    img = cv2.imread(img_path)\n",
        "\n",
        "    # Check if the image is successfully loaded\n",
        "    if img is not None:\n",
        "        # Read the label file\n",
        "        label_path = os.path.join(data_folder, image_name.replace(\".jpg\", \".txt\"))\n",
        "\n",
        "        # Check if the corresponding label file exists\n",
        "        if os.path.exists(label_path):\n",
        "            with open(label_path, \"r\") as label_file:\n",
        "                # Extracting bounding box coordinates from YOLOv8 format\n",
        "                label_data = label_file.readline().strip().split(\" \")\n",
        "                class_index, x, y, w, h = map(float, label_data[:5])\n",
        "\n",
        "                # Calculate the absolute coordinates based on image dimensions\n",
        "                img_height, img_width, _ = img.shape\n",
        "                x_abs = int(x * img_width)\n",
        "                y_abs = int(y * img_height)\n",
        "                w_abs = int(w * img_width)\n",
        "                h_abs = int(h * img_height)\n",
        "\n",
        "                # Crop the image based on the absolute bounding box\n",
        "                crop_img = img[y_abs:y_abs + h_abs, x_abs:x_abs + w_abs]\n",
        "\n",
        "                # Convert the cropped image to black and white\n",
        "                gray_img = cv2.cvtColor(crop_img, cv2.COLOR_BGR2GRAY)\n",
        "\n",
        "                # Resize the image to a quadratic form (28x28)\n",
        "                resized_img = cv2.resize(gray_img, (28, 28))\n",
        "\n",
        "                # Save the processed image\n",
        "                output_path = os.path.join(output_folder, image_name.replace(\".jpg\", \"_processed.jpg\"))\n",
        "                cv2.imwrite(output_path, resized_img)\n",
        "\n",
        "                # Append the processed data to the list\n",
        "                processed_data.append({\"image_path\": output_path, \"label\": \"drone\"})\n",
        "        else:\n",
        "            print(f\"Error: Corresponding label file not found for image {image_name}\")\n",
        "    else:\n",
        "        print(f\"Error: Unable to read image {image_name}\")\n",
        "\n",
        "# Process each random image\n",
        "for img_name in random_images:\n",
        "    process_image(img_name)\n",
        "\n",
        "# Display the processed images\n",
        "for item in processed_data:\n",
        "    img = image.load_img(item[\"image_path\"])\n",
        "    display(img)\n"
      ],
      "metadata": {
        "colab": {
          "base_uri": "https://localhost:8080/",
          "height": 297
        },
        "id": "Q6804mqxi7DH",
        "outputId": "0439f5ec-da23-46ab-b74c-00a0f0995d07"
      },
      "execution_count": 9,
      "outputs": [
        {
          "output_type": "display_data",
          "data": {
            "text/plain": [
              "<PIL.Image.Image image mode=RGB size=28x28>"
            ],
            "image/png": "[encoded data removed]"
          },
          "metadata": {}
        },
        {
          "output_type": "display_data",
          "data": {
            "text/plain": [
              "<PIL.Image.Image image mode=RGB size=28x28>"
            ],
            "image/png": "[encoded data removed]"
          },
          "metadata": {}
        },
        {
          "output_type": "display_data",
          "data": {
            "text/plain": [
              "<PIL.Image.Image image mode=RGB size=28x28>"
            ],
            "image/png": "[encoded data removed]"
          },
          "metadata": {}
        },
        {
          "output_type": "display_data",
          "data": {
            "text/plain": [
              "<PIL.Image.Image image mode=RGB size=28x28>"
            ],
            "image/png": "[encoded data removed]"
          },
          "metadata": {}
        },
        {
          "output_type": "display_data",
          "data": {
            "text/plain": [
              "<PIL.Image.Image image mode=RGB size=28x28>"
            ],
            "image/png": "[encoded data removed]"
          },
          "metadata": {}
        },
        {
          "output_type": "display_data",
          "data": {
            "text/plain": [
              "<PIL.Image.Image image mode=RGB size=28x28>"
            ],
            "image/png": "[encoded data removed]"
          },
          "metadata": {}
        },
        {
          "output_type": "display_data",
          "data": {
            "text/plain": [
              "<PIL.Image.Image image mode=RGB size=28x28>"
            ],
            "image/png": "[encoded data removed]"
          },
          "metadata": {}
        },
        {
          "output_type": "display_data",
          "data": {
            "text/plain": [
              "<PIL.Image.Image image mode=RGB size=28x28>"
            ],
            "image/png": "[encoded data removed]"
          },
          "metadata": {}
        },
        {
          "output_type": "display_data",
          "data": {
            "text/plain": [
              "<PIL.Image.Image image mode=RGB size=28x28>"
            ],
            "image/png": "[encoded data removed]"
          },
          "metadata": {}
        },
        {
          "output_type": "display_data",
          "data": {
            "text/plain": [
              "<PIL.Image.Image image mode=RGB size=28x28>"
            ],
            "image/png": "[encoded data removed]"
          },
          "metadata": {}
        }
      ]
    },
    {
      "cell_type": "code",
      "source": [
        "import os\n",
        "import cv2\n",
        "import numpy as np\n",
        "from keras.preprocessing import image\n",
        "from random import sample\n",
        "\n",
        "# Set paths\n",
        "data_folder = \"/content/drive/MyDrive/Copy_of_drone_data\"\n",
        "output_folder = \"/content/drive/MyDrive/Drone_Crop\"\n",
        "\n",
        "# Get a list of all image files in the data folder\n",
        "all_images = [file for file in os.listdir(data_folder) if file.endswith(\".jpg\")]\n",
        "\n",
        "# Choose 10 random images\n",
        "random_images = sample(all_images, 10)\n",
        "\n",
        "processed_data = []\n",
        "\n",
        "# Function to extract drone location and process the image\n",
        "def process_image(image_name):\n",
        "    # Read the image\n",
        "    img_path = os.path.join(data_folder, image_name)\n",
        "    img = cv2.imread(img_path)\n",
        "\n",
        "    # Check if the image is successfully loaded\n",
        "    if img is not None:\n",
        "        # Read the label file\n",
        "        label_path = os.path.join(data_folder, image_name.replace(\".jpg\", \".txt\"))\n",
        "\n",
        "        # Check if the corresponding label file exists\n",
        "        if os.path.exists(label_path):\n",
        "            with open(label_path, \"r\") as label_file:\n",
        "                # Extracting bounding box coordinates from YOLOv8 format\n",
        "                label_data = label_file.readline().strip().split(\" \")\n",
        "                class_index, x, y, w, h = map(float, label_data[:5])\n",
        "\n",
        "                # Calculate the absolute coordinates based on image dimensions\n",
        "                img_height, img_width, _ = img.shape\n",
        "                x_abs = int(x * img_width)\n",
        "                y_abs = int(y * img_height)\n",
        "                w_abs = int(w * img_width)\n",
        "                h_abs = int(h * img_height)\n",
        "\n",
        "                # Calculate the center coordinates of the bounding box\n",
        "                center_x = x_abs + w_abs // 2\n",
        "                center_y = y_abs + h_abs // 2\n",
        "\n",
        "                # Calculate new cropping region to center the drone\n",
        "                crop_size = min(w_abs, h_abs)\n",
        "                crop_x1 = max(0, center_x - crop_size // 2)\n",
        "                crop_x2 = min(img_width, center_x + crop_size // 2)\n",
        "                crop_y1 = max(0, center_y - crop_size // 2)\n",
        "                crop_y2 = min(img_height, center_y + crop_size // 2)\n",
        "\n",
        "                # Crop the image based on the new bounding box\n",
        "                crop_img = img[crop_y1:crop_y2, crop_x1:crop_x2]\n",
        "\n",
        "                # Convert the cropped image to black and white\n",
        "                gray_img = cv2.cvtColor(crop_img, cv2.COLOR_BGR2GRAY)\n",
        "\n",
        "                # Resize the image to a quadratic form (28x28)\n",
        "                resized_img = cv2.resize(gray_img, (28, 28))\n",
        "\n",
        "                # Save the processed image\n",
        "                output_path = os.path.join(output_folder, image_name.replace(\".jpg\", \"_processed.jpg\"))\n",
        "                cv2.imwrite(output_path, resized_img)\n",
        "\n",
        "                # Append the processed data to the list\n",
        "                processed_data.append({\"image_path\": output_path, \"label\": \"drone\"})\n",
        "        else:\n",
        "            print(f\"Error: Corresponding label file not found for image {image_name}\")\n",
        "    else:\n",
        "        print(f\"Error: Unable to read image {image_name}\")\n",
        "\n",
        "# Process each random image\n",
        "for img_name in random_images:\n",
        "    process_image(img_name)\n",
        "\n",
        "# Display the processed images\n",
        "for item in processed_data:\n",
        "    img = image.load_img(item[\"image_path\"])\n",
        "    display(img)\n"
      ],
      "metadata": {
        "colab": {
          "base_uri": "https://localhost:8080/",
          "height": 297
        },
        "id": "CRcqIOZ6jcZB",
        "outputId": "c0c9a61a-aec5-48b2-84cf-610c2129bbc6"
      },
      "execution_count": 11,
      "outputs": [
        {
          "output_type": "display_data",
          "data": {
            "text/plain": [
              "<PIL.Image.Image image mode=RGB size=28x28>"
            ],
            "image/png": "[encoded data removed]"
          },
          "metadata": {}
        },
        {
          "output_type": "display_data",
          "data": {
            "text/plain": [
              "<PIL.Image.Image image mode=RGB size=28x28>"
            ],
            "image/png": "[encoded data removed]"
          },
          "metadata": {}
        },
        {
          "output_type": "display_data",
          "data": {
            "text/plain": [
              "<PIL.Image.Image image mode=RGB size=28x28>"
            ],
            "image/png": "[encoded data removed]"
          },
          "metadata": {}
        },
        {
          "output_type": "display_data",
          "data": {
            "text/plain": [
              "<PIL.Image.Image image mode=RGB size=28x28>"
            ],
            "image/png": "[encoded data removed]"
          },
          "metadata": {}
        },
        {
          "output_type": "display_data",
          "data": {
            "text/plain": [
              "<PIL.Image.Image image mode=RGB size=28x28>"
            ],
            "image/png": "[encoded data removed]"
          },
          "metadata": {}
        },
        {
          "output_type": "display_data",
          "data": {
            "text/plain": [
              "<PIL.Image.Image image mode=RGB size=28x28>"
            ],
            "image/png": "[encoded data removed]"
          },
          "metadata": {}
        },
        {
          "output_type": "display_data",
          "data": {
            "text/plain": [
              "<PIL.Image.Image image mode=RGB size=28x28>"
            ],
            "image/png": "[encoded data removed]"
          },
          "metadata": {}
        },
        {
          "output_type": "display_data",
          "data": {
            "text/plain": [
              "<PIL.Image.Image image mode=RGB size=28x28>"
            ],
            "image/png": "[encoded data removed]"
          },
          "metadata": {}
        },
        {
          "output_type": "display_data",
          "data": {
            "text/plain": [
              "<PIL.Image.Image image mode=RGB size=28x28>"
            ],
            "image/png": "[encoded data removed]"
          },
          "metadata": {}
        },
        {
          "output_type": "display_data",
          "data": {
            "text/plain": [
              "<PIL.Image.Image image mode=RGB size=28x28>"
            ],
            "image/png": "[encoded data removed]"
          },
          "metadata": {}
        }
      ]
    },
    {
      "cell_type": "code",
      "source": [
        "import os\n",
        "import cv2\n",
        "import numpy as np\n",
        "from keras.preprocessing import image\n",
        "from random import sample\n",
        "\n",
        "# Set paths\n",
        "data_folder = \"/content/drive/MyDrive/Copy_of_drone_data\"\n",
        "output_folder = \"/content/drive/MyDrive/Drone_Crop\"\n",
        "\n",
        "# Get a list of all image files in the data folder\n",
        "all_images = [file for file in os.listdir(data_folder) if file.endswith(\".jpg\")]\n",
        "\n",
        "# Choose 10 random images\n",
        "random_images = sample(all_images, 10)\n",
        "\n",
        "processed_data = []\n",
        "\n",
        "# Function to extract drone location and process the image\n",
        "def process_image(image_name):\n",
        "    # Read the image\n",
        "    img_path = os.path.join(data_folder, image_name)\n",
        "    img = cv2.imread(img_path)\n",
        "\n",
        "    # Check if the image is successfully loaded\n",
        "    if img is not None:\n",
        "        # Read the label file\n",
        "        label_path = os.path.join(data_folder, image_name.replace(\".jpg\", \".txt\"))\n",
        "\n",
        "        # Check if the corresponding label file exists\n",
        "        if os.path.exists(label_path):\n",
        "            with open(label_path, \"r\") as label_file:\n",
        "                # Extracting bounding box coordinates from YOLOv8 format\n",
        "                label_data = label_file.readline().strip().split(\" \")\n",
        "                class_index, x, y, w, h = map(float, label_data[:5])\n",
        "\n",
        "                # Normalize coordinates\n",
        "                x_center = x\n",
        "                y_center = y\n",
        "                width_normalized = w\n",
        "                height_normalized = h\n",
        "\n",
        "                # Calculate absolute coordinates based on image dimensions\n",
        "                img_height, img_width, _ = img.shape\n",
        "                x_abs = int(x_center * img_width)\n",
        "                y_abs = int(y_center * img_height)\n",
        "                w_abs = int(width_normalized * img_width)\n",
        "                h_abs = int(height_normalized * img_height)\n",
        "\n",
        "                # Calculate new cropping region to center the drone\n",
        "                crop_size = min(w_abs, h_abs)\n",
        "                crop_x1 = max(0, x_abs - crop_size // 2)\n",
        "                crop_x2 = min(img_width, x_abs + crop_size // 2)\n",
        "                crop_y1 = max(0, y_abs - crop_size // 2)\n",
        "                crop_y2 = min(img_height, y_abs + crop_size // 2)\n",
        "\n",
        "                # Crop the image based on the new bounding box\n",
        "                crop_img = img[crop_y1:crop_y2, crop_x1:crop_x2]\n",
        "\n",
        "                # Convert the cropped image to black and white\n",
        "                gray_img = cv2.cvtColor(crop_img, cv2.COLOR_BGR2GRAY)\n",
        "\n",
        "                # Resize the image to a quadratic form (28x28)\n",
        "                resized_img = cv2.resize(gray_img, (28, 28))\n",
        "\n",
        "                # Save the processed image\n",
        "                output_path = os.path.join(output_folder, image_name.replace(\".jpg\", \"_processed.jpg\"))\n",
        "                cv2.imwrite(output_path, resized_img)\n",
        "\n",
        "                # Append the processed data to the list\n",
        "                processed_data.append({\"image_path\": output_path, \"label\": \"drone\"})\n",
        "        else:\n",
        "            print(f\"Error: Corresponding label file not found for image {image_name}\")\n",
        "    else:\n",
        "        print(f\"Error: Unable to read image {image_name}\")\n",
        "\n",
        "# Process each random image\n",
        "for img_name in random_images:\n",
        "    process_image(img_name)\n",
        "\n",
        "# Display the processed images\n",
        "for item in processed_data:\n",
        "    img = image.load_img(item[\"image_path\"])\n",
        "    display(img)\n"
      ],
      "metadata": {
        "colab": {
          "base_uri": "https://localhost:8080/",
          "height": 297
        },
        "id": "qcxFdLdBkVkM",
        "outputId": "9630ea09-0f65-4060-cf1a-8360dcc5180c"
      },
      "execution_count": 12,
      "outputs": [
        {
          "output_type": "display_data",
          "data": {
            "text/plain": [
              "<PIL.Image.Image image mode=RGB size=28x28>"
            ],
            "image/png": "[encoded data removed]"
          },
          "metadata": {}
        },
        {
          "output_type": "display_data",
          "data": {
            "text/plain": [
              "<PIL.Image.Image image mode=RGB size=28x28>"
            ],
            "image/png": "[encoded data removed]"
          },
          "metadata": {}
        },
        {
          "output_type": "display_data",
          "data": {
            "text/plain": [
              "<PIL.Image.Image image mode=RGB size=28x28>"
            ],
            "image/png": "[encoded data removed]"
          },
          "metadata": {}
        },
        {
          "output_type": "display_data",
          "data": {
            "text/plain": [
              "<PIL.Image.Image image mode=RGB size=28x28>"
            ],
            "image/png": "[encoded data removed]"
          },
          "metadata": {}
        },
        {
          "output_type": "display_data",
          "data": {
            "text/plain": [
              "<PIL.Image.Image image mode=RGB size=28x28>"
            ],
            "image/png": "[encoded data removed]"
          },
          "metadata": {}
        },
        {
          "output_type": "display_data",
          "data": {
            "text/plain": [
              "<PIL.Image.Image image mode=RGB size=28x28>"
            ],
            "image/png": "[encoded data removed]"
          },
          "metadata": {}
        },
        {
          "output_type": "display_data",
          "data": {
            "text/plain": [
              "<PIL.Image.Image image mode=RGB size=28x28>"
            ],
            "image/png": "[encoded data removed]"
          },
          "metadata": {}
        },
        {
          "output_type": "display_data",
          "data": {
            "text/plain": [
              "<PIL.Image.Image image mode=RGB size=28x28>"
            ],
            "image/png": "[encoded data removed]"
          },
          "metadata": {}
        },
        {
          "output_type": "display_data",
          "data": {
            "text/plain": [
              "<PIL.Image.Image image mode=RGB size=28x28>"
            ],
            "image/png": "[encoded data removed]"
          },
          "metadata": {}
        },
        {
          "output_type": "display_data",
          "data": {
            "text/plain": [
              "<PIL.Image.Image image mode=RGB size=28x28>"
            ],
            "image/png": "[encoded data removed]"
          },
          "metadata": {}
        }
      ]
    },
    {
      "cell_type": "code",
      "source": [
        "import os\n",
        "import cv2\n",
        "import numpy as np\n",
        "from keras.preprocessing import image\n",
        "\n",
        "# Set paths\n",
        "data_folder = \"/content/drive/MyDrive/Copy_of_drone_data\"\n",
        "output_folder = \"/content/drive/MyDrive/Drone_Crop\"\n",
        "\n",
        "# Get a list of all image files in the data folder\n",
        "all_images = [file for file in os.listdir(data_folder) if file.endswith(\".jpg\")]\n",
        "\n",
        "processed_data = []\n",
        "\n",
        "# Function to extract drone location and process the image\n",
        "def process_image(image_name):\n",
        "    # Read the image\n",
        "    img_path = os.path.join(data_folder, image_name)\n",
        "    img = cv2.imread(img_path)\n",
        "\n",
        "    # Check if the image is successfully loaded\n",
        "    if img is not None:\n",
        "        # Read the label file\n",
        "        label_path = os.path.join(data_folder, image_name.replace(\".jpg\", \".txt\"))\n",
        "\n",
        "        # Check if the corresponding label file exists\n",
        "        if os.path.exists(label_path):\n",
        "            with open(label_path, \"r\") as label_file:\n",
        "                # Extracting bounding box coordinates from YOLOv8 format\n",
        "                label_data = label_file.readline().strip().split(\" \")\n",
        "                class_index, x, y, w, h = map(float, label_data[:5])\n",
        "\n",
        "                # Normalize coordinates\n",
        "                x_center = x\n",
        "                y_center = y\n",
        "                width_normalized = w\n",
        "                height_normalized = h\n",
        "\n",
        "                # Calculate absolute coordinates based on image dimensions\n",
        "                img_height, img_width, _ = img.shape\n",
        "                x_abs = int(x_center * img_width)\n",
        "                y_abs = int(y_center * img_height)\n",
        "                w_abs = int(width_normalized * img_width)\n",
        "                h_abs = int(height_normalized * img_height)\n",
        "\n",
        "                # Calculate new cropping region to center the drone\n",
        "                crop_size = min(w_abs, h_abs)\n",
        "                crop_x1 = max(0, x_abs - crop_size // 2)\n",
        "                crop_x2 = min(img_width, x_abs + crop_size // 2)\n",
        "                crop_y1 = max(0, y_abs - crop_size // 2)\n",
        "                crop_y2 = min(img_height, y_abs + crop_size // 2)\n",
        "\n",
        "                # Crop the image based on the new bounding box\n",
        "                crop_img = img[crop_y1:crop_y2, crop_x1:crop_x2]\n",
        "\n",
        "                # Convert the cropped image to black and white\n",
        "                gray_img = cv2.cvtColor(crop_img, cv2.COLOR_BGR2GRAY)\n",
        "\n",
        "                # Resize the image to a quadratic form (28x28)\n",
        "                resized_img = cv2.resize(gray_img, (28, 28))\n",
        "\n",
        "                # Save the processed image\n",
        "                output_path = os.path.join(output_folder, image_name.replace(\".jpg\", \"_processed.jpg\"))\n",
        "                cv2.imwrite(output_path, resized_img)\n",
        "\n",
        "                # Append the processed data to the list\n",
        "                processed_data.append({\"image_path\": output_path, \"label\": \"drone\"})\n",
        "        else:\n",
        "            print(f\"Error: Corresponding label file not found for image {image_name}\")\n",
        "    else:\n",
        "        print(f\"Error: Unable to read image {image_name}\")\n",
        "\n",
        "# Process each image\n",
        "for img_name in all_images:\n",
        "    process_image(img_name)\n",
        "\n",
        "# Display the processed images\n",
        "for item in processed_data:\n",
        "    img = image.load_img(item[\"image_path\"])\n",
        "    display(img)\n"
      ],
      "metadata": {
        "id": "JHhpGaYYlQwl"
      },
      "execution_count": null,
      "outputs": []
    },
    {
      "cell_type": "code",
      "source": [
        "import os\n",
        "import cv2\n",
        "import numpy as np\n",
        "from keras.preprocessing import image\n",
        "from random import sample\n",
        "\n",
        "# Set paths\n",
        "data_folder = \"/content/drive/MyDrive/Copy_of_drone_data\"\n",
        "not_drone_output_folder = \"/content/drive/MyDrive/Not_Drone_Crop\"\n",
        "\n",
        "# Get a list of all image files in the data folder\n",
        "all_images = [file for file in os.listdir(data_folder) if file.endswith(\".jpg\")]\n",
        "\n",
        "# Choose 10 random images\n",
        "random_images = sample(all_images, 10)\n",
        "\n",
        "processed_not_drone_data = []\n",
        "\n",
        "# Function to extract object location and process the image\n",
        "def process_image(image_name, output_folder, label):\n",
        "    # Read the image\n",
        "    img_path = os.path.join(data_folder, image_name)\n",
        "    img = cv2.imread(img_path)\n",
        "\n",
        "    # Check if the image is successfully loaded\n",
        "    if img is not None:\n",
        "        # Perform random cropping with the same quadratic resolution\n",
        "        crop_size = min(img.shape[0], img.shape[1])\n",
        "        x_start = np.random.randint(0, img.shape[1] - crop_size)\n",
        "        y_start = np.random.randint(0, img.shape[0] - crop_size)\n",
        "        crop_img = img[y_start:y_start + crop_size, x_start:x_start + crop_size]\n",
        "\n",
        "        # Convert the cropped image to black and white\n",
        "        gray_img = cv2.cvtColor(crop_img, cv2.COLOR_BGR2GRAY)\n",
        "\n",
        "        # Resize the image to a quadratic form (28x28)\n",
        "        resized_img = cv2.resize(gray_img, (28, 28))\n",
        "\n",
        "        # Save the processed image\n",
        "        output_path = os.path.join(output_folder, image_name.replace(\".jpg\", \"_processed.jpg\"))\n",
        "        cv2.imwrite(output_path, resized_img)\n",
        "\n",
        "        # Append the processed data to the list\n",
        "        processed_data = {\"image_path\": output_path, \"label\": label}\n",
        "        processed_not_drone_data.append(processed_data)\n",
        "    else:\n",
        "        print(f\"Error: Unable to read image {image_name}\")\n",
        "\n",
        "# Process each random image for not drones\n",
        "for img_name in random_images:\n",
        "    process_image(img_name, not_drone_output_folder, \"not_drone\")\n",
        "\n",
        "# Display the processed not drone images\n",
        "print(\"Processed Not Drone Images:\")\n",
        "for item in processed_not_drone_data:\n",
        "    img = image.load_img(item[\"image_path\"])\n",
        "    display(img)\n"
      ],
      "metadata": {
        "colab": {
          "base_uri": "https://localhost:8080/",
          "height": 437
        },
        "id": "Nr1dguMHo0Zb",
        "outputId": "9f42283f-f0cb-45f7-f32a-7ae6051710bc"
      },
      "execution_count": 14,
      "outputs": [
        {
          "output_type": "error",
          "ename": "ValueError",
          "evalue": "ignored",
          "traceback": [
            "\u001b[0;31m---------------------------------------------------------------------------\u001b[0m",
            "\u001b[0;31mValueError\u001b[0m                                Traceback (most recent call last)",
            "\u001b[0;32m<ipython-input-14-04e38db2adb6>\u001b[0m in \u001b[0;36m<cell line: 50>\u001b[0;34m()\u001b[0m\n\u001b[1;32m     49\u001b[0m \u001b[0;31m# Process each random image for not drones\u001b[0m\u001b[0;34m\u001b[0m\u001b[0;34m\u001b[0m\u001b[0m\n\u001b[1;32m     50\u001b[0m \u001b[0;32mfor\u001b[0m \u001b[0mimg_name\u001b[0m \u001b[0;32min\u001b[0m \u001b[0mrandom_images\u001b[0m\u001b[0;34m:\u001b[0m\u001b[0;34m\u001b[0m\u001b[0;34m\u001b[0m\u001b[0m\n\u001b[0;32m---> 51\u001b[0;31m     \u001b[0mprocess_image\u001b[0m\u001b[0;34m(\u001b[0m\u001b[0mimg_name\u001b[0m\u001b[0;34m,\u001b[0m \u001b[0mnot_drone_output_folder\u001b[0m\u001b[0;34m,\u001b[0m \u001b[0;34m\"not_drone\"\u001b[0m\u001b[0;34m)\u001b[0m\u001b[0;34m\u001b[0m\u001b[0;34m\u001b[0m\u001b[0m\n\u001b[0m\u001b[1;32m     52\u001b[0m \u001b[0;34m\u001b[0m\u001b[0m\n\u001b[1;32m     53\u001b[0m \u001b[0;31m# Display the processed not drone images\u001b[0m\u001b[0;34m\u001b[0m\u001b[0;34m\u001b[0m\u001b[0m\n",
            "\u001b[0;32m<ipython-input-14-04e38db2adb6>\u001b[0m in \u001b[0;36mprocess_image\u001b[0;34m(image_name, output_folder, label)\u001b[0m\n\u001b[1;32m     28\u001b[0m         \u001b[0mcrop_size\u001b[0m \u001b[0;34m=\u001b[0m \u001b[0mmin\u001b[0m\u001b[0;34m(\u001b[0m\u001b[0mimg\u001b[0m\u001b[0;34m.\u001b[0m\u001b[0mshape\u001b[0m\u001b[0;34m[\u001b[0m\u001b[0;36m0\u001b[0m\u001b[0;34m]\u001b[0m\u001b[0;34m,\u001b[0m \u001b[0mimg\u001b[0m\u001b[0;34m.\u001b[0m\u001b[0mshape\u001b[0m\u001b[0;34m[\u001b[0m\u001b[0;36m1\u001b[0m\u001b[0;34m]\u001b[0m\u001b[0;34m)\u001b[0m\u001b[0;34m\u001b[0m\u001b[0;34m\u001b[0m\u001b[0m\n\u001b[1;32m     29\u001b[0m         \u001b[0mx_start\u001b[0m \u001b[0;34m=\u001b[0m \u001b[0mnp\u001b[0m\u001b[0;34m.\u001b[0m\u001b[0mrandom\u001b[0m\u001b[0;34m.\u001b[0m\u001b[0mrandint\u001b[0m\u001b[0;34m(\u001b[0m\u001b[0;36m0\u001b[0m\u001b[0;34m,\u001b[0m \u001b[0mimg\u001b[0m\u001b[0;34m.\u001b[0m\u001b[0mshape\u001b[0m\u001b[0;34m[\u001b[0m\u001b[0;36m1\u001b[0m\u001b[0;34m]\u001b[0m \u001b[0;34m-\u001b[0m \u001b[0mcrop_size\u001b[0m\u001b[0;34m)\u001b[0m\u001b[0;34m\u001b[0m\u001b[0;34m\u001b[0m\u001b[0m\n\u001b[0;32m---> 30\u001b[0;31m         \u001b[0my_start\u001b[0m \u001b[0;34m=\u001b[0m \u001b[0mnp\u001b[0m\u001b[0;34m.\u001b[0m\u001b[0mrandom\u001b[0m\u001b[0;34m.\u001b[0m\u001b[0mrandint\u001b[0m\u001b[0;34m(\u001b[0m\u001b[0;36m0\u001b[0m\u001b[0;34m,\u001b[0m \u001b[0mimg\u001b[0m\u001b[0;34m.\u001b[0m\u001b[0mshape\u001b[0m\u001b[0;34m[\u001b[0m\u001b[0;36m0\u001b[0m\u001b[0;34m]\u001b[0m \u001b[0;34m-\u001b[0m \u001b[0mcrop_size\u001b[0m\u001b[0;34m)\u001b[0m\u001b[0;34m\u001b[0m\u001b[0;34m\u001b[0m\u001b[0m\n\u001b[0m\u001b[1;32m     31\u001b[0m         \u001b[0mcrop_img\u001b[0m \u001b[0;34m=\u001b[0m \u001b[0mimg\u001b[0m\u001b[0;34m[\u001b[0m\u001b[0my_start\u001b[0m\u001b[0;34m:\u001b[0m\u001b[0my_start\u001b[0m \u001b[0;34m+\u001b[0m \u001b[0mcrop_size\u001b[0m\u001b[0;34m,\u001b[0m \u001b[0mx_start\u001b[0m\u001b[0;34m:\u001b[0m\u001b[0mx_start\u001b[0m \u001b[0;34m+\u001b[0m \u001b[0mcrop_size\u001b[0m\u001b[0;34m]\u001b[0m\u001b[0;34m\u001b[0m\u001b[0;34m\u001b[0m\u001b[0m\n\u001b[1;32m     32\u001b[0m \u001b[0;34m\u001b[0m\u001b[0m\n",
            "\u001b[0;32mmtrand.pyx\u001b[0m in \u001b[0;36mnumpy.random.mtrand.RandomState.randint\u001b[0;34m()\u001b[0m\n",
            "\u001b[0;32m_bounded_integers.pyx\u001b[0m in \u001b[0;36mnumpy.random._bounded_integers._rand_int64\u001b[0;34m()\u001b[0m\n",
            "\u001b[0;31mValueError\u001b[0m: high <= 0"
          ]
        }
      ]
    },
    {
      "cell_type": "code",
      "source": [
        "import os\n",
        "import cv2\n",
        "import numpy as np\n",
        "from keras.preprocessing import image\n",
        "from random import sample\n",
        "\n",
        "# Set paths\n",
        "data_folder = \"/content/drive/MyDrive/Copy_of_drone_data\"\n",
        "not_drone_output_folder = \"/content/drive/MyDrive/Not_Drone_Crop\"\n",
        "\n",
        "# Get a list of all image files in the data folder\n",
        "all_images = [file for file in os.listdir(data_folder) if file.endswith(\".jpg\")]\n",
        "\n",
        "# Choose 10 random images\n",
        "random_images = sample(all_images, 10)\n",
        "\n",
        "processed_not_drone_data = []\n",
        "\n",
        "# Function to process the image (random cropping with the same quadratic resolution)\n",
        "def process_image(image_name, output_folder, label):\n",
        "    # Read the image\n",
        "    img_path = os.path.join(data_folder, image_name)\n",
        "    img = cv2.imread(img_path)\n",
        "\n",
        "    # Check if the image is successfully loaded\n",
        "    if img is not None:\n",
        "        # Get the dimensions of the image\n",
        "        img_height, img_width, _ = img.shape\n",
        "\n",
        "        # Ensure the crop size is smaller than the image dimensions\n",
        "        crop_size = min(img_height, img_width)\n",
        "\n",
        "        # Perform random cropping with the same quadratic resolution\n",
        "        x_start = np.random.randint(0, img_width - crop_size + 1)\n",
        "        y_start = np.random.randint(0, img_height - crop_size + 1)\n",
        "        crop_img = img[y_start:y_start + crop_size, x_start:x_start + crop_size]\n",
        "\n",
        "        # Convert the cropped image to black and white\n",
        "        gray_img = cv2.cvtColor(crop_img, cv2.COLOR_BGR2GRAY)\n",
        "\n",
        "        # Resize the image to a quadratic form (28x28)\n",
        "        resized_img = cv2.resize(gray_img, (28, 28))\n",
        "\n",
        "        # Save the processed image\n",
        "        output_path = os.path.join(output_folder, image_name.replace(\".jpg\", \"_processed.jpg\"))\n",
        "        cv2.imwrite(output_path, resized_img)\n",
        "\n",
        "        # Append the processed data to the list\n",
        "        processed_data = {\"image_path\": output_path, \"label\": label}\n",
        "        processed_not_drone_data.append(processed_data)\n",
        "    else:\n",
        "        print(f\"Error: Unable to read image {image_name}\")\n",
        "\n",
        "# Process each random image for not drones\n",
        "for img_name in random_images:\n",
        "    process_image(img_name, not_drone_output_folder, \"not_drone\")\n",
        "\n",
        "# Display the processed not drone images\n",
        "print(\"Processed Not Drone Images:\")\n",
        "for item in processed_not_drone_data:\n",
        "    img = image.load_img(item[\"image_path\"])\n",
        "    display(img)\n"
      ],
      "metadata": {
        "colab": {
          "base_uri": "https://localhost:8080/",
          "height": 314
        },
        "id": "2yRvTW_3pUM4",
        "outputId": "c830784b-c902-4c42-b5ff-1f47059e7c58"
      },
      "execution_count": 15,
      "outputs": [
        {
          "output_type": "stream",
          "name": "stdout",
          "text": [
            "Processed Not Drone Images:\n"
          ]
        },
        {
          "output_type": "display_data",
          "data": {
            "text/plain": [
              "<PIL.Image.Image image mode=RGB size=28x28>"
            ],
            "image/png": "[encoded data removed]"
          },
          "metadata": {}
        },
        {
          "output_type": "display_data",
          "data": {
            "text/plain": [
              "<PIL.Image.Image image mode=RGB size=28x28>"
            ],
            "image/png": "[encoded data removed]"
          },
          "metadata": {}
        },
        {
          "output_type": "display_data",
          "data": {
            "text/plain": [
              "<PIL.Image.Image image mode=RGB size=28x28>"
            ],
            "image/png": "[encoded data removed]"
          },
          "metadata": {}
        },
        {
          "output_type": "display_data",
          "data": {
            "text/plain": [
              "<PIL.Image.Image image mode=RGB size=28x28>"
            ],
            "image/png": "[encoded data removed]"
          },
          "metadata": {}
        },
        {
          "output_type": "display_data",
          "data": {
            "text/plain": [
              "<PIL.Image.Image image mode=RGB size=28x28>"
            ],
            "image/png": "[encoded data removed]"
          },
          "metadata": {}
        },
        {
          "output_type": "display_data",
          "data": {
            "text/plain": [
              "<PIL.Image.Image image mode=RGB size=28x28>"
            ],
            "image/png": "[encoded data removed]"
          },
          "metadata": {}
        },
        {
          "output_type": "display_data",
          "data": {
            "text/plain": [
              "<PIL.Image.Image image mode=RGB size=28x28>"
            ],
            "image/png": "[encoded data removed]"
          },
          "metadata": {}
        },
        {
          "output_type": "display_data",
          "data": {
            "text/plain": [
              "<PIL.Image.Image image mode=RGB size=28x28>"
            ],
            "image/png": "[encoded data removed]"
          },
          "metadata": {}
        },
        {
          "output_type": "display_data",
          "data": {
            "text/plain": [
              "<PIL.Image.Image image mode=RGB size=28x28>"
            ],
            "image/png": "[encoded data removed]"
          },
          "metadata": {}
        },
        {
          "output_type": "display_data",
          "data": {
            "text/plain": [
              "<PIL.Image.Image image mode=RGB size=28x28>"
            ],
            "image/png": "[encoded data removed]"
          },
          "metadata": {}
        }
      ]
    },
    {
      "cell_type": "code",
      "source": [
        "import os\n",
        "import cv2\n",
        "import numpy as np\n",
        "from keras.preprocessing import image\n",
        "\n",
        "# Set paths\n",
        "data_folder = \"/content/drive/MyDrive/Copy_of_drone_data\"\n",
        "not_drone_output_folder = \"/content/drive/MyDrive/Not_Drone_Crop\"\n",
        "\n",
        "# Get a list of all image files in the data folder\n",
        "all_images = [file for file in os.listdir(data_folder) if file.endswith(\".jpg\")]\n",
        "\n",
        "processed_not_drone_data = []\n",
        "\n",
        "# Function to process the image (random cropping with the same quadratic resolution)\n",
        "def process_image(image_name, output_folder, label):\n",
        "    # Read the image\n",
        "    img_path = os.path.join(data_folder, image_name)\n",
        "    img = cv2.imread(img_path)\n",
        "\n",
        "    # Check if the image is successfully loaded\n",
        "    if img is not None:\n",
        "        # Get the dimensions of the image\n",
        "        img_height, img_width, _ = img.shape\n",
        "\n",
        "        # Ensure the crop size is smaller than the image dimensions\n",
        "        crop_size = min(img_height, img_width)\n",
        "\n",
        "        # Perform random cropping with the same quadratic resolution\n",
        "        x_start = np.random.randint(0, img_width - crop_size + 1)\n",
        "        y_start = np.random.randint(0, img_height - crop_size + 1)\n",
        "        crop_img = img[y_start:y_start + crop_size, x_start:x_start + crop_size]\n",
        "\n",
        "        # Convert the cropped image to black and white\n",
        "        gray_img = cv2.cvtColor(crop_img, cv2.COLOR_BGR2GRAY)\n",
        "\n",
        "        # Resize the image to a quadratic form (28x28)\n",
        "        resized_img = cv2.resize(gray_img, (28, 28))\n",
        "\n",
        "        # Save the processed image\n",
        "        output_path = os.path.join(output_folder, image_name.replace(\".jpg\", \"_processed.jpg\"))\n",
        "        cv2.imwrite(output_path, resized_img)\n",
        "\n",
        "        # Append the processed data to the list\n",
        "        processed_data = {\"image_path\": output_path, \"label\": label}\n",
        "        processed_not_drone_data.append(processed_data)\n",
        "    else:\n",
        "        print(f\"Error: Unable to read image {image_name}\")\n",
        "\n",
        "# Process each image for not drones\n",
        "for img_name in all_images:\n",
        "    process_image(img_name, not_drone_output_folder, \"not_drone\")\n",
        "\n",
        "# Display only 5 processed not drone images\n",
        "print(\"Processed Not Drone Images (Displaying 5):\")\n",
        "for item in processed_not_drone_data[:5]:\n",
        "    img = image.load_img(item[\"image_path\"])\n",
        "    display(img)\n"
      ],
      "metadata": {
        "colab": {
          "base_uri": "https://localhost:8080/",
          "height": 174
        },
        "id": "e2K-n0vQqZ7n",
        "outputId": "1c6860b9-5d59-4c1f-daca-accc7edfd771"
      },
      "execution_count": 16,
      "outputs": [
        {
          "output_type": "stream",
          "name": "stdout",
          "text": [
            "Processed Not Drone Images (Displaying 5):\n"
          ]
        },
        {
          "output_type": "display_data",
          "data": {
            "text/plain": [
              "<PIL.Image.Image image mode=RGB size=28x28>"
            ],
            "image/png": "[encoded data removed]"
          },
          "metadata": {}
        },
        {
          "output_type": "display_data",
          "data": {
            "text/plain": [
              "<PIL.Image.Image image mode=RGB size=28x28>"
            ],
            "image/png": "[encoded data removed]"
          },
          "metadata": {}
        },
        {
          "output_type": "display_data",
          "data": {
            "text/plain": [
              "<PIL.Image.Image image mode=RGB size=28x28>"
            ],
            "image/png": "[encoded data removed]"
          },
          "metadata": {}
        },
        {
          "output_type": "display_data",
          "data": {
            "text/plain": [
              "<PIL.Image.Image image mode=RGB size=28x28>"
            ],
            "image/png": "[encoded data removed]"
          },
          "metadata": {}
        },
        {
          "output_type": "display_data",
          "data": {
            "text/plain": [
              "<PIL.Image.Image image mode=RGB size=28x28>"
            ],
            "image/png": "[encoded data removed]"
          },
          "metadata": {}
        }
      ]
    },
    {
      "cell_type": "code",
      "source": [
        "import os\n",
        "import cv2\n",
        "import numpy as np\n",
        "from keras.preprocessing import image\n",
        "from random import sample, randint\n",
        "\n",
        "# Set paths\n",
        "data_folder = \"/content/drive/MyDrive/Copy_of_drone_data\"\n",
        "not_drone_output_folder = \"/content/drive/MyDrive/Not_Drone_Crop\"\n",
        "\n",
        "# Get a list of all image files in the data folder\n",
        "all_images = [file for file in os.listdir(data_folder) if file.endswith(\".jpg\")]\n",
        "\n",
        "# Choose 10 random images\n",
        "random_images = sample(all_images, 10)\n",
        "\n",
        "processed_not_drone_data = []\n",
        "\n",
        "# Function to process the image (random cropping with a size of 28x28)\n",
        "def process_image(image_name, output_folder, label):\n",
        "    # Read the image\n",
        "    img_path = os.path.join(data_folder, image_name)\n",
        "    img = cv2.imread(img_path)\n",
        "\n",
        "    # Check if the image is successfully loaded\n",
        "    if img is not None:\n",
        "        # Get the dimensions of the image\n",
        "        img_height, img_width, _ = img.shape\n",
        "\n",
        "        # Set a random crop size (between 28 and the minimum of height and width)\n",
        "        crop_size = min(img_height, img_width, 28)  # Ensure the crop size is at most 28\n",
        "        x_start = randint(0, img_width - crop_size)\n",
        "        y_start = randint(0, img_height - crop_size)\n",
        "\n",
        "        # Crop the image\n",
        "        crop_img = img[y_start:y_start + crop_size, x_start:x_start + crop_size]\n",
        "\n",
        "        # Convert the cropped image to black and white\n",
        "        gray_img = cv2.cvtColor(crop_img, cv2.COLOR_BGR2GRAY)\n",
        "\n",
        "        # Resize the image to a quadratic form (28x28)\n",
        "        resized_img = cv2.resize(gray_img, (28, 28))\n",
        "\n",
        "        # Save the processed image\n",
        "        output_path = os.path.join(output_folder, image_name.replace(\".jpg\", \"_processed.jpg\"))\n",
        "        cv2.imwrite(output_path, resized_img)\n",
        "\n",
        "        # Append the processed data to the list\n",
        "        processed_data = {\"image_path\": output_path, \"label\": label}\n",
        "        processed_not_drone_data.append(processed_data)\n",
        "    else:\n",
        "        print(f\"Error: Unable to read image {image_name}\")\n",
        "\n",
        "# Process each random image for not drones\n",
        "for img_name in random_images:\n",
        "    process_image(img_name, not_drone_output_folder, \"not_drone\")\n",
        "\n",
        "# Display the processed not drone images\n",
        "print(\"Processed Not Drone Images:\")\n",
        "for item in processed_not_drone_data:\n",
        "    img = image.load_img(item[\"image_path\"])\n",
        "    display(img)\n"
      ],
      "metadata": {
        "colab": {
          "base_uri": "https://localhost:8080/",
          "height": 314
        },
        "id": "VBn9LzqKtAnk",
        "outputId": "fd6cf785-b7ac-4e51-e7d2-69b6a2b38e41"
      },
      "execution_count": 17,
      "outputs": [
        {
          "output_type": "stream",
          "name": "stdout",
          "text": [
            "Processed Not Drone Images:\n"
          ]
        },
        {
          "output_type": "display_data",
          "data": {
            "text/plain": [
              "<PIL.Image.Image image mode=RGB size=28x28>"
            ],
            "image/png": "[encoded data removed]"
          },
          "metadata": {}
        },
        {
          "output_type": "display_data",
          "data": {
            "text/plain": [
              "<PIL.Image.Image image mode=RGB size=28x28>"
            ],
            "image/png": "[encoded data removed]"
          },
          "metadata": {}
        },
        {
          "output_type": "display_data",
          "data": {
            "text/plain": [
              "<PIL.Image.Image image mode=RGB size=28x28>"
            ],
            "image/png": "[encoded data removed]"
          },
          "metadata": {}
        },
        {
          "output_type": "display_data",
          "data": {
            "text/plain": [
              "<PIL.Image.Image image mode=RGB size=28x28>"
            ],
            "image/png": "[encoded data removed]"
          },
          "metadata": {}
        },
        {
          "output_type": "display_data",
          "data": {
            "text/plain": [
              "<PIL.Image.Image image mode=RGB size=28x28>"
            ],
            "image/png": "[encoded data removed]"
          },
          "metadata": {}
        },
        {
          "output_type": "display_data",
          "data": {
            "text/plain": [
              "<PIL.Image.Image image mode=RGB size=28x28>"
            ],
            "image/png": "[encoded data removed]"
          },
          "metadata": {}
        },
        {
          "output_type": "display_data",
          "data": {
            "text/plain": [
              "<PIL.Image.Image image mode=RGB size=28x28>"
            ],
            "image/png": "[encoded data removed]"
          },
          "metadata": {}
        },
        {
          "output_type": "display_data",
          "data": {
            "text/plain": [
              "<PIL.Image.Image image mode=RGB size=28x28>"
            ],
            "image/png": "[encoded data removed]"
          },
          "metadata": {}
        },
        {
          "output_type": "display_data",
          "data": {
            "text/plain": [
              "<PIL.Image.Image image mode=RGB size=28x28>"
            ],
            "image/png": "[encoded data removed]"
          },
          "metadata": {}
        },
        {
          "output_type": "display_data",
          "data": {
            "text/plain": [
              "<PIL.Image.Image image mode=RGB size=28x28>"
            ],
            "image/png": "[encoded data removed]"
          },
          "metadata": {}
        }
      ]
    },
    {
      "cell_type": "code",
      "source": [
        "import os\n",
        "import cv2\n",
        "import numpy as np\n",
        "from keras.preprocessing import image\n",
        "from random import sample, randint\n",
        "\n",
        "# Set paths\n",
        "data_folder = \"/content/drive/MyDrive/Copy_of_drone_data\"\n",
        "not_drone_output_folder = \"/content/drive/MyDrive/Not_Drone_Crop\"\n",
        "\n",
        "# Get a list of all image files in the data folder\n",
        "all_images = [file for file in os.listdir(data_folder) if file.endswith(\".jpg\")]\n",
        "\n",
        "processed_not_drone_data = []\n",
        "\n",
        "# Function to process the image (random cropping with a size of 28x28)\n",
        "def process_image(image_name, output_folder, label):\n",
        "    # Read the image\n",
        "    img_path = os.path.join(data_folder, image_name)\n",
        "    img = cv2.imread(img_path)\n",
        "\n",
        "    # Check if the image is successfully loaded\n",
        "    if img is not None:\n",
        "        # Get the dimensions of the image\n",
        "        img_height, img_width, _ = img.shape\n",
        "\n",
        "        # Set a random crop size (between 28 and the minimum of height and width)\n",
        "        crop_size = min(img_height, img_width, 28)  # Ensure the crop size is at most 28\n",
        "        x_start = randint(0, img_width - crop_size)\n",
        "        y_start = randint(0, img_height - crop_size)\n",
        "\n",
        "        # Crop the image\n",
        "        crop_img = img[y_start:y_start + crop_size, x_start:x_start + crop_size]\n",
        "\n",
        "        # Convert the cropped image to black and white\n",
        "        gray_img = cv2.cvtColor(crop_img, cv2.COLOR_BGR2GRAY)\n",
        "\n",
        "        # Resize the image to a quadratic form (28x28)\n",
        "        resized_img = cv2.resize(gray_img, (28, 28))\n",
        "\n",
        "        # Save the processed image\n",
        "        output_path = os.path.join(output_folder, image_name.replace(\".jpg\", \"_processed.jpg\"))\n",
        "        cv2.imwrite(output_path, resized_img)\n",
        "\n",
        "        # Append the processed data to the list\n",
        "        processed_data = {\"image_path\": output_path, \"label\": label}\n",
        "        processed_not_drone_data.append(processed_data)\n",
        "    else:\n",
        "        print(f\"Error: Unable to read image {image_name}\")\n",
        "\n",
        "# Process each image for not drones\n",
        "for img_name in all_images:\n",
        "    process_image(img_name, not_drone_output_folder, \"not_drone\")\n",
        "\n",
        "# Display 10 random processed not drone images\n",
        "random_processed_not_drone_images = sample(processed_not_drone_data, 10)\n",
        "print(\"Random Processed Not Drone Images:\")\n",
        "for item in random_processed_not_drone_images:\n",
        "    img = image.load_img(item[\"image_path\"])\n",
        "    display(img)\n"
      ],
      "metadata": {
        "colab": {
          "base_uri": "https://localhost:8080/",
          "height": 314
        },
        "id": "7VjESVzXt6lX",
        "outputId": "7479053a-5ee4-45c8-ffb8-f4681af47d0f"
      },
      "execution_count": 19,
      "outputs": [
        {
          "output_type": "stream",
          "name": "stdout",
          "text": [
            "Random Processed Not Drone Images:\n"
          ]
        },
        {
          "output_type": "display_data",
          "data": {
            "text/plain": [
              "<PIL.Image.Image image mode=RGB size=28x28>"
            ],
            "image/png": "[encoded data removed]"
          },
          "metadata": {}
        },
        {
          "output_type": "display_data",
          "data": {
            "text/plain": [
              "<PIL.Image.Image image mode=RGB size=28x28>"
            ],
            "image/png": "[encoded data removed]"
          },
          "metadata": {}
        },
        {
          "output_type": "display_data",
          "data": {
            "text/plain": [
              "<PIL.Image.Image image mode=RGB size=28x28>"
            ],
            "image/png": "[encoded data removed]"
          },
          "metadata": {}
        },
        {
          "output_type": "display_data",
          "data": {
            "text/plain": [
              "<PIL.Image.Image image mode=RGB size=28x28>"
            ],
            "image/png": "[encoded data removed]"
          },
          "metadata": {}
        },
        {
          "output_type": "display_data",
          "data": {
            "text/plain": [
              "<PIL.Image.Image image mode=RGB size=28x28>"
            ],
            "image/png": "[encoded data removed]"
          },
          "metadata": {}
        },
        {
          "output_type": "display_data",
          "data": {
            "text/plain": [
              "<PIL.Image.Image image mode=RGB size=28x28>"
            ],
            "image/png": "[encoded data removed]"
          },
          "metadata": {}
        },
        {
          "output_type": "display_data",
          "data": {
            "text/plain": [
              "<PIL.Image.Image image mode=RGB size=28x28>"
            ],
            "image/png": "[encoded data removed]"
          },
          "metadata": {}
        },
        {
          "output_type": "display_data",
          "data": {
            "text/plain": [
              "<PIL.Image.Image image mode=RGB size=28x28>"
            ],
            "image/png": "[encoded data removed]"
          },
          "metadata": {}
        },
        {
          "output_type": "display_data",
          "data": {
            "text/plain": [
              "<PIL.Image.Image image mode=RGB size=28x28>"
            ],
            "image/png": "[encoded data removed]"
          },
          "metadata": {}
        },
        {
          "output_type": "display_data",
          "data": {
            "text/plain": [
              "<PIL.Image.Image image mode=RGB size=28x28>"
            ],
            "image/png": "[encoded data removed]"
          },
          "metadata": {}
        }
      ]
    },
    {
      "cell_type": "code",
      "source": [
        "import os\n",
        "import cv2\n",
        "import numpy as np\n",
        "from keras.preprocessing import image\n",
        "from random import sample, randint\n",
        "\n",
        "# Set paths\n",
        "data_folder = \"/content/drive/MyDrive/Copy_of_drone_data\"\n",
        "drone_output_folder = \"/content/drive/MyDrive/Drone_Crop\"\n",
        "\n",
        "# Get a list of all image files in the data folder\n",
        "all_images = [file for file in os.listdir(data_folder) if file.endswith(\".jpg\")]\n",
        "\n",
        "processed_drone_data = []\n",
        "\n",
        "# Function to process the image (random cropping with a size of 28x28)\n",
        "def process_image(image_name, output_folder, label):\n",
        "    # Read the image\n",
        "    img_path = os.path.join(data_folder, image_name)\n",
        "    img = cv2.imread(img_path)\n",
        "\n",
        "    # Check if the image is successfully loaded\n",
        "    if img is not None:\n",
        "        # Get the dimensions of the image\n",
        "        img_height, img_width, _ = img.shape\n",
        "\n",
        "        # Set a random crop size (between 28 and the minimum of height and width)\n",
        "        crop_size = min(img_height, img_width, 28)  # Ensure the crop size is at most 28\n",
        "        x_start = randint(0, img_width - crop_size)\n",
        "        y_start = randint(0, img_height - crop_size)\n",
        "\n",
        "        # Crop the image\n",
        "        crop_img = img[y_start:y_start + crop_size, x_start:x_start + crop_size]\n",
        "\n",
        "        # Convert the cropped image to black and white\n",
        "        gray_img = cv2.cvtColor(crop_img, cv2.COLOR_BGR2GRAY)\n",
        "\n",
        "        # Resize the image to a quadratic form (28x28)\n",
        "        resized_img = cv2.resize(gray_img, (28, 28))\n",
        "\n",
        "        # Save the processed image\n",
        "        output_path = os.path.join(output_folder, image_name.replace(\".jpg\", \"_processed.jpg\"))\n",
        "        cv2.imwrite(output_path, resized_img)\n",
        "\n",
        "        # Append the processed data to the list\n",
        "        processed_data = {\"image_path\": output_path, \"label\": label}\n",
        "        processed_drone_data.append(processed_data)\n",
        "\n",
        "        # Save the label file for drone images\n",
        "        label_file_path = os.path.join(output_folder, image_name.replace(\".jpg\", \".txt\"))\n",
        "        with open(label_file_path, \"w\") as label_file:\n",
        "            # Calculate normalized coordinates\n",
        "            x_normalized = (x_start + crop_size // 2) / img_width\n",
        "            y_normalized = (y_start + crop_size // 2) / img_height\n",
        "            width_normalized = crop_size / img_width\n",
        "            height_normalized = crop_size / img_height\n",
        "\n",
        "            # Write YOLOv8 format to the label file\n",
        "            label_file.write(f\"0 {x_normalized} {y_normalized} {width_normalized} {height_normalized}\\n\")\n",
        "    else:\n",
        "        print(f\"Error: Unable to read image {image_name}\")\n",
        "\n",
        "# Process each image for drones\n",
        "for img_name in all_images:\n",
        "    process_image(img_name, drone_output_folder, \"drone\")\n",
        "\n",
        "# Display 5 processed drone label files\n",
        "print(\"Processed Drone Label Files (Displaying 5):\")\n",
        "drone_label_files = [file.replace(\".jpg\", \".txt\") for file in os.listdir(drone_output_folder)]\n",
        "for label_file_name in sample(drone_label_files, 5):\n",
        "    label_file_path = os.path.join(drone_output_folder, label_file_name)\n",
        "    with open(label_file_path, \"r\") as label_file:\n",
        "        content = label_file.read()\n",
        "        print(f\"Label File: {label_file_name}\")\n",
        "        print(content)\n",
        "        print(\"-----\")\n"
      ],
      "metadata": {
        "colab": {
          "base_uri": "https://localhost:8080/",
          "height": 1000
        },
        "id": "IRRON2Mzg5EW",
        "outputId": "e8f70991-9b37-43a2-a36a-ea27266e6d23"
      },
      "execution_count": 1,
      "outputs": [
        {
          "output_type": "stream",
          "name": "stderr",
          "text": [
            "ERROR:root:Internal Python error in the inspect module.\n",
            "Below is the traceback from this internal error.\n",
            "\n"
          ]
        },
        {
          "output_type": "stream",
          "name": "stdout",
          "text": [
            "Traceback (most recent call last):\n",
            "  File \"/usr/local/lib/python3.10/dist-packages/IPython/core/interactiveshell.py\", line 3553, in run_code\n",
            "    exec(code_obj, self.user_global_ns, self.user_ns)\n",
            "  File \"<ipython-input-1-d1b15015e577>\", line 65, in <cell line: 64>\n",
            "    process_image(img_name, drone_output_folder, \"drone\")\n",
            "  File \"<ipython-input-1-d1b15015e577>\", line 43, in process_image\n",
            "    cv2.imwrite(output_path, resized_img)\n",
            "KeyboardInterrupt\n",
            "\n",
            "During handling of the above exception, another exception occurred:\n",
            "\n",
            "Traceback (most recent call last):\n",
            "  File \"/usr/local/lib/python3.10/dist-packages/IPython/core/interactiveshell.py\", line 2099, in showtraceback\n",
            "    stb = value._render_traceback_()\n",
            "AttributeError: 'KeyboardInterrupt' object has no attribute '_render_traceback_'\n",
            "\n",
            "During handling of the above exception, another exception occurred:\n",
            "\n",
            "Traceback (most recent call last):\n",
            "  File \"/usr/local/lib/python3.10/dist-packages/IPython/core/ultratb.py\", line 1101, in get_records\n",
            "    return _fixed_getinnerframes(etb, number_of_lines_of_context, tb_offset)\n",
            "  File \"/usr/local/lib/python3.10/dist-packages/IPython/core/ultratb.py\", line 248, in wrapped\n",
            "    return f(*args, **kwargs)\n",
            "  File \"/usr/local/lib/python3.10/dist-packages/IPython/core/ultratb.py\", line 281, in _fixed_getinnerframes\n",
            "    records = fix_frame_records_filenames(inspect.getinnerframes(etb, context))\n",
            "  File \"/usr/lib/python3.10/inspect.py\", line 1662, in getinnerframes\n",
            "    frameinfo = (tb.tb_frame,) + getframeinfo(tb, context)\n",
            "  File \"/usr/lib/python3.10/inspect.py\", line 1620, in getframeinfo\n",
            "    filename = getsourcefile(frame) or getfile(frame)\n",
            "  File \"/usr/lib/python3.10/inspect.py\", line 829, in getsourcefile\n",
            "    module = getmodule(object, filename)\n",
            "  File \"/usr/lib/python3.10/inspect.py\", line 875, in getmodule\n",
            "    f = getabsfile(module)\n",
            "  File \"/usr/lib/python3.10/inspect.py\", line 845, in getabsfile\n",
            "    return os.path.normcase(os.path.abspath(_filename))\n",
            "  File \"/usr/lib/python3.10/posixpath.py\", line 54, in normcase\n",
            "    return os.fspath(s)\n",
            "KeyboardInterrupt\n"
          ]
        },
        {
          "output_type": "error",
          "ename": "TypeError",
          "evalue": "ignored",
          "traceback": [
            "\u001b[0;31m---------------------------------------------------------------------------\u001b[0m",
            "\u001b[0;31mKeyboardInterrupt\u001b[0m                         Traceback (most recent call last)",
            "    \u001b[0;31m[... skipping hidden 1 frame]\u001b[0m\n",
            "\u001b[0;32m<ipython-input-1-d1b15015e577>\u001b[0m in \u001b[0;36m<cell line: 64>\u001b[0;34m()\u001b[0m\n\u001b[1;32m     64\u001b[0m \u001b[0;32mfor\u001b[0m \u001b[0mimg_name\u001b[0m \u001b[0;32min\u001b[0m \u001b[0mall_images\u001b[0m\u001b[0;34m:\u001b[0m\u001b[0;34m\u001b[0m\u001b[0;34m\u001b[0m\u001b[0m\n\u001b[0;32m---> 65\u001b[0;31m     \u001b[0mprocess_image\u001b[0m\u001b[0;34m(\u001b[0m\u001b[0mimg_name\u001b[0m\u001b[0;34m,\u001b[0m \u001b[0mdrone_output_folder\u001b[0m\u001b[0;34m,\u001b[0m \u001b[0;34m\"drone\"\u001b[0m\u001b[0;34m)\u001b[0m\u001b[0;34m\u001b[0m\u001b[0;34m\u001b[0m\u001b[0m\n\u001b[0m\u001b[1;32m     66\u001b[0m \u001b[0;34m\u001b[0m\u001b[0m\n",
            "\u001b[0;32m<ipython-input-1-d1b15015e577>\u001b[0m in \u001b[0;36mprocess_image\u001b[0;34m(image_name, output_folder, label)\u001b[0m\n\u001b[1;32m     42\u001b[0m         \u001b[0moutput_path\u001b[0m \u001b[0;34m=\u001b[0m \u001b[0mos\u001b[0m\u001b[0;34m.\u001b[0m\u001b[0mpath\u001b[0m\u001b[0;34m.\u001b[0m\u001b[0mjoin\u001b[0m\u001b[0;34m(\u001b[0m\u001b[0moutput_folder\u001b[0m\u001b[0;34m,\u001b[0m \u001b[0mimage_name\u001b[0m\u001b[0;34m.\u001b[0m\u001b[0mreplace\u001b[0m\u001b[0;34m(\u001b[0m\u001b[0;34m\".jpg\"\u001b[0m\u001b[0;34m,\u001b[0m \u001b[0;34m\"_processed.jpg\"\u001b[0m\u001b[0;34m)\u001b[0m\u001b[0;34m)\u001b[0m\u001b[0;34m\u001b[0m\u001b[0;34m\u001b[0m\u001b[0m\n\u001b[0;32m---> 43\u001b[0;31m         \u001b[0mcv2\u001b[0m\u001b[0;34m.\u001b[0m\u001b[0mimwrite\u001b[0m\u001b[0;34m(\u001b[0m\u001b[0moutput_path\u001b[0m\u001b[0;34m,\u001b[0m \u001b[0mresized_img\u001b[0m\u001b[0;34m)\u001b[0m\u001b[0;34m\u001b[0m\u001b[0;34m\u001b[0m\u001b[0m\n\u001b[0m\u001b[1;32m     44\u001b[0m \u001b[0;34m\u001b[0m\u001b[0m\n",
            "\u001b[0;31mKeyboardInterrupt\u001b[0m: ",
            "\nDuring handling of the above exception, another exception occurred:\n",
            "\u001b[0;31mAttributeError\u001b[0m                            Traceback (most recent call last)",
            "\u001b[0;32m/usr/local/lib/python3.10/dist-packages/IPython/core/interactiveshell.py\u001b[0m in \u001b[0;36mshowtraceback\u001b[0;34m(self, exc_tuple, filename, tb_offset, exception_only, running_compiled_code)\u001b[0m\n\u001b[1;32m   2098\u001b[0m                         \u001b[0;31m# in the engines. This should return a list of strings.\u001b[0m\u001b[0;34m\u001b[0m\u001b[0;34m\u001b[0m\u001b[0m\n\u001b[0;32m-> 2099\u001b[0;31m                         \u001b[0mstb\u001b[0m \u001b[0;34m=\u001b[0m \u001b[0mvalue\u001b[0m\u001b[0;34m.\u001b[0m\u001b[0m_render_traceback_\u001b[0m\u001b[0;34m(\u001b[0m\u001b[0;34m)\u001b[0m\u001b[0;34m\u001b[0m\u001b[0;34m\u001b[0m\u001b[0m\n\u001b[0m\u001b[1;32m   2100\u001b[0m                     \u001b[0;32mexcept\u001b[0m \u001b[0mException\u001b[0m\u001b[0;34m:\u001b[0m\u001b[0;34m\u001b[0m\u001b[0;34m\u001b[0m\u001b[0m\n",
            "\u001b[0;31mAttributeError\u001b[0m: 'KeyboardInterrupt' object has no attribute '_render_traceback_'",
            "\nDuring handling of the above exception, another exception occurred:\n",
            "\u001b[0;31mTypeError\u001b[0m                                 Traceback (most recent call last)",
            "    \u001b[0;31m[... skipping hidden 1 frame]\u001b[0m\n",
            "\u001b[0;32m/usr/local/lib/python3.10/dist-packages/IPython/core/interactiveshell.py\u001b[0m in \u001b[0;36mshowtraceback\u001b[0;34m(self, exc_tuple, filename, tb_offset, exception_only, running_compiled_code)\u001b[0m\n\u001b[1;32m   2099\u001b[0m                         \u001b[0mstb\u001b[0m \u001b[0;34m=\u001b[0m \u001b[0mvalue\u001b[0m\u001b[0;34m.\u001b[0m\u001b[0m_render_traceback_\u001b[0m\u001b[0;34m(\u001b[0m\u001b[0;34m)\u001b[0m\u001b[0;34m\u001b[0m\u001b[0;34m\u001b[0m\u001b[0m\n\u001b[1;32m   2100\u001b[0m                     \u001b[0;32mexcept\u001b[0m \u001b[0mException\u001b[0m\u001b[0;34m:\u001b[0m\u001b[0;34m\u001b[0m\u001b[0;34m\u001b[0m\u001b[0m\n\u001b[0;32m-> 2101\u001b[0;31m                         stb = self.InteractiveTB.structured_traceback(etype,\n\u001b[0m\u001b[1;32m   2102\u001b[0m                                             value, tb, tb_offset=tb_offset)\n\u001b[1;32m   2103\u001b[0m \u001b[0;34m\u001b[0m\u001b[0m\n",
            "\u001b[0;32m/usr/local/lib/python3.10/dist-packages/IPython/core/ultratb.py\u001b[0m in \u001b[0;36mstructured_traceback\u001b[0;34m(self, etype, value, tb, tb_offset, number_of_lines_of_context)\u001b[0m\n\u001b[1;32m   1365\u001b[0m         \u001b[0;32melse\u001b[0m\u001b[0;34m:\u001b[0m\u001b[0;34m\u001b[0m\u001b[0;34m\u001b[0m\u001b[0m\n\u001b[1;32m   1366\u001b[0m             \u001b[0mself\u001b[0m\u001b[0;34m.\u001b[0m\u001b[0mtb\u001b[0m \u001b[0;34m=\u001b[0m \u001b[0mtb\u001b[0m\u001b[0;34m\u001b[0m\u001b[0;34m\u001b[0m\u001b[0m\n\u001b[0;32m-> 1367\u001b[0;31m         return FormattedTB.structured_traceback(\n\u001b[0m\u001b[1;32m   1368\u001b[0m             self, etype, value, tb, tb_offset, number_of_lines_of_context)\n\u001b[1;32m   1369\u001b[0m \u001b[0;34m\u001b[0m\u001b[0m\n",
            "\u001b[0;32m/usr/local/lib/python3.10/dist-packages/IPython/core/ultratb.py\u001b[0m in \u001b[0;36mstructured_traceback\u001b[0;34m(self, etype, value, tb, tb_offset, number_of_lines_of_context)\u001b[0m\n\u001b[1;32m   1265\u001b[0m         \u001b[0;32mif\u001b[0m \u001b[0mmode\u001b[0m \u001b[0;32min\u001b[0m \u001b[0mself\u001b[0m\u001b[0;34m.\u001b[0m\u001b[0mverbose_modes\u001b[0m\u001b[0;34m:\u001b[0m\u001b[0;34m\u001b[0m\u001b[0;34m\u001b[0m\u001b[0m\n\u001b[1;32m   1266\u001b[0m             \u001b[0;31m# Verbose modes need a full traceback\u001b[0m\u001b[0;34m\u001b[0m\u001b[0;34m\u001b[0m\u001b[0m\n\u001b[0;32m-> 1267\u001b[0;31m             return VerboseTB.structured_traceback(\n\u001b[0m\u001b[1;32m   1268\u001b[0m                 \u001b[0mself\u001b[0m\u001b[0;34m,\u001b[0m \u001b[0metype\u001b[0m\u001b[0;34m,\u001b[0m \u001b[0mvalue\u001b[0m\u001b[0;34m,\u001b[0m \u001b[0mtb\u001b[0m\u001b[0;34m,\u001b[0m \u001b[0mtb_offset\u001b[0m\u001b[0;34m,\u001b[0m \u001b[0mnumber_of_lines_of_context\u001b[0m\u001b[0;34m\u001b[0m\u001b[0;34m\u001b[0m\u001b[0m\n\u001b[1;32m   1269\u001b[0m             )\n",
            "\u001b[0;32m/usr/local/lib/python3.10/dist-packages/IPython/core/ultratb.py\u001b[0m in \u001b[0;36mstructured_traceback\u001b[0;34m(self, etype, evalue, etb, tb_offset, number_of_lines_of_context)\u001b[0m\n\u001b[1;32m   1122\u001b[0m         \u001b[0;34m\"\"\"Return a nice text document describing the traceback.\"\"\"\u001b[0m\u001b[0;34m\u001b[0m\u001b[0;34m\u001b[0m\u001b[0m\n\u001b[1;32m   1123\u001b[0m \u001b[0;34m\u001b[0m\u001b[0m\n\u001b[0;32m-> 1124\u001b[0;31m         formatted_exception = self.format_exception_as_a_whole(etype, evalue, etb, number_of_lines_of_context,\n\u001b[0m\u001b[1;32m   1125\u001b[0m                                                                tb_offset)\n\u001b[1;32m   1126\u001b[0m \u001b[0;34m\u001b[0m\u001b[0m\n",
            "\u001b[0;32m/usr/local/lib/python3.10/dist-packages/IPython/core/ultratb.py\u001b[0m in \u001b[0;36mformat_exception_as_a_whole\u001b[0;34m(self, etype, evalue, etb, number_of_lines_of_context, tb_offset)\u001b[0m\n\u001b[1;32m   1080\u001b[0m \u001b[0;34m\u001b[0m\u001b[0m\n\u001b[1;32m   1081\u001b[0m \u001b[0;34m\u001b[0m\u001b[0m\n\u001b[0;32m-> 1082\u001b[0;31m         \u001b[0mlast_unique\u001b[0m\u001b[0;34m,\u001b[0m \u001b[0mrecursion_repeat\u001b[0m \u001b[0;34m=\u001b[0m \u001b[0mfind_recursion\u001b[0m\u001b[0;34m(\u001b[0m\u001b[0morig_etype\u001b[0m\u001b[0;34m,\u001b[0m \u001b[0mevalue\u001b[0m\u001b[0;34m,\u001b[0m \u001b[0mrecords\u001b[0m\u001b[0;34m)\u001b[0m\u001b[0;34m\u001b[0m\u001b[0;34m\u001b[0m\u001b[0m\n\u001b[0m\u001b[1;32m   1083\u001b[0m \u001b[0;34m\u001b[0m\u001b[0m\n\u001b[1;32m   1084\u001b[0m         \u001b[0mframes\u001b[0m \u001b[0;34m=\u001b[0m \u001b[0mself\u001b[0m\u001b[0;34m.\u001b[0m\u001b[0mformat_records\u001b[0m\u001b[0;34m(\u001b[0m\u001b[0mrecords\u001b[0m\u001b[0;34m,\u001b[0m \u001b[0mlast_unique\u001b[0m\u001b[0;34m,\u001b[0m \u001b[0mrecursion_repeat\u001b[0m\u001b[0;34m)\u001b[0m\u001b[0;34m\u001b[0m\u001b[0;34m\u001b[0m\u001b[0m\n",
            "\u001b[0;32m/usr/local/lib/python3.10/dist-packages/IPython/core/ultratb.py\u001b[0m in \u001b[0;36mfind_recursion\u001b[0;34m(etype, value, records)\u001b[0m\n\u001b[1;32m    380\u001b[0m     \u001b[0;31m# first frame (from in to out) that looks different.\u001b[0m\u001b[0;34m\u001b[0m\u001b[0;34m\u001b[0m\u001b[0m\n\u001b[1;32m    381\u001b[0m     \u001b[0;32mif\u001b[0m \u001b[0;32mnot\u001b[0m \u001b[0mis_recursion_error\u001b[0m\u001b[0;34m(\u001b[0m\u001b[0metype\u001b[0m\u001b[0;34m,\u001b[0m \u001b[0mvalue\u001b[0m\u001b[0;34m,\u001b[0m \u001b[0mrecords\u001b[0m\u001b[0;34m)\u001b[0m\u001b[0;34m:\u001b[0m\u001b[0;34m\u001b[0m\u001b[0;34m\u001b[0m\u001b[0m\n\u001b[0;32m--> 382\u001b[0;31m         \u001b[0;32mreturn\u001b[0m \u001b[0mlen\u001b[0m\u001b[0;34m(\u001b[0m\u001b[0mrecords\u001b[0m\u001b[0;34m)\u001b[0m\u001b[0;34m,\u001b[0m \u001b[0;36m0\u001b[0m\u001b[0;34m\u001b[0m\u001b[0;34m\u001b[0m\u001b[0m\n\u001b[0m\u001b[1;32m    383\u001b[0m \u001b[0;34m\u001b[0m\u001b[0m\n\u001b[1;32m    384\u001b[0m     \u001b[0;31m# Select filename, lineno, func_name to track frames with\u001b[0m\u001b[0;34m\u001b[0m\u001b[0;34m\u001b[0m\u001b[0m\n",
            "\u001b[0;31mTypeError\u001b[0m: object of type 'NoneType' has no len()"
          ]
        }
      ]
    },
    {
      "cell_type": "code",
      "source": [
        "import os\n",
        "import cv2\n",
        "import numpy as np\n",
        "from keras.preprocessing import image\n",
        "from random import sample, randint\n",
        "\n",
        "# Set paths\n",
        "data_folder = \"/content/drive/MyDrive/Copy_of_drone_data\"\n",
        "drone_output_folder = \"/content/drive/MyDrive/Drone_Crop\"\n",
        "\n",
        "# Get a list of all image files in the data folder\n",
        "all_images = [file for file in os.listdir(data_folder) if file.endswith(\".jpg\")]\n",
        "\n",
        "processed_drone_data = []\n",
        "\n",
        "# Function to process the image (crop, resize, save, and save label in YOLOv8 format)\n",
        "def process_image(image_name, output_folder):\n",
        "    # Read the image\n",
        "    img_path = os.path.join(data_folder, image_name)\n",
        "    img = cv2.imread(img_path)\n",
        "\n",
        "    # Check if the image is successfully loaded\n",
        "    if img is not None:\n",
        "        # Get the dimensions of the image\n",
        "        img_height, img_width, _ = img.shape\n",
        "\n",
        "        # Set a random crop size (between 28 and the minimum of height and width)\n",
        "        crop_size = min(img_height, img_width, 28)  # Ensure the crop size is at most 28\n",
        "        x_start = randint(0, img_width - crop_size)\n",
        "        y_start = randint(0, img_height - crop_size)\n",
        "\n",
        "        # Crop the image\n",
        "        crop_img = img[y_start:y_start + crop_size, x_start:x_start + crop_size]\n",
        "\n",
        "        # Convert the cropped image to black and white\n",
        "        gray_img = cv2.cvtColor(crop_img, cv2.COLOR_BGR2GRAY)\n",
        "\n",
        "        # Resize the image to a quadratic form (28x28)\n",
        "        resized_img = cv2.resize(gray_img, (28, 28))\n",
        "\n",
        "        # Save the processed image\n",
        "        output_path = os.path.join(output_folder, image_name.replace(\".jpg\", \"_processed.jpg\"))\n",
        "        cv2.imwrite(output_path, resized_img)\n",
        "\n",
        "        # Save the label file for drone images\n",
        "        label_file_path = os.path.join(output_folder, image_name.replace(\".jpg\", \".txt\"))\n",
        "        with open(label_file_path, \"w\") as label_file:\n",
        "            # Calculate normalized coordinates\n",
        "            x_normalized = (x_start + crop_size // 2) / img_width\n",
        "            y_normalized = (y_start + crop_size // 2) / img_height\n",
        "            width_normalized = crop_size / img_width\n",
        "            height_normalized = crop_size / img_height\n",
        "\n",
        "            # Write YOLOv8 format to the label file\n",
        "            label_file.write(f\"0 {x_normalized} {y_normalized} {width_normalized} {height_normalized}\\n\")\n",
        "\n",
        "        # Append the processed data to the list\n",
        "        processed_data = {\"image_path\": output_path, \"label_file_path\": label_file_path}\n",
        "        processed_drone_data.append(processed_data)\n",
        "    else:\n",
        "        print(f\"Error: Unable to read image {image_name}\")\n",
        "\n",
        "# Process 10 images for drones\n",
        "selected_images = sample(all_images, 10)\n",
        "for img_name in selected_images:\n",
        "    process_image(img_name, drone_output_folder)\n",
        "\n",
        "# Display processed drone images along with their labels\n",
        "for item in processed_drone_data:\n",
        "    img = image.load_img(item[\"image_path\"])\n",
        "    label_file_path = item[\"label_file_path\"]\n",
        "    with open(label_file_path, \"r\") as label_file:\n",
        "        label_content = label_file.read()\n",
        "        print(f\"Image: {item['image_path']}\")\n",
        "        print(f\"Label Content:\\n{label_content}\")\n",
        "        display(img)\n",
        "        print(\"-----\")\n"
      ],
      "metadata": {
        "colab": {
          "base_uri": "https://localhost:8080/",
          "height": 1000
        },
        "id": "maaV5OHMhy4i",
        "outputId": "f8c146e6-b25b-49aa-8e40-ccc6a26dae58"
      },
      "execution_count": 3,
      "outputs": [
        {
          "output_type": "stream",
          "name": "stdout",
          "text": [
            "Image: /content/drive/MyDrive/Drone_Crop/DJI_FPV_Sunny (9)_processed.jpg\n",
            "Label Content:\n",
            "0 0.5444444444444444 0.53046875 0.03888888888888889 0.021875\n",
            "\n"
          ]
        },
        {
          "output_type": "display_data",
          "data": {
            "text/plain": [
              "<PIL.Image.Image image mode=RGB size=28x28>"
            ],
            "image/png": "[encoded data removed]"
          },
          "metadata": {}
        },
        {
          "output_type": "stream",
          "name": "stdout",
          "text": [
            "-----\n",
            "Image: /content/drive/MyDrive/Drone_Crop/video18_1216_processed.jpg\n",
            "Label Content:\n",
            "0 0.79296875 0.775 0.021875 0.03888888888888889\n",
            "\n"
          ]
        },
        {
          "output_type": "display_data",
          "data": {
            "text/plain": [
              "<PIL.Image.Image image mode=RGB size=28x28>"
            ],
            "image/png": "[encoded data removed]"
          },
          "metadata": {}
        },
        {
          "output_type": "stream",
          "name": "stdout",
          "text": [
            "-----\n",
            "Image: /content/drive/MyDrive/Drone_Crop/DJI_FPV_Cloudy (813)_processed.jpg\n",
            "Label Content:\n",
            "0 0.9375 0.5333333333333333 0.011666666666666667 0.025925925925925925\n",
            "\n"
          ]
        },
        {
          "output_type": "display_data",
          "data": {
            "text/plain": [
              "<PIL.Image.Image image mode=RGB size=28x28>"
            ],
            "image/png": "[encoded data removed]"
          },
          "metadata": {}
        },
        {
          "output_type": "stream",
          "name": "stdout",
          "text": [
            "-----\n",
            "Image: /content/drive/MyDrive/Drone_Crop/video19_2642_processed.jpg\n",
            "Label Content:\n",
            "0 0.69453125 0.6236111111111111 0.021875 0.03888888888888889\n",
            "\n"
          ]
        },
        {
          "output_type": "display_data",
          "data": {
            "text/plain": [
              "<PIL.Image.Image image mode=RGB size=28x28>"
            ],
            "image/png": "[encoded data removed]"
          },
          "metadata": {}
        },
        {
          "output_type": "stream",
          "name": "stdout",
          "text": [
            "-----\n",
            "Image: /content/drive/MyDrive/Drone_Crop/DJI_FPV_Evening (1139)_processed.jpg\n",
            "Label Content:\n",
            "0 0.055 0.42962962962962964 0.011666666666666667 0.025925925925925925\n",
            "\n"
          ]
        },
        {
          "output_type": "display_data",
          "data": {
            "text/plain": [
              "<PIL.Image.Image image mode=RGB size=28x28>"
            ],
            "image/png": "[encoded data removed]"
          },
          "metadata": {}
        },
        {
          "output_type": "stream",
          "name": "stdout",
          "text": [
            "-----\n",
            "Image: /content/drive/MyDrive/Drone_Crop/DJI_FPV_Cloudy (661)_processed.jpg\n",
            "Label Content:\n",
            "0 0.6120833333333333 0.8074074074074075 0.011666666666666667 0.025925925925925925\n",
            "\n"
          ]
        },
        {
          "output_type": "display_data",
          "data": {
            "text/plain": [
              "<PIL.Image.Image image mode=RGB size=28x28>"
            ],
            "image/png": "[encoded data removed]"
          },
          "metadata": {}
        },
        {
          "output_type": "stream",
          "name": "stdout",
          "text": [
            "-----\n",
            "Image: /content/drive/MyDrive/Drone_Crop/MAVIC_Air_Cloudy (637)_processed.jpg\n",
            "Label Content:\n",
            "0 0.059375 0.8962962962962963 0.014583333333333334 0.025925925925925925\n",
            "\n"
          ]
        },
        {
          "output_type": "display_data",
          "data": {
            "text/plain": [
              "<PIL.Image.Image image mode=RGB size=28x28>"
            ],
            "image/png": "[encoded data removed]"
          },
          "metadata": {}
        },
        {
          "output_type": "stream",
          "name": "stdout",
          "text": [
            "-----\n",
            "Image: /content/drive/MyDrive/Drone_Crop/video18_1884_processed.jpg\n",
            "Label Content:\n",
            "0 0.1609375 0.5097222222222222 0.021875 0.03888888888888889\n",
            "\n"
          ]
        },
        {
          "output_type": "display_data",
          "data": {
            "text/plain": [
              "<PIL.Image.Image image mode=RGB size=28x28>"
            ],
            "image/png": "[encoded data removed]"
          },
          "metadata": {}
        },
        {
          "output_type": "stream",
          "name": "stdout",
          "text": [
            "-----\n",
            "Image: /content/drive/MyDrive/Drone_Crop/Dji_pantom_Sunny (1159)_processed.jpg\n",
            "Label Content:\n",
            "0 0.6770833333333334 0.5537037037037037 0.014583333333333334 0.025925925925925925\n",
            "\n"
          ]
        },
        {
          "output_type": "display_data",
          "data": {
            "text/plain": [
              "<PIL.Image.Image image mode=RGB size=28x28>"
            ],
            "image/png": "[encoded data removed]"
          },
          "metadata": {}
        },
        {
          "output_type": "stream",
          "name": "stdout",
          "text": [
            "-----\n",
            "Image: /content/drive/MyDrive/Drone_Crop/Dji_pantom_Sunny (577)_processed.jpg\n",
            "Label Content:\n",
            "0 0.8380208333333333 0.4583333333333333 0.014583333333333334 0.025925925925925925\n",
            "\n"
          ]
        },
        {
          "output_type": "display_data",
          "data": {
            "text/plain": [
              "<PIL.Image.Image image mode=RGB size=28x28>"
            ],
            "image/png": "[encoded data removed]"
          },
          "metadata": {}
        },
        {
          "output_type": "stream",
          "name": "stdout",
          "text": [
            "-----\n"
          ]
        }
      ]
    },
    {
      "cell_type": "code",
      "source": [
        "import os\n",
        "import cv2\n",
        "import numpy as np\n",
        "from keras.preprocessing import image\n",
        "from random import sample, randint\n",
        "\n",
        "# Set paths\n",
        "data_folder = \"/content/drive/MyDrive/Copy_of_drone_data\"\n",
        "drone_output_folder = \"/content/drive/MyDrive/Drone_Crop\"\n",
        "\n",
        "# Get a list of all image files in the data folder\n",
        "all_images = [file for file in os.listdir(data_folder) if file.endswith(\".jpg\")]\n",
        "\n",
        "processed_drone_data = []\n",
        "\n",
        "# Function to process the image (crop to size, resize to 28x28, and save label file)\n",
        "def process_image(image_name, output_folder):\n",
        "    # Read the image\n",
        "    img_path = os.path.join(data_folder, image_name)\n",
        "    img = cv2.imread(img_path)\n",
        "\n",
        "    # Check if the image is successfully loaded\n",
        "    if img is not None:\n",
        "        # Get the dimensions of the image\n",
        "        img_height, img_width, _ = img.shape\n",
        "\n",
        "        # Set a random crop size (between 28 and the minimum of height and width)\n",
        "        crop_size = min(img_height, img_width, 28)  # Ensure the crop size is at most 28\n",
        "        x_start = randint(0, img_width - crop_size)\n",
        "        y_start = randint(0, img_height - crop_size)\n",
        "\n",
        "        # Crop the image\n",
        "        crop_img = img[y_start:y_start + crop_size, x_start:x_start + crop_size]\n",
        "\n",
        "        # Convert the cropped image to black and white\n",
        "        gray_img = cv2.cvtColor(crop_img, cv2.COLOR_BGR2GRAY)\n",
        "\n",
        "        # Resize the image to a quadratic form (28x28)\n",
        "        resized_img = cv2.resize(gray_img, (28, 28))\n",
        "\n",
        "        # Save the processed image\n",
        "        output_path = os.path.join(output_folder, image_name.replace(\".jpg\", \"_processed.jpg\"))\n",
        "        cv2.imwrite(output_path, resized_img)\n",
        "\n",
        "        # Save the label file for drone images\n",
        "        label_file_path = os.path.join(output_folder, image_name.replace(\".jpg\", \".txt\"))\n",
        "        with open(label_file_path, \"w\") as label_file:\n",
        "            # Calculate normalized coordinates\n",
        "            x_normalized = (x_start + crop_size // 2) / img_width\n",
        "            y_normalized = (y_start + crop_size // 2) / img_height\n",
        "            width_normalized = crop_size / img_width\n",
        "            height_normalized = crop_size / img_height\n",
        "\n",
        "            # Write YOLOv8 format to the label file\n",
        "            label_file.write(f\"0 {x_normalized} {y_normalized} {width_normalized} {height_normalized}\\n\")\n",
        "\n",
        "        # Append the processed data to the list\n",
        "        processed_data = {\"image_path\": output_path, \"label_path\": label_file_path}\n",
        "        processed_drone_data.append(processed_data)\n",
        "    else:\n",
        "        print(f\"Error: Unable to read image {image_name}\")\n",
        "\n",
        "# Process 10 images\n",
        "for img_name in sample(all_images, 10):\n",
        "    process_image(img_name, drone_output_folder)\n",
        "\n",
        "# Display processed drone images and their labels\n",
        "for item in processed_drone_data:\n",
        "    img = image.load_img(item[\"image_path\"])\n",
        "    display(img)\n",
        "\n",
        "    with open(item[\"label_path\"], \"r\") as label_file:\n",
        "        content = label_file.read()\n",
        "        print(f\"Label File: {item['label_path']}\")\n",
        "        print(content)\n",
        "        print(\"-----\")\n"
      ],
      "metadata": {
        "colab": {
          "base_uri": "https://localhost:8080/",
          "height": 991
        },
        "id": "dj03IvR_jY0N",
        "outputId": "612fce43-90fb-40b6-f539-44da198d2d48"
      },
      "execution_count": 4,
      "outputs": [
        {
          "output_type": "display_data",
          "data": {
            "text/plain": [
              "<PIL.Image.Image image mode=RGB size=28x28>"
            ],
            "image/png": "[encoded data removed]"
          },
          "metadata": {}
        },
        {
          "output_type": "stream",
          "name": "stdout",
          "text": [
            "Label File: /content/drive/MyDrive/Drone_Crop/video17_1126.txt\n",
            "0 0.475 0.05555555555555555 0.021875 0.03888888888888889\n",
            "\n",
            "-----\n"
          ]
        },
        {
          "output_type": "display_data",
          "data": {
            "text/plain": [
              "<PIL.Image.Image image mode=RGB size=28x28>"
            ],
            "image/png": "[encoded data removed]"
          },
          "metadata": {}
        },
        {
          "output_type": "stream",
          "name": "stdout",
          "text": [
            "Label File: /content/drive/MyDrive/Drone_Crop/DJI_FPV_Sunny (1096).txt\n",
            "0 0.8838541666666667 0.5231481481481481 0.014583333333333334 0.025925925925925925\n",
            "\n",
            "-----\n"
          ]
        },
        {
          "output_type": "display_data",
          "data": {
            "text/plain": [
              "<PIL.Image.Image image mode=RGB size=28x28>"
            ],
            "image/png": "[encoded data removed]"
          },
          "metadata": {}
        },
        {
          "output_type": "stream",
          "name": "stdout",
          "text": [
            "Label File: /content/drive/MyDrive/Drone_Crop/video17_85.txt\n",
            "0 0.39453125 0.7305555555555555 0.021875 0.03888888888888889\n",
            "\n",
            "-----\n"
          ]
        },
        {
          "output_type": "display_data",
          "data": {
            "text/plain": [
              "<PIL.Image.Image image mode=RGB size=28x28>"
            ],
            "image/png": "[encoded data removed]"
          },
          "metadata": {}
        },
        {
          "output_type": "stream",
          "name": "stdout",
          "text": [
            "Label File: /content/drive/MyDrive/Drone_Crop/video18_1214.txt\n",
            "0 0.7734375 0.06944444444444445 0.021875 0.03888888888888889\n",
            "\n",
            "-----\n"
          ]
        },
        {
          "output_type": "display_data",
          "data": {
            "text/plain": [
              "<PIL.Image.Image image mode=RGB size=28x28>"
            ],
            "image/png": "[encoded data removed]"
          },
          "metadata": {}
        },
        {
          "output_type": "stream",
          "name": "stdout",
          "text": [
            "Label File: /content/drive/MyDrive/Drone_Crop/video18_1299.txt\n",
            "0 0.615625 0.10555555555555556 0.021875 0.03888888888888889\n",
            "\n",
            "-----\n"
          ]
        },
        {
          "output_type": "display_data",
          "data": {
            "text/plain": [
              "<PIL.Image.Image image mode=RGB size=28x28>"
            ],
            "image/png": "[encoded data removed]"
          },
          "metadata": {}
        },
        {
          "output_type": "stream",
          "name": "stdout",
          "text": [
            "Label File: /content/drive/MyDrive/Drone_Crop/DJI_FPV_Cloudy (691).txt\n",
            "0 0.9683333333333334 0.8009259259259259 0.011666666666666667 0.025925925925925925\n",
            "\n",
            "-----\n"
          ]
        },
        {
          "output_type": "display_data",
          "data": {
            "text/plain": [
              "<PIL.Image.Image image mode=RGB size=28x28>"
            ],
            "image/png": "[encoded data removed]"
          },
          "metadata": {}
        },
        {
          "output_type": "stream",
          "name": "stdout",
          "text": [
            "Label File: /content/drive/MyDrive/Drone_Crop/MAVIC_Air_Evening (567).txt\n",
            "0 0.22625 0.34629629629629627 0.011666666666666667 0.025925925925925925\n",
            "\n",
            "-----\n"
          ]
        },
        {
          "output_type": "display_data",
          "data": {
            "text/plain": [
              "<PIL.Image.Image image mode=RGB size=28x28>"
            ],
            "image/png": "[encoded data removed]"
          },
          "metadata": {}
        },
        {
          "output_type": "stream",
          "name": "stdout",
          "text": [
            "Label File: /content/drive/MyDrive/Drone_Crop/DJI_FPV_Evening (114).txt\n",
            "0 0.51375 0.47314814814814815 0.011666666666666667 0.025925925925925925\n",
            "\n",
            "-----\n"
          ]
        },
        {
          "output_type": "display_data",
          "data": {
            "text/plain": [
              "<PIL.Image.Image image mode=RGB size=28x28>"
            ],
            "image/png": "[encoded data removed]"
          },
          "metadata": {}
        },
        {
          "output_type": "stream",
          "name": "stdout",
          "text": [
            "Label File: /content/drive/MyDrive/Drone_Crop/DJI_FPV_Sunny (316).txt\n",
            "0 0.14166666666666666 0.678125 0.03888888888888889 0.021875\n",
            "\n",
            "-----\n"
          ]
        },
        {
          "output_type": "display_data",
          "data": {
            "text/plain": [
              "<PIL.Image.Image image mode=RGB size=28x28>"
            ],
            "image/png": "[encoded data removed]"
          },
          "metadata": {}
        },
        {
          "output_type": "stream",
          "name": "stdout",
          "text": [
            "Label File: /content/drive/MyDrive/Drone_Crop/DJI_FPV_Sunny (1176).txt\n",
            "0 0.03958333333333333 0.24074074074074073 0.014583333333333334 0.025925925925925925\n",
            "\n",
            "-----\n"
          ]
        }
      ]
    },
    {
      "cell_type": "code",
      "source": [
        "import os\n",
        "import cv2\n",
        "import numpy as np\n",
        "from keras.preprocessing import image\n",
        "from random import sample, randint\n",
        "\n",
        "# Set paths\n",
        "data_folder = \"/content/drive/MyDrive/Copy_of_drone_data\"\n",
        "drone_output_folder = \"/content/drive/MyDrive/Drone_Crop\"\n",
        "\n",
        "# Get a list of all image files in the data folder\n",
        "all_images = [file for file in os.listdir(data_folder) if file.endswith(\".jpg\")]\n",
        "\n",
        "processed_drone_data = []\n",
        "\n",
        "# Function to process the image (crop to size, resize to 28x28, and save YOLO format label file)\n",
        "def process_image(image_name, output_folder):\n",
        "    # Read the image\n",
        "    img_path = os.path.join(data_folder, image_name)\n",
        "    img = cv2.imread(img_path)\n",
        "\n",
        "    # Check if the image is successfully loaded\n",
        "    if img is not None:\n",
        "        # Get the dimensions of the image\n",
        "        img_height, img_width, _ = img.shape\n",
        "\n",
        "        # Set a random crop size (between 28 and the minimum of height and width)\n",
        "        crop_size = min(img_height, img_width, 28)  # Ensure the crop size is at most 28\n",
        "        x_start = randint(0, img_width - crop_size)\n",
        "        y_start = randint(0, img_height - crop_size)\n",
        "\n",
        "        # Calculate normalized coordinates\n",
        "        x_normalized = (x_start + crop_size // 2) / img_width\n",
        "        y_normalized = (y_start + crop_size // 2) / img_height\n",
        "        width_normalized = crop_size / img_width\n",
        "        height_normalized = crop_size / img_height\n",
        "\n",
        "        # Save the YOLO format label file for drone images\n",
        "        label_file_path = os.path.join(output_folder, image_name.replace(\".jpg\", \".txt\"))\n",
        "        with open(label_file_path, \"w\") as label_file:\n",
        "            # Write YOLO format to the label file\n",
        "            label_file.write(f\"0 {x_normalized} {y_normalized} {width_normalized} {height_normalized}\\n\")\n",
        "\n",
        "        # Convert the cropped image to black and white\n",
        "        crop_img = img[y_start:y_start + crop_size, x_start:x_start + crop_size]\n",
        "        gray_img = cv2.cvtColor(crop_img, cv2.COLOR_BGR2GRAY)\n",
        "\n",
        "        # Resize the image to a quadratic form (28x28)\n",
        "        resized_img = cv2.resize(gray_img, (28, 28))\n",
        "\n",
        "        # Save the processed image\n",
        "        output_path = os.path.join(output_folder, image_name.replace(\".jpg\", \"_processed.jpg\"))\n",
        "        cv2.imwrite(output_path, resized_img)\n",
        "\n",
        "        # Append the processed data to the list\n",
        "        processed_data = {\"image_path\": output_path, \"label_path\": label_file_path}\n",
        "        processed_drone_data.append(processed_data)\n",
        "    else:\n",
        "        print(f\"Error: Unable to read image {image_name}\")\n",
        "\n",
        "# Process 10 images\n",
        "for img_name in sample(all_images, 10):\n",
        "    process_image(img_name, drone_output_folder)\n",
        "\n",
        "# Display processed drone images and their YOLO format labels\n",
        "for item in processed_drone_data:\n",
        "    img = image.load_img(item[\"image_path\"])\n",
        "    display(img)\n",
        "\n",
        "    with open(item[\"label_path\"], \"r\") as label_file:\n",
        "        content = label_file.read()\n",
        "        print(f\"Label File: {item['label_path']}\")\n",
        "        print(content)\n",
        "        print(\"-----\")\n"
      ],
      "metadata": {
        "colab": {
          "base_uri": "https://localhost:8080/",
          "height": 991
        },
        "id": "0XuPtk2CkDfj",
        "outputId": "b4192e2c-4e94-4dd2-a4e5-684b0e1d74ce"
      },
      "execution_count": 5,
      "outputs": [
        {
          "output_type": "display_data",
          "data": {
            "text/plain": [
              "<PIL.Image.Image image mode=RGB size=28x28>"
            ],
            "image/png": "[encoded data removed]"
          },
          "metadata": {}
        },
        {
          "output_type": "stream",
          "name": "stdout",
          "text": [
            "Label File: /content/drive/MyDrive/Drone_Crop/Dji_pantom_Sunny (167).txt\n",
            "0 0.5942708333333333 0.9083333333333333 0.014583333333333334 0.025925925925925925\n",
            "\n",
            "-----\n"
          ]
        },
        {
          "output_type": "display_data",
          "data": {
            "text/plain": [
              "<PIL.Image.Image image mode=RGB size=28x28>"
            ],
            "image/png": "[encoded data removed]"
          },
          "metadata": {}
        },
        {
          "output_type": "stream",
          "name": "stdout",
          "text": [
            "Label File: /content/drive/MyDrive/Drone_Crop/MAVIC_Air_Evening (481).txt\n",
            "0 0.04125 0.5231481481481481 0.011666666666666667 0.025925925925925925\n",
            "\n",
            "-----\n"
          ]
        },
        {
          "output_type": "display_data",
          "data": {
            "text/plain": [
              "<PIL.Image.Image image mode=RGB size=28x28>"
            ],
            "image/png": "[encoded data removed]"
          },
          "metadata": {}
        },
        {
          "output_type": "stream",
          "name": "stdout",
          "text": [
            "Label File: /content/drive/MyDrive/Drone_Crop/DJI_FPV_Evening (468).txt\n",
            "0 0.92625 0.44074074074074077 0.011666666666666667 0.025925925925925925\n",
            "\n",
            "-----\n"
          ]
        },
        {
          "output_type": "display_data",
          "data": {
            "text/plain": [
              "<PIL.Image.Image image mode=RGB size=28x28>"
            ],
            "image/png": "[encoded data removed]"
          },
          "metadata": {}
        },
        {
          "output_type": "stream",
          "name": "stdout",
          "text": [
            "Label File: /content/drive/MyDrive/Drone_Crop/video1346.txt\n",
            "0 0.378125 0.43472222222222223 0.021875 0.03888888888888889\n",
            "\n",
            "-----\n"
          ]
        },
        {
          "output_type": "display_data",
          "data": {
            "text/plain": [
              "<PIL.Image.Image image mode=RGB size=28x28>"
            ],
            "image/png": "[encoded data removed]"
          },
          "metadata": {}
        },
        {
          "output_type": "stream",
          "name": "stdout",
          "text": [
            "Label File: /content/drive/MyDrive/Drone_Crop/DJI_FPV_Cloudy (787).txt\n",
            "0 0.115 0.3453703703703704 0.011666666666666667 0.025925925925925925\n",
            "\n",
            "-----\n"
          ]
        },
        {
          "output_type": "display_data",
          "data": {
            "text/plain": [
              "<PIL.Image.Image image mode=RGB size=28x28>"
            ],
            "image/png": "[encoded data removed]"
          },
          "metadata": {}
        },
        {
          "output_type": "stream",
          "name": "stdout",
          "text": [
            "Label File: /content/drive/MyDrive/Drone_Crop/MAVIC_Air_Cloudy (994).txt\n",
            "0 0.6229166666666667 0.03425925925925926 0.014583333333333334 0.025925925925925925\n",
            "\n",
            "-----\n"
          ]
        },
        {
          "output_type": "display_data",
          "data": {
            "text/plain": [
              "<PIL.Image.Image image mode=RGB size=28x28>"
            ],
            "image/png": "[encoded data removed]"
          },
          "metadata": {}
        },
        {
          "output_type": "stream",
          "name": "stdout",
          "text": [
            "Label File: /content/drive/MyDrive/Drone_Crop/video14_112.txt\n",
            "0 0.23359375 0.675 0.021875 0.03888888888888889\n",
            "\n",
            "-----\n"
          ]
        },
        {
          "output_type": "display_data",
          "data": {
            "text/plain": [
              "<PIL.Image.Image image mode=RGB size=28x28>"
            ],
            "image/png": "[encoded data removed]"
          },
          "metadata": {}
        },
        {
          "output_type": "stream",
          "name": "stdout",
          "text": [
            "Label File: /content/drive/MyDrive/Drone_Crop/DJI_FPV_Evening (1155).txt\n",
            "0 0.9766666666666667 0.7055555555555556 0.011666666666666667 0.025925925925925925\n",
            "\n",
            "-----\n"
          ]
        },
        {
          "output_type": "display_data",
          "data": {
            "text/plain": [
              "<PIL.Image.Image image mode=RGB size=28x28>"
            ],
            "image/png": "[encoded data removed]"
          },
          "metadata": {}
        },
        {
          "output_type": "stream",
          "name": "stdout",
          "text": [
            "Label File: /content/drive/MyDrive/Drone_Crop/Dji_pantom_Sunny (145).txt\n",
            "0 0.013020833333333334 0.5990740740740741 0.014583333333333334 0.025925925925925925\n",
            "\n",
            "-----\n"
          ]
        },
        {
          "output_type": "display_data",
          "data": {
            "text/plain": [
              "<PIL.Image.Image image mode=RGB size=28x28>"
            ],
            "image/png": "[encoded data removed]"
          },
          "metadata": {}
        },
        {
          "output_type": "stream",
          "name": "stdout",
          "text": [
            "Label File: /content/drive/MyDrive/Drone_Crop/video18_1981.txt\n",
            "0 0.6015625 0.5555555555555556 0.021875 0.03888888888888889\n",
            "\n",
            "-----\n"
          ]
        }
      ]
    },
    {
      "cell_type": "code",
      "source": [
        "import os\n",
        "import cv2\n",
        "import numpy as np\n",
        "from keras.preprocessing import image\n",
        "from random import sample, randint\n",
        "\n",
        "# Set paths\n",
        "data_folder = \"/content/drive/MyDrive/Copy_of_drone_data\"\n",
        "drone_output_folder = \"/content/drive/MyDrive/Drone_Crop\"\n",
        "\n",
        "# Get a list of all image files in the data folder\n",
        "all_images = [file for file in os.listdir(data_folder) if file.endswith(\".jpg\")]\n",
        "\n",
        "processed_drone_data = []\n",
        "\n",
        "# Function to process the image (crop to size, resize to 28x28, and save YOLOv8 format label file)\n",
        "def process_image(image_name, output_folder):\n",
        "    # Read the image\n",
        "    img_path = os.path.join(data_folder, image_name)\n",
        "    img = cv2.imread(img_path)\n",
        "\n",
        "    # Check if the image is successfully loaded\n",
        "    if img is not None:\n",
        "        # Get the dimensions of the image\n",
        "        img_height, img_width, _ = img.shape\n",
        "\n",
        "        # Set a random crop size (between 28 and the minimum of height and width)\n",
        "        crop_size = min(img_height, img_width, 28)  # Ensure the crop size is at most 28\n",
        "        x_start = randint(0, img_width - crop_size)\n",
        "        y_start = randint(0, img_height - crop_size)\n",
        "\n",
        "        # Calculate normalized coordinates\n",
        "        x_normalized = (x_start + crop_size // 2) / img_width\n",
        "        y_normalized = (y_start + crop_size // 2) / img_height\n",
        "        width_normalized = crop_size / img_width\n",
        "        height_normalized = crop_size / img_height\n",
        "\n",
        "        # Save the YOLOv8 format label file for drone images\n",
        "        label_file_path = os.path.join(output_folder, image_name.replace(\".jpg\", \".txt\"))\n",
        "        with open(label_file_path, \"w\") as label_file:\n",
        "            # Write YOLOv8 format to the label file\n",
        "            label_file.write(f\"0 {x_normalized} {y_normalized} {width_normalized} {height_normalized}\\n\")\n",
        "\n",
        "        # Convert the cropped image to black and white\n",
        "        crop_img = img[y_start:y_start + crop_size, x_start:x_start + crop_size]\n",
        "        gray_img = cv2.cvtColor(crop_img, cv2.COLOR_BGR2GRAY)\n",
        "\n",
        "        # Resize the image to a quadratic form (28x28)\n",
        "        resized_img = cv2.resize(gray_img, (28, 28))\n",
        "\n",
        "        # Save the processed image\n",
        "        output_path = os.path.join(output_folder, image_name.replace(\".jpg\", \"_processed.jpg\"))\n",
        "        cv2.imwrite(output_path, resized_img)\n",
        "\n",
        "        # Append the processed data to the list\n",
        "        processed_data = {\"image_path\": output_path, \"label_path\": label_file_path}\n",
        "        processed_drone_data.append(processed_data)\n",
        "    else:\n",
        "        print(f\"Error: Unable to read image {image_name}\")\n",
        "\n",
        "# Process 10 images\n",
        "for img_name in sample(all_images, 10):\n",
        "    process_image(img_name, drone_output_folder)\n",
        "\n",
        "# Display processed drone images and their YOLOv8 format labels\n",
        "for item in processed_drone_data:\n",
        "    img = image.load_img(item[\"image_path\"])\n",
        "    display(img)\n",
        "\n",
        "    with open(item[\"label_path\"], \"r\") as label_file:\n",
        "        content = label_file.read()\n",
        "        print(f\"Label File: {item['label_path']}\")\n",
        "        print(content)\n",
        "        print(\"-----\")\n"
      ],
      "metadata": {
        "colab": {
          "base_uri": "https://localhost:8080/",
          "height": 991
        },
        "id": "_B2xp8kKk09h",
        "outputId": "717a7b38-10ca-475f-8526-5e4023f219b8"
      },
      "execution_count": 6,
      "outputs": [
        {
          "output_type": "display_data",
          "data": {
            "text/plain": [
              "<PIL.Image.Image image mode=RGB size=28x28>"
            ],
            "image/png": "[encoded data removed]"
          },
          "metadata": {}
        },
        {
          "output_type": "stream",
          "name": "stdout",
          "text": [
            "Label File: /content/drive/MyDrive/Drone_Crop/video1365.txt\n",
            "0 0.75859375 0.2361111111111111 0.021875 0.03888888888888889\n",
            "\n",
            "-----\n"
          ]
        },
        {
          "output_type": "display_data",
          "data": {
            "text/plain": [
              "<PIL.Image.Image image mode=RGB size=28x28>"
            ],
            "image/png": "[encoded data removed]"
          },
          "metadata": {}
        },
        {
          "output_type": "stream",
          "name": "stdout",
          "text": [
            "Label File: /content/drive/MyDrive/Drone_Crop/MAVIC_Air_Cloudy (974).txt\n",
            "0 0.23958333333333334 0.09537037037037037 0.014583333333333334 0.025925925925925925\n",
            "\n",
            "-----\n"
          ]
        },
        {
          "output_type": "display_data",
          "data": {
            "text/plain": [
              "<PIL.Image.Image image mode=RGB size=28x28>"
            ],
            "image/png": "[encoded data removed]"
          },
          "metadata": {}
        },
        {
          "output_type": "stream",
          "name": "stdout",
          "text": [
            "Label File: /content/drive/MyDrive/Drone_Crop/video18_1406.txt\n",
            "0 0.74453125 0.7138888888888889 0.021875 0.03888888888888889\n",
            "\n",
            "-----\n"
          ]
        },
        {
          "output_type": "display_data",
          "data": {
            "text/plain": [
              "<PIL.Image.Image image mode=RGB size=28x28>"
            ],
            "image/png": "[encoded data removed]"
          },
          "metadata": {}
        },
        {
          "output_type": "stream",
          "name": "stdout",
          "text": [
            "Label File: /content/drive/MyDrive/Drone_Crop/Dji_pantom_Sunny (1012).txt\n",
            "0 0.1609375 0.45185185185185184 0.014583333333333334 0.025925925925925925\n",
            "\n",
            "-----\n"
          ]
        },
        {
          "output_type": "display_data",
          "data": {
            "text/plain": [
              "<PIL.Image.Image image mode=RGB size=28x28>"
            ],
            "image/png": "[encoded data removed]"
          },
          "metadata": {}
        },
        {
          "output_type": "stream",
          "name": "stdout",
          "text": [
            "Label File: /content/drive/MyDrive/Drone_Crop/video18_1910.txt\n",
            "0 0.7 0.30416666666666664 0.021875 0.03888888888888889\n",
            "\n",
            "-----\n"
          ]
        },
        {
          "output_type": "display_data",
          "data": {
            "text/plain": [
              "<PIL.Image.Image image mode=RGB size=28x28>"
            ],
            "image/png": "[encoded data removed]"
          },
          "metadata": {}
        },
        {
          "output_type": "stream",
          "name": "stdout",
          "text": [
            "Label File: /content/drive/MyDrive/Drone_Crop/DJI_FPV_Cloudy (632).txt\n",
            "0 0.8045833333333333 0.11481481481481481 0.011666666666666667 0.025925925925925925\n",
            "\n",
            "-----\n"
          ]
        },
        {
          "output_type": "display_data",
          "data": {
            "text/plain": [
              "<PIL.Image.Image image mode=RGB size=28x28>"
            ],
            "image/png": "[encoded data removed]"
          },
          "metadata": {}
        },
        {
          "output_type": "stream",
          "name": "stdout",
          "text": [
            "Label File: /content/drive/MyDrive/Drone_Crop/DJI_FPV_Evening (727).txt\n",
            "0 0.01875 0.6416666666666667 0.011666666666666667 0.025925925925925925\n",
            "\n",
            "-----\n"
          ]
        },
        {
          "output_type": "display_data",
          "data": {
            "text/plain": [
              "<PIL.Image.Image image mode=RGB size=28x28>"
            ],
            "image/png": "[encoded data removed]"
          },
          "metadata": {}
        },
        {
          "output_type": "stream",
          "name": "stdout",
          "text": [
            "Label File: /content/drive/MyDrive/Drone_Crop/video16_505.txt\n",
            "0 0.2609375 0.6944444444444444 0.021875 0.03888888888888889\n",
            "\n",
            "-----\n"
          ]
        },
        {
          "output_type": "display_data",
          "data": {
            "text/plain": [
              "<PIL.Image.Image image mode=RGB size=28x28>"
            ],
            "image/png": "[encoded data removed]"
          },
          "metadata": {}
        },
        {
          "output_type": "stream",
          "name": "stdout",
          "text": [
            "Label File: /content/drive/MyDrive/Drone_Crop/video16_164.txt\n",
            "0 0.29140625 0.8180555555555555 0.021875 0.03888888888888889\n",
            "\n",
            "-----\n"
          ]
        },
        {
          "output_type": "display_data",
          "data": {
            "text/plain": [
              "<PIL.Image.Image image mode=RGB size=28x28>"
            ],
            "image/png": "[encoded data removed]"
          },
          "metadata": {}
        },
        {
          "output_type": "stream",
          "name": "stdout",
          "text": [
            "Label File: /content/drive/MyDrive/Drone_Crop/video18_1322.txt\n",
            "0 0.01640625 0.7388888888888889 0.021875 0.03888888888888889\n",
            "\n",
            "-----\n"
          ]
        }
      ]
    },
    {
      "cell_type": "code",
      "source": [
        "import os\n",
        "import cv2\n",
        "import numpy as np\n",
        "from keras.preprocessing import image\n",
        "from random import sample\n",
        "\n",
        "# Set paths\n",
        "data_folder = \"/content/drive/MyDrive/Copy_of_drone_data\"\n",
        "output_folder = \"/content/drive/MyDrive/Drone_Crop\"\n",
        "\n",
        "# Get a list of all image files in the data folder\n",
        "all_images = [file for file in os.listdir(data_folder) if file.endswith(\".jpg\")]\n",
        "\n",
        "# Choose 10 random images\n",
        "random_images = sample(all_images, 20)\n",
        "\n",
        "processed_data = []\n",
        "\n",
        "# Function to extract drone location and process the image\n",
        "def process_image(image_name):\n",
        "    # Read the image\n",
        "    img_path = os.path.join(data_folder, image_name)\n",
        "    img = cv2.imread(img_path)\n",
        "\n",
        "    # Check if the image is successfully loaded\n",
        "    if img is not None:\n",
        "        # Read the label file\n",
        "        label_path = os.path.join(data_folder, image_name.replace(\".jpg\", \".txt\"))\n",
        "\n",
        "        # Check if the corresponding label file exists\n",
        "        if os.path.exists(label_path):\n",
        "            with open(label_path, \"r\") as label_file:\n",
        "                # Extracting bounding box coordinates from YOLOv8 format\n",
        "                label_data = label_file.readline().strip().split(\" \")\n",
        "                class_index, x, y, w, h = map(float, label_data[:5])\n",
        "\n",
        "                # Normalize coordinates\n",
        "                x_center = x\n",
        "                y_center = y\n",
        "                width_normalized = w\n",
        "                height_normalized = h\n",
        "\n",
        "                # Calculate absolute coordinates based on image dimensions\n",
        "                img_height, img_width, _ = img.shape\n",
        "                x_abs = int(x_center * img_width)\n",
        "                y_abs = int(y_center * img_height)\n",
        "                w_abs = int(width_normalized * img_width)\n",
        "                h_abs = int(height_normalized * img_height)\n",
        "\n",
        "                # Calculate new cropping region to center the drone\n",
        "                crop_size = min(w_abs, h_abs)\n",
        "                crop_x1 = max(0, x_abs - crop_size // 2)\n",
        "                crop_x2 = min(img_width, x_abs + crop_size // 2)\n",
        "                crop_y1 = max(0, y_abs - crop_size // 2)\n",
        "                crop_y2 = min(img_height, y_abs + crop_size // 2)\n",
        "\n",
        "                # Crop the image based on the new bounding box\n",
        "                crop_img = img[crop_y1:crop_y2, crop_x1:crop_x2]\n",
        "\n",
        "                # Convert the cropped image to black and white\n",
        "                gray_img = cv2.cvtColor(crop_img, cv2.COLOR_BGR2GRAY)\n",
        "\n",
        "                # Resize the image to a quadratic form (28x28)\n",
        "                resized_img = cv2.resize(gray_img, (28, 28))\n",
        "\n",
        "                # Save the processed image\n",
        "                output_path = os.path.join(output_folder, image_name.replace(\".jpg\", \"_processed.jpg\"))\n",
        "                cv2.imwrite(output_path, resized_img)\n",
        "\n",
        "                # Append the processed data to the list\n",
        "                processed_data.append({\"image_path\": output_path, \"label\": \"drone\"})\n",
        "        else:\n",
        "            print(f\"Error: Corresponding label file not found for image {image_name}\")\n",
        "    else:\n",
        "        print(f\"Error: Unable to read image {image_name}\")\n",
        "\n",
        "# Process each random image\n",
        "for img_name in random_images:\n",
        "    process_image(img_name)\n",
        "\n",
        "# Display the processed images\n",
        "for item in processed_data:\n",
        "    img = image.load_img(item[\"image_path\"])\n",
        "    display(img)\n"
      ],
      "metadata": {
        "colab": {
          "base_uri": "https://localhost:8080/",
          "height": 577
        },
        "id": "4kNUN-zVli48",
        "outputId": "462519e0-12bd-4410-9056-3654b720f3cb"
      },
      "execution_count": 8,
      "outputs": [
        {
          "output_type": "display_data",
          "data": {
            "text/plain": [
              "<PIL.Image.Image image mode=RGB size=28x28>"
            ],
            "image/png": "[encoded data removed]"
          },
          "metadata": {}
        },
        {
          "output_type": "display_data",
          "data": {
            "text/plain": [
              "<PIL.Image.Image image mode=RGB size=28x28>"
            ],
            "image/png": "[encoded data removed]"
          },
          "metadata": {}
        },
        {
          "output_type": "display_data",
          "data": {
            "text/plain": [
              "<PIL.Image.Image image mode=RGB size=28x28>"
            ],
            "image/png": "[encoded data removed]"
          },
          "metadata": {}
        },
        {
          "output_type": "display_data",
          "data": {
            "text/plain": [
              "<PIL.Image.Image image mode=RGB size=28x28>"
            ],
            "image/png": "[encoded data removed]"
          },
          "metadata": {}
        },
        {
          "output_type": "display_data",
          "data": {
            "text/plain": [
              "<PIL.Image.Image image mode=RGB size=28x28>"
            ],
            "image/png": "[encoded data removed]"
          },
          "metadata": {}
        },
        {
          "output_type": "display_data",
          "data": {
            "text/plain": [
              "<PIL.Image.Image image mode=RGB size=28x28>"
            ],
            "image/png": "[encoded data removed]"
          },
          "metadata": {}
        },
        {
          "output_type": "display_data",
          "data": {
            "text/plain": [
              "<PIL.Image.Image image mode=RGB size=28x28>"
            ],
            "image/png": "[encoded data removed]"
          },
          "metadata": {}
        },
        {
          "output_type": "display_data",
          "data": {
            "text/plain": [
              "<PIL.Image.Image image mode=RGB size=28x28>"
            ],
            "image/png": "[encoded data removed]"
          },
          "metadata": {}
        },
        {
          "output_type": "display_data",
          "data": {
            "text/plain": [
              "<PIL.Image.Image image mode=RGB size=28x28>"
            ],
            "image/png": "[encoded data removed]"
          },
          "metadata": {}
        },
        {
          "output_type": "display_data",
          "data": {
            "text/plain": [
              "<PIL.Image.Image image mode=RGB size=28x28>"
            ],
            "image/png": "[encoded data removed]"
          },
          "metadata": {}
        },
        {
          "output_type": "display_data",
          "data": {
            "text/plain": [
              "<PIL.Image.Image image mode=RGB size=28x28>"
            ],
            "image/png": "[encoded data removed]"
          },
          "metadata": {}
        },
        {
          "output_type": "display_data",
          "data": {
            "text/plain": [
              "<PIL.Image.Image image mode=RGB size=28x28>"
            ],
            "image/png": "[encoded data removed]"
          },
          "metadata": {}
        },
        {
          "output_type": "display_data",
          "data": {
            "text/plain": [
              "<PIL.Image.Image image mode=RGB size=28x28>"
            ],
            "image/png": "[encoded data removed]"
          },
          "metadata": {}
        },
        {
          "output_type": "display_data",
          "data": {
            "text/plain": [
              "<PIL.Image.Image image mode=RGB size=28x28>"
            ],
            "image/png": "[encoded data removed]"
          },
          "metadata": {}
        },
        {
          "output_type": "display_data",
          "data": {
            "text/plain": [
              "<PIL.Image.Image image mode=RGB size=28x28>"
            ],
            "image/png": "[encoded data removed]"
          },
          "metadata": {}
        },
        {
          "output_type": "display_data",
          "data": {
            "text/plain": [
              "<PIL.Image.Image image mode=RGB size=28x28>"
            ],
            "image/png": "[encoded data removed]"
          },
          "metadata": {}
        },
        {
          "output_type": "display_data",
          "data": {
            "text/plain": [
              "<PIL.Image.Image image mode=RGB size=28x28>"
            ],
            "image/png": "[encoded data removed]"
          },
          "metadata": {}
        },
        {
          "output_type": "display_data",
          "data": {
            "text/plain": [
              "<PIL.Image.Image image mode=RGB size=28x28>"
            ],
            "image/png": "[encoded data removed]"
          },
          "metadata": {}
        },
        {
          "output_type": "display_data",
          "data": {
            "text/plain": [
              "<PIL.Image.Image image mode=RGB size=28x28>"
            ],
            "image/png": "[encoded data removed]"
          },
          "metadata": {}
        },
        {
          "output_type": "display_data",
          "data": {
            "text/plain": [
              "<PIL.Image.Image image mode=RGB size=28x28>"
            ],
            "image/png": "[encoded data removed]"
          },
          "metadata": {}
        }
      ]
    },
    {
      "cell_type": "code",
      "source": [
        "import os\n",
        "import cv2\n",
        "import numpy as np\n",
        "from keras.preprocessing import image\n",
        "from random import sample, randint\n",
        "\n",
        "# Set paths\n",
        "data_folder = \"/content/drive/MyDrive/Copy_of_drone_data\"\n",
        "output_folder = \"/content/drive/MyDrive/Drone_Crop\"\n",
        "\n",
        "# Get a list of all image files in the data folder\n",
        "all_images = [file for file in os.listdir(data_folder) if file.endswith(\".jpg\")]\n",
        "\n",
        "# Choose 20 random images\n",
        "random_images = sample(all_images, 20)\n",
        "\n",
        "processed_data = []\n",
        "\n",
        "# Function to extract drone location, process the image, and save YOLOv8 format label file\n",
        "def process_image(image_name):\n",
        "    # Read the image\n",
        "    img_path = os.path.join(data_folder, image_name)\n",
        "    img = cv2.imread(img_path)\n",
        "\n",
        "    # Check if the image is successfully loaded\n",
        "    if img is not None:\n",
        "        # Read the label file\n",
        "        label_path = os.path.join(data_folder, image_name.replace(\".jpg\", \".txt\"))\n",
        "\n",
        "        # Check if the corresponding label file exists\n",
        "        if os.path.exists(label_path):\n",
        "            with open(label_path, \"r\") as label_file:\n",
        "                # Extracting bounding box coordinates from YOLOv8 format\n",
        "                label_data = label_file.readline().strip().split(\" \")\n",
        "                class_index, x, y, w, h = map(float, label_data[:5])\n",
        "\n",
        "                # Normalize coordinates\n",
        "                x_center = x\n",
        "                y_center = y\n",
        "                width_normalized = w\n",
        "                height_normalized = h\n",
        "\n",
        "                # Calculate absolute coordinates based on image dimensions\n",
        "                img_height, img_width, _ = img.shape\n",
        "                x_abs = int(x_center * img_width)\n",
        "                y_abs = int(y_center * img_height)\n",
        "                w_abs = int(width_normalized * img_width)\n",
        "                h_abs = int(height_normalized * img_height)\n",
        "\n",
        "                # Calculate new cropping region to center the drone\n",
        "                crop_size = min(w_abs, h_abs)\n",
        "                crop_x1 = max(0, x_abs - crop_size // 2)\n",
        "                crop_x2 = min(img_width, x_abs + crop_size // 2)\n",
        "                crop_y1 = max(0, y_abs - crop_size // 2)\n",
        "                crop_y2 = min(img_height, y_abs + crop_size // 2)\n",
        "\n",
        "                # Crop the image based on the new bounding box\n",
        "                crop_img = img[crop_y1:crop_y2, crop_x1:crop_x2]\n",
        "\n",
        "                # Convert the cropped image to black and white\n",
        "                gray_img = cv2.cvtColor(crop_img, cv2.COLOR_BGR2GRAY)\n",
        "\n",
        "                # Resize the image to a quadratic form (28x28)\n",
        "                resized_img = cv2.resize(gray_img, (28, 28))\n",
        "\n",
        "                # Save the processed image\n",
        "                output_path = os.path.join(output_folder, image_name.replace(\".jpg\", \"_processed.jpg\"))\n",
        "                cv2.imwrite(output_path, resized_img)\n",
        "\n",
        "                # Save the YOLOv8 format label file for drone images\n",
        "                label_output_path = os.path.join(output_folder, image_name.replace(\".jpg\", \"_processed.txt\"))\n",
        "                with open(label_output_path, \"w\") as label_output_file:\n",
        "                    # Write YOLOv8 format to the label file\n",
        "                    label_output_file.write(f\"0 {x_center} {y_center} {width_normalized} {height_normalized}\\n\")\n",
        "\n",
        "                # Append the processed data to the list\n",
        "                processed_data.append({\"image_path\": output_path, \"label_path\": label_output_path, \"label\": \"drone\"})\n",
        "        else:\n",
        "            print(f\"Error: Corresponding label file not found for image {image_name}\")\n",
        "    else:\n",
        "        print(f\"Error: Unable to read image {image_name}\")\n",
        "\n",
        "# Process each random image\n",
        "for img_name in random_images:\n",
        "    process_image(img_name)\n",
        "\n",
        "# Display information about the processed images and their labels\n",
        "for item in sample(processed_data, 5):\n",
        "    print(f\"Image Path: {item['image_path']}\")\n",
        "    print(f\"Label Path: {item['label_path']}\")\n",
        "    print(f\"Label: {item['label']}\")\n",
        "    print(\"-----\")\n",
        "\n",
        "# Display the processed images\n",
        "for item in sample(processed_data, 5):\n",
        "    img = image.load_img(item[\"image_path\"])\n",
        "    display(img)\n"
      ],
      "metadata": {
        "colab": {
          "base_uri": "https://localhost:8080/",
          "height": 504
        },
        "id": "3ea4HIfcmdmj",
        "outputId": "e29170dd-6658-4060-decb-f1f2c2317b6f"
      },
      "execution_count": 9,
      "outputs": [
        {
          "output_type": "stream",
          "name": "stdout",
          "text": [
            "Image Path: /content/drive/MyDrive/Drone_Crop/video18_2027_processed.jpg\n",
            "Label Path: /content/drive/MyDrive/Drone_Crop/video18_2027_processed.txt\n",
            "Label: drone\n",
            "-----\n",
            "Image Path: /content/drive/MyDrive/Drone_Crop/video16_484_processed.jpg\n",
            "Label Path: /content/drive/MyDrive/Drone_Crop/video16_484_processed.txt\n",
            "Label: drone\n",
            "-----\n",
            "Image Path: /content/drive/MyDrive/Drone_Crop/video16_212_processed.jpg\n",
            "Label Path: /content/drive/MyDrive/Drone_Crop/video16_212_processed.txt\n",
            "Label: drone\n",
            "-----\n",
            "Image Path: /content/drive/MyDrive/Drone_Crop/216_processed.jpg\n",
            "Label Path: /content/drive/MyDrive/Drone_Crop/216_processed.txt\n",
            "Label: drone\n",
            "-----\n",
            "Image Path: /content/drive/MyDrive/Drone_Crop/DJI_FPV_Evening (812)_processed.jpg\n",
            "Label Path: /content/drive/MyDrive/Drone_Crop/DJI_FPV_Evening (812)_processed.txt\n",
            "Label: drone\n",
            "-----\n"
          ]
        },
        {
          "output_type": "display_data",
          "data": {
            "text/plain": [
              "<PIL.Image.Image image mode=RGB size=28x28>"
            ],
            "image/png": "[encoded data removed]"
          },
          "metadata": {}
        },
        {
          "output_type": "display_data",
          "data": {
            "text/plain": [
              "<PIL.Image.Image image mode=RGB size=28x28>"
            ],
            "image/png": "[encoded data removed]"
          },
          "metadata": {}
        },
        {
          "output_type": "display_data",
          "data": {
            "text/plain": [
              "<PIL.Image.Image image mode=RGB size=28x28>"
            ],
            "image/png": "[encoded data removed]"
          },
          "metadata": {}
        },
        {
          "output_type": "display_data",
          "data": {
            "text/plain": [
              "<PIL.Image.Image image mode=RGB size=28x28>"
            ],
            "image/png": "[encoded data removed]"
          },
          "metadata": {}
        },
        {
          "output_type": "display_data",
          "data": {
            "text/plain": [
              "<PIL.Image.Image image mode=RGB size=28x28>"
            ],
            "image/png": "[encoded data removed]"
          },
          "metadata": {}
        }
      ]
    },
    {
      "cell_type": "code",
      "source": [
        "import os\n",
        "import cv2\n",
        "import numpy as np\n",
        "from keras.preprocessing import image\n",
        "\n",
        "# Set paths\n",
        "data_folder = \"/content/drive/MyDrive/Copy_of_drone_data\"\n",
        "output_folder = \"/content/drive/MyDrive/Drone_Crop\"\n",
        "\n",
        "# Get a list of all image files in the data folder\n",
        "all_images = [file for file in os.listdir(data_folder) if file.endswith(\".jpg\")]\n",
        "\n",
        "processed_data = []\n",
        "\n",
        "# Function to extract drone location, process the image, and save YOLOv8 format label file\n",
        "def process_image(image_name):\n",
        "    # Read the image\n",
        "    img_path = os.path.join(data_folder, image_name)\n",
        "    img = cv2.imread(img_path)\n",
        "\n",
        "    # Check if the image is successfully loaded\n",
        "    if img is not None:\n",
        "        # Read the label file\n",
        "        label_path = os.path.join(data_folder, image_name.replace(\".jpg\", \".txt\"))\n",
        "\n",
        "        # Check if the corresponding label file exists\n",
        "        if os.path.exists(label_path):\n",
        "            with open(label_path, \"r\") as label_file:\n",
        "                # Extracting bounding box coordinates from YOLOv8 format\n",
        "                label_data = label_file.readline().strip().split(\" \")\n",
        "                class_index, x, y, w, h = map(float, label_data[:5])\n",
        "\n",
        "                # Normalize coordinates\n",
        "                x_center = x\n",
        "                y_center = y\n",
        "                width_normalized = w\n",
        "                height_normalized = h\n",
        "\n",
        "                # Calculate absolute coordinates based on image dimensions\n",
        "                img_height, img_width, _ = img.shape\n",
        "                x_abs = int(x_center * img_width)\n",
        "                y_abs = int(y_center * img_height)\n",
        "                w_abs = int(width_normalized * img_width)\n",
        "                h_abs = int(height_normalized * img_height)\n",
        "\n",
        "                # Calculate new cropping region to center the drone\n",
        "                crop_size = min(w_abs, h_abs)\n",
        "                crop_x1 = max(0, x_abs - crop_size // 2)\n",
        "                crop_x2 = min(img_width, x_abs + crop_size // 2)\n",
        "                crop_y1 = max(0, y_abs - crop_size // 2)\n",
        "                crop_y2 = min(img_height, y_abs + crop_size // 2)\n",
        "\n",
        "                # Crop the image based on the new bounding box\n",
        "                crop_img = img[crop_y1:crop_y2, crop_x1:crop_x2]\n",
        "\n",
        "                # Convert the cropped image to black and white\n",
        "                gray_img = cv2.cvtColor(crop_img, cv2.COLOR_BGR2GRAY)\n",
        "\n",
        "                # Resize the image to a quadratic form (28x28)\n",
        "                resized_img = cv2.resize(gray_img, (28, 28))\n",
        "\n",
        "                # Save the processed image\n",
        "                output_path = os.path.join(output_folder, image_name.replace(\".jpg\", \"_processed.jpg\"))\n",
        "                cv2.imwrite(output_path, resized_img)\n",
        "\n",
        "                # Save the YOLOv8 format label file for drone images\n",
        "                label_output_path = os.path.join(output_folder, image_name.replace(\".jpg\", \"_processed.txt\"))\n",
        "                with open(label_output_path, \"w\") as label_output_file:\n",
        "                    # Write YOLOv8 format to the label file\n",
        "                    label_output_file.write(f\"0 {x_center} {y_center} {width_normalized} {height_normalized}\\n\")\n",
        "\n",
        "                # Append the processed data to the list\n",
        "                processed_data.append({\"image_path\": output_path, \"label_path\": label_output_path, \"label\": \"drone\"})\n",
        "        else:\n",
        "            print(f\"Error: Corresponding label file not found for image {image_name}\")\n",
        "    else:\n",
        "        print(f\"Error: Unable to read image {image_name}\")\n",
        "\n",
        "# Process each image\n",
        "for img_name in all_images:\n",
        "    process_image(img_name)\n",
        "\n",
        "# Display information about 10 randomly selected processed images and their labels\n",
        "for item in sample(processed_data, 10):\n",
        "    print(f\"Image Path: {item['image_path']}\")\n",
        "    print(f\"Label Path: {item['label_path']}\")\n",
        "    print(f\"Label: {item['label']}\")\n",
        "    print(\"-----\")\n",
        "\n",
        "# Display 10 randomly selected processed images\n",
        "for item in sample(processed_data, 10):\n",
        "    img = image.load_img(item[\"image_path\"])\n",
        "    display(img)\n"
      ],
      "metadata": {
        "colab": {
          "base_uri": "https://localhost:8080/",
          "height": 991
        },
        "id": "SuRJ4tmdnhDX",
        "outputId": "b34c57a2-1c25-4788-d0e9-74b03d2cf019"
      },
      "execution_count": 10,
      "outputs": [
        {
          "output_type": "stream",
          "name": "stdout",
          "text": [
            "Image Path: /content/drive/MyDrive/Drone_Crop/video18_2043_processed.jpg\n",
            "Label Path: /content/drive/MyDrive/Drone_Crop/video18_2043_processed.txt\n",
            "Label: drone\n",
            "-----\n",
            "Image Path: /content/drive/MyDrive/Drone_Crop/video18_1082_processed.jpg\n",
            "Label Path: /content/drive/MyDrive/Drone_Crop/video18_1082_processed.txt\n",
            "Label: drone\n",
            "-----\n",
            "Image Path: /content/drive/MyDrive/Drone_Crop/DJI_FPV_Cloudy (491)_processed.jpg\n",
            "Label Path: /content/drive/MyDrive/Drone_Crop/DJI_FPV_Cloudy (491)_processed.txt\n",
            "Label: drone\n",
            "-----\n",
            "Image Path: /content/drive/MyDrive/Drone_Crop/DJI_FPV_Cloudy (207)_processed.jpg\n",
            "Label Path: /content/drive/MyDrive/Drone_Crop/DJI_FPV_Cloudy (207)_processed.txt\n",
            "Label: drone\n",
            "-----\n",
            "Image Path: /content/drive/MyDrive/Drone_Crop/DJI_FPV_Sunny (709)_processed.jpg\n",
            "Label Path: /content/drive/MyDrive/Drone_Crop/DJI_FPV_Sunny (709)_processed.txt\n",
            "Label: drone\n",
            "-----\n",
            "Image Path: /content/drive/MyDrive/Drone_Crop/DJI_FPV_Sunny (519)_processed.jpg\n",
            "Label Path: /content/drive/MyDrive/Drone_Crop/DJI_FPV_Sunny (519)_processed.txt\n",
            "Label: drone\n",
            "-----\n",
            "Image Path: /content/drive/MyDrive/Drone_Crop/video15_352_processed.jpg\n",
            "Label Path: /content/drive/MyDrive/Drone_Crop/video15_352_processed.txt\n",
            "Label: drone\n",
            "-----\n",
            "Image Path: /content/drive/MyDrive/Drone_Crop/Dji_pantom_Sunny (580)_processed.jpg\n",
            "Label Path: /content/drive/MyDrive/Drone_Crop/Dji_pantom_Sunny (580)_processed.txt\n",
            "Label: drone\n",
            "-----\n",
            "Image Path: /content/drive/MyDrive/Drone_Crop/DJI_FPV_Sunny (1164)_processed.jpg\n",
            "Label Path: /content/drive/MyDrive/Drone_Crop/DJI_FPV_Sunny (1164)_processed.txt\n",
            "Label: drone\n",
            "-----\n",
            "Image Path: /content/drive/MyDrive/Drone_Crop/video17_887_processed.jpg\n",
            "Label Path: /content/drive/MyDrive/Drone_Crop/video17_887_processed.txt\n",
            "Label: drone\n",
            "-----\n"
          ]
        },
        {
          "output_type": "display_data",
          "data": {
            "text/plain": [
              "<PIL.Image.Image image mode=RGB size=28x28>"
            ],
            "image/png": "[encoded data removed]"
          },
          "metadata": {}
        },
        {
          "output_type": "display_data",
          "data": {
            "text/plain": [
              "<PIL.Image.Image image mode=RGB size=28x28>"
            ],
            "image/png": "[encoded data removed]"
          },
          "metadata": {}
        },
        {
          "output_type": "display_data",
          "data": {
            "text/plain": [
              "<PIL.Image.Image image mode=RGB size=28x28>"
            ],
            "image/png": "[encoded data removed]"
          },
          "metadata": {}
        },
        {
          "output_type": "display_data",
          "data": {
            "text/plain": [
              "<PIL.Image.Image image mode=RGB size=28x28>"
            ],
            "image/png": "[encoded data removed]"
          },
          "metadata": {}
        },
        {
          "output_type": "display_data",
          "data": {
            "text/plain": [
              "<PIL.Image.Image image mode=RGB size=28x28>"
            ],
            "image/png": "[encoded data removed]"
          },
          "metadata": {}
        },
        {
          "output_type": "display_data",
          "data": {
            "text/plain": [
              "<PIL.Image.Image image mode=RGB size=28x28>"
            ],
            "image/png": "[encoded data removed]"
          },
          "metadata": {}
        },
        {
          "output_type": "display_data",
          "data": {
            "text/plain": [
              "<PIL.Image.Image image mode=RGB size=28x28>"
            ],
            "image/png": "[encoded data removed]"
          },
          "metadata": {}
        },
        {
          "output_type": "display_data",
          "data": {
            "text/plain": [
              "<PIL.Image.Image image mode=RGB size=28x28>"
            ],
            "image/png": "[encoded data removed]"
          },
          "metadata": {}
        },
        {
          "output_type": "display_data",
          "data": {
            "text/plain": [
              "<PIL.Image.Image image mode=RGB size=28x28>"
            ],
            "image/png": "[encoded data removed]"
          },
          "metadata": {}
        },
        {
          "output_type": "display_data",
          "data": {
            "text/plain": [
              "<PIL.Image.Image image mode=RGB size=28x28>"
            ],
            "image/png": "[encoded data removed]"
          },
          "metadata": {}
        }
      ]
    },
    {
      "cell_type": "code",
      "source": [
        "import os\n",
        "import cv2\n",
        "import numpy as np\n",
        "from keras.preprocessing import image\n",
        "from random import sample\n",
        "\n",
        "# Set paths\n",
        "data_folder = \"/content/drive/MyDrive/Copy_of_drone_data\"\n",
        "not_drone_output_folder = \"/content/drive/MyDrive/Not_Drone_Crop\"\n",
        "\n",
        "# Get a list of all image files in the data folder\n",
        "all_images = [file for file in os.listdir(data_folder) if file.endswith(\".jpg\")]\n",
        "\n",
        "processed_not_drone_data = []\n",
        "\n",
        "# Function to randomly crop images, save in Not_Drone_Crop folder, and generate YOLOv8 format label file\n",
        "def process_not_drone_image(image_name):\n",
        "    # Read the image\n",
        "    img_path = os.path.join(data_folder, image_name)\n",
        "    img = cv2.imread(img_path)\n",
        "\n",
        "    # Check if the image is successfully loaded\n",
        "    if img is not None:\n",
        "        # Get image dimensions\n",
        "        img_height, img_width, _ = img.shape\n",
        "\n",
        "        # Set a random crop size (between 28 and the minimum of height and width)\n",
        "        crop_size = min(img_height, img_width, 28)  # Ensure the crop size is at most 28\n",
        "        x_start = np.random.randint(0, img_width - crop_size)\n",
        "        y_start = np.random.randint(0, img_height - crop_size)\n",
        "\n",
        "        # Calculate normalized coordinates\n",
        "        x_normalized = (x_start + crop_size // 2) / img_width\n",
        "        y_normalized = (y_start + crop_size // 2) / img_height\n",
        "        width_normalized = crop_size / img_width\n",
        "        height_normalized = crop_size / img_height\n",
        "\n",
        "        # Save the YOLOv8 format label file for not drone images\n",
        "        label_output_path = os.path.join(not_drone_output_folder, image_name.replace(\".jpg\", \"_not_drone.txt\"))\n",
        "        with open(label_output_path, \"w\") as label_output_file:\n",
        "            # Write YOLOv8 format to the label file\n",
        "            label_output_file.write(f\"0 {x_normalized} {y_normalized} {width_normalized} {height_normalized}\\n\")\n",
        "\n",
        "        # Crop the image based on the random bounding box\n",
        "        crop_img = img[y_start:y_start + crop_size, x_start:x_start + crop_size]\n",
        "\n",
        "        # Convert the cropped image to black and white\n",
        "        gray_img = cv2.cvtColor(crop_img, cv2.COLOR_BGR2GRAY)\n",
        "\n",
        "        # Resize the image to a quadratic form (28x28)\n",
        "        resized_img = cv2.resize(gray_img, (28, 28))\n",
        "\n",
        "        # Save the processed image\n",
        "        output_path = os.path.join(not_drone_output_folder, image_name.replace(\".jpg\", \"_not_drone_processed.jpg\"))\n",
        "        cv2.imwrite(output_path, resized_img)\n",
        "\n",
        "        # Append the processed data to the list\n",
        "        processed_not_drone_data.append({\"image_path\": output_path, \"label_path\": label_output_path, \"label\": \"not_drone\"})\n",
        "    else:\n",
        "        print(f\"Error: Unable to read image {image_name}\")\n",
        "\n",
        "# Process 10 images\n",
        "for img_name in sample(all_images, 10):\n",
        "    process_not_drone_image(img_name)\n",
        "\n",
        "# Display information about 10 randomly cropped not drone images and their labels\n",
        "for item in processed_not_drone_data:\n",
        "    print(f\"Image Path: {item['image_path']}\")\n",
        "    print(f\"Label Path: {item['label_path']}\")\n",
        "    print(f\"Label: {item['label']}\")\n",
        "    print(\"-----\")\n",
        "\n",
        "# Display 10 randomly cropped not drone images\n",
        "for item in processed_not_drone_data:\n",
        "    img = image.load_img(item[\"image_path\"])\n",
        "    display(img)\n"
      ],
      "metadata": {
        "colab": {
          "base_uri": "https://localhost:8080/",
          "height": 991
        },
        "id": "3Kx4rI5npWPI",
        "outputId": "83fd88c6-4479-4cda-b83c-74922904fbba"
      },
      "execution_count": 11,
      "outputs": [
        {
          "output_type": "stream",
          "name": "stdout",
          "text": [
            "Image Path: /content/drive/MyDrive/Not_Drone_Crop/DJI_FPV_Sunny (1069)_not_drone_processed.jpg\n",
            "Label Path: /content/drive/MyDrive/Not_Drone_Crop/DJI_FPV_Sunny (1069)_not_drone.txt\n",
            "Label: not_drone\n",
            "-----\n",
            "Image Path: /content/drive/MyDrive/Not_Drone_Crop/video19_934_not_drone_processed.jpg\n",
            "Label Path: /content/drive/MyDrive/Not_Drone_Crop/video19_934_not_drone.txt\n",
            "Label: not_drone\n",
            "-----\n",
            "Image Path: /content/drive/MyDrive/Not_Drone_Crop/MAVIC_Air_Cloudy (769)_not_drone_processed.jpg\n",
            "Label Path: /content/drive/MyDrive/Not_Drone_Crop/MAVIC_Air_Cloudy (769)_not_drone.txt\n",
            "Label: not_drone\n",
            "-----\n",
            "Image Path: /content/drive/MyDrive/Not_Drone_Crop/Dji_pantom_Sunny (19)_not_drone_processed.jpg\n",
            "Label Path: /content/drive/MyDrive/Not_Drone_Crop/Dji_pantom_Sunny (19)_not_drone.txt\n",
            "Label: not_drone\n",
            "-----\n",
            "Image Path: /content/drive/MyDrive/Not_Drone_Crop/video18_1629_not_drone_processed.jpg\n",
            "Label Path: /content/drive/MyDrive/Not_Drone_Crop/video18_1629_not_drone.txt\n",
            "Label: not_drone\n",
            "-----\n",
            "Image Path: /content/drive/MyDrive/Not_Drone_Crop/DJI_FPV_Evening (228)_not_drone_processed.jpg\n",
            "Label Path: /content/drive/MyDrive/Not_Drone_Crop/DJI_FPV_Evening (228)_not_drone.txt\n",
            "Label: not_drone\n",
            "-----\n",
            "Image Path: /content/drive/MyDrive/Not_Drone_Crop/MAVIC_Air_Cloudy (1083)_not_drone_processed.jpg\n",
            "Label Path: /content/drive/MyDrive/Not_Drone_Crop/MAVIC_Air_Cloudy (1083)_not_drone.txt\n",
            "Label: not_drone\n",
            "-----\n",
            "Image Path: /content/drive/MyDrive/Not_Drone_Crop/MAVIC_Air_Evening (1001)_not_drone_processed.jpg\n",
            "Label Path: /content/drive/MyDrive/Not_Drone_Crop/MAVIC_Air_Evening (1001)_not_drone.txt\n",
            "Label: not_drone\n",
            "-----\n",
            "Image Path: /content/drive/MyDrive/Not_Drone_Crop/MAVIC_Air_Cloudy (780)_not_drone_processed.jpg\n",
            "Label Path: /content/drive/MyDrive/Not_Drone_Crop/MAVIC_Air_Cloudy (780)_not_drone.txt\n",
            "Label: not_drone\n",
            "-----\n",
            "Image Path: /content/drive/MyDrive/Not_Drone_Crop/MAVIC_Air_Evening (856)_not_drone_processed.jpg\n",
            "Label Path: /content/drive/MyDrive/Not_Drone_Crop/MAVIC_Air_Evening (856)_not_drone.txt\n",
            "Label: not_drone\n",
            "-----\n"
          ]
        },
        {
          "output_type": "display_data",
          "data": {
            "text/plain": [
              "<PIL.Image.Image image mode=RGB size=28x28>"
            ],
            "image/png": "[encoded data removed]"
          },
          "metadata": {}
        },
        {
          "output_type": "display_data",
          "data": {
            "text/plain": [
              "<PIL.Image.Image image mode=RGB size=28x28>"
            ],
            "image/png": "[encoded data removed]"
          },
          "metadata": {}
        },
        {
          "output_type": "display_data",
          "data": {
            "text/plain": [
              "<PIL.Image.Image image mode=RGB size=28x28>"
            ],
            "image/png": "[encoded data removed]"
          },
          "metadata": {}
        },
        {
          "output_type": "display_data",
          "data": {
            "text/plain": [
              "<PIL.Image.Image image mode=RGB size=28x28>"
            ],
            "image/png": "[encoded data removed]"
          },
          "metadata": {}
        },
        {
          "output_type": "display_data",
          "data": {
            "text/plain": [
              "<PIL.Image.Image image mode=RGB size=28x28>"
            ],
            "image/png": "[encoded data removed]"
          },
          "metadata": {}
        },
        {
          "output_type": "display_data",
          "data": {
            "text/plain": [
              "<PIL.Image.Image image mode=RGB size=28x28>"
            ],
            "image/png": "[encoded data removed]"
          },
          "metadata": {}
        },
        {
          "output_type": "display_data",
          "data": {
            "text/plain": [
              "<PIL.Image.Image image mode=RGB size=28x28>"
            ],
            "image/png": "[encoded data removed]"
          },
          "metadata": {}
        },
        {
          "output_type": "display_data",
          "data": {
            "text/plain": [
              "<PIL.Image.Image image mode=RGB size=28x28>"
            ],
            "image/png": "[encoded data removed]"
          },
          "metadata": {}
        },
        {
          "output_type": "display_data",
          "data": {
            "text/plain": [
              "<PIL.Image.Image image mode=RGB size=28x28>"
            ],
            "image/png": "[encoded data removed]"
          },
          "metadata": {}
        },
        {
          "output_type": "display_data",
          "data": {
            "text/plain": [
              "<PIL.Image.Image image mode=RGB size=28x28>"
            ],
            "image/png": "[encoded data removed]"
          },
          "metadata": {}
        }
      ]
    },
    {
      "cell_type": "code",
      "source": [
        "import os\n",
        "import cv2\n",
        "import numpy as np\n",
        "from keras.preprocessing import image\n",
        "from random import sample\n",
        "\n",
        "# Set paths\n",
        "data_folder = \"/content/drive/MyDrive/Copy_of_drone_data\"\n",
        "not_drone_output_folder = \"/content/drive/MyDrive/Not_Drone_Crop\"\n",
        "\n",
        "# Get a list of all image files in the data folder\n",
        "all_images = [file for file in os.listdir(data_folder) if file.endswith(\".jpg\")]\n",
        "\n",
        "processed_not_drone_data = []\n",
        "\n",
        "# Function to randomly crop images, save in Not_Drone_Crop folder, and generate YOLOv8 format label file\n",
        "def process_not_drone_image(image_name):\n",
        "    # Read the image\n",
        "    img_path = os.path.join(data_folder, image_name)\n",
        "    img = cv2.imread(img_path)\n",
        "\n",
        "    # Check if the image is successfully loaded\n",
        "    if img is not None:\n",
        "        # Get image dimensions\n",
        "        img_height, img_width, _ = img.shape\n",
        "\n",
        "        # Set a random crop size (between 28 and the minimum of height and width)\n",
        "        crop_size = min(img_height, img_width, 28)  # Ensure the crop size is at most 28\n",
        "        x_start = np.random.randint(0, img_width - crop_size)\n",
        "        y_start = np.random.randint(0, img_height - crop_size)\n",
        "\n",
        "        # Calculate normalized coordinates\n",
        "        x_normalized = (x_start + crop_size // 2) / img_width\n",
        "        y_normalized = (y_start + crop_size // 2) / img_height\n",
        "        width_normalized = crop_size / img_width\n",
        "        height_normalized = crop_size / img_height\n",
        "\n",
        "        # Save the YOLOv8 format label file for not drone images\n",
        "        label_output_path = os.path.join(not_drone_output_folder, image_name.replace(\".jpg\", \"_not_drone.txt\"))\n",
        "        with open(label_output_path, \"w\") as label_output_file:\n",
        "            # Write YOLOv8 format to the label file\n",
        "            label_output_file.write(f\"0 {x_normalized} {y_normalized} {width_normalized} {height_normalized}\\n\")\n",
        "\n",
        "        # Crop the image based on the random bounding box\n",
        "        crop_img = img[y_start:y_start + crop_size, x_start:x_start + crop_size]\n",
        "\n",
        "        # Convert the cropped image to black and white\n",
        "        gray_img = cv2.cvtColor(crop_img, cv2.COLOR_BGR2GRAY)\n",
        "\n",
        "        # Resize the image to a quadratic form (28x28)\n",
        "        resized_img = cv2.resize(gray_img, (28, 28))\n",
        "\n",
        "        # Save the processed image in Not_Drone_Crop folder\n",
        "        output_path = os.path.join(not_drone_output_folder, image_name.replace(\".jpg\", \"_not_drone_processed.jpg\"))\n",
        "        cv2.imwrite(output_path, resized_img)\n",
        "\n",
        "        # Append the processed data to the list\n",
        "        processed_not_drone_data.append({\"image_path\": output_path, \"label_path\": label_output_path, \"label\": \"not_drone\"})\n",
        "    else:\n",
        "        print(f\"Error: Unable to read image {image_name}\")\n",
        "\n",
        "# Process 10 images\n",
        "for img_name in sample(all_images, 10):\n",
        "    process_not_drone_image(img_name)\n",
        "\n",
        "# Display information about 10 randomly cropped not drone images and their labels\n",
        "for item in processed_not_drone_data:\n",
        "    print(f\"Image Path: {item['image_path']}\")\n",
        "    print(f\"Label Path: {item['label_path']}\")\n",
        "    print(f\"Label: {item['label']}\")\n",
        "    print(\"-----\")\n",
        "\n",
        "# Display 10 randomly cropped not drone images\n",
        "for item in processed_not_drone_data:\n",
        "    img = image.load_img(item[\"image_path\"])\n",
        "    display(img)\n"
      ],
      "metadata": {
        "colab": {
          "base_uri": "https://localhost:8080/",
          "height": 991
        },
        "id": "45B1TefJp-Q0",
        "outputId": "14f83ad9-c7f9-4a48-ff4e-da10d14db1e3"
      },
      "execution_count": 13,
      "outputs": [
        {
          "output_type": "stream",
          "name": "stdout",
          "text": [
            "Image Path: /content/drive/MyDrive/Not_Drone_Crop/DJI_FPV_Evening (783)_not_drone_processed.jpg\n",
            "Label Path: /content/drive/MyDrive/Not_Drone_Crop/DJI_FPV_Evening (783)_not_drone.txt\n",
            "Label: not_drone\n",
            "-----\n",
            "Image Path: /content/drive/MyDrive/Not_Drone_Crop/MAVIC_Air_Evening (831)_not_drone_processed.jpg\n",
            "Label Path: /content/drive/MyDrive/Not_Drone_Crop/MAVIC_Air_Evening (831)_not_drone.txt\n",
            "Label: not_drone\n",
            "-----\n",
            "Image Path: /content/drive/MyDrive/Not_Drone_Crop/DJI_FPV_Cloudy (1010)_not_drone_processed.jpg\n",
            "Label Path: /content/drive/MyDrive/Not_Drone_Crop/DJI_FPV_Cloudy (1010)_not_drone.txt\n",
            "Label: not_drone\n",
            "-----\n",
            "Image Path: /content/drive/MyDrive/Not_Drone_Crop/video18_1222_not_drone_processed.jpg\n",
            "Label Path: /content/drive/MyDrive/Not_Drone_Crop/video18_1222_not_drone.txt\n",
            "Label: not_drone\n",
            "-----\n",
            "Image Path: /content/drive/MyDrive/Not_Drone_Crop/DJI_FPV_Cloudy (262)_not_drone_processed.jpg\n",
            "Label Path: /content/drive/MyDrive/Not_Drone_Crop/DJI_FPV_Cloudy (262)_not_drone.txt\n",
            "Label: not_drone\n",
            "-----\n",
            "Image Path: /content/drive/MyDrive/Not_Drone_Crop/MAVIC_Air_Evening (437)_not_drone_processed.jpg\n",
            "Label Path: /content/drive/MyDrive/Not_Drone_Crop/MAVIC_Air_Evening (437)_not_drone.txt\n",
            "Label: not_drone\n",
            "-----\n",
            "Image Path: /content/drive/MyDrive/Not_Drone_Crop/MAVIC_Air_Evening (513)_not_drone_processed.jpg\n",
            "Label Path: /content/drive/MyDrive/Not_Drone_Crop/MAVIC_Air_Evening (513)_not_drone.txt\n",
            "Label: not_drone\n",
            "-----\n",
            "Image Path: /content/drive/MyDrive/Not_Drone_Crop/MAVIC_Air_Evening (987)_not_drone_processed.jpg\n",
            "Label Path: /content/drive/MyDrive/Not_Drone_Crop/MAVIC_Air_Evening (987)_not_drone.txt\n",
            "Label: not_drone\n",
            "-----\n",
            "Image Path: /content/drive/MyDrive/Not_Drone_Crop/DJI_FPV_Cloudy (587)_not_drone_processed.jpg\n",
            "Label Path: /content/drive/MyDrive/Not_Drone_Crop/DJI_FPV_Cloudy (587)_not_drone.txt\n",
            "Label: not_drone\n",
            "-----\n",
            "Image Path: /content/drive/MyDrive/Not_Drone_Crop/MAVIC_Air_Cloudy (635)_not_drone_processed.jpg\n",
            "Label Path: /content/drive/MyDrive/Not_Drone_Crop/MAVIC_Air_Cloudy (635)_not_drone.txt\n",
            "Label: not_drone\n",
            "-----\n"
          ]
        },
        {
          "output_type": "display_data",
          "data": {
            "text/plain": [
              "<PIL.Image.Image image mode=RGB size=28x28>"
            ],
            "image/png": "[encoded data removed]"
          },
          "metadata": {}
        },
        {
          "output_type": "display_data",
          "data": {
            "text/plain": [
              "<PIL.Image.Image image mode=RGB size=28x28>"
            ],
            "image/png": "[encoded data removed]"
          },
          "metadata": {}
        },
        {
          "output_type": "display_data",
          "data": {
            "text/plain": [
              "<PIL.Image.Image image mode=RGB size=28x28>"
            ],
            "image/png": "[encoded data removed]"
          },
          "metadata": {}
        },
        {
          "output_type": "display_data",
          "data": {
            "text/plain": [
              "<PIL.Image.Image image mode=RGB size=28x28>"
            ],
            "image/png": "[encoded data removed]"
          },
          "metadata": {}
        },
        {
          "output_type": "display_data",
          "data": {
            "text/plain": [
              "<PIL.Image.Image image mode=RGB size=28x28>"
            ],
            "image/png": "[encoded data removed]"
          },
          "metadata": {}
        },
        {
          "output_type": "display_data",
          "data": {
            "text/plain": [
              "<PIL.Image.Image image mode=RGB size=28x28>"
            ],
            "image/png": "[encoded data removed]"
          },
          "metadata": {}
        },
        {
          "output_type": "display_data",
          "data": {
            "text/plain": [
              "<PIL.Image.Image image mode=RGB size=28x28>"
            ],
            "image/png": "[encoded data removed]"
          },
          "metadata": {}
        },
        {
          "output_type": "display_data",
          "data": {
            "text/plain": [
              "<PIL.Image.Image image mode=RGB size=28x28>"
            ],
            "image/png": "[encoded data removed]"
          },
          "metadata": {}
        },
        {
          "output_type": "display_data",
          "data": {
            "text/plain": [
              "<PIL.Image.Image image mode=RGB size=28x28>"
            ],
            "image/png": "[encoded data removed]"
          },
          "metadata": {}
        },
        {
          "output_type": "display_data",
          "data": {
            "text/plain": [
              "<PIL.Image.Image image mode=RGB size=28x28>"
            ],
            "image/png": "[encoded data removed]"
          },
          "metadata": {}
        }
      ]
    },
    {
      "cell_type": "code",
      "source": [
        "import os\n",
        "import cv2\n",
        "import numpy as np\n",
        "from keras.preprocessing import image\n",
        "from random import sample\n",
        "\n",
        "# Set paths\n",
        "data_folder = \"/content/drive/MyDrive/Copy_of_drone_data\"\n",
        "not_drone_output_folder = \"/content/drive/MyDrive/Not_Drone_Crop\"\n",
        "\n",
        "# Get a list of all image files in the data folder\n",
        "all_images = [file for file in os.listdir(data_folder) if file.endswith(\".jpg\")]\n",
        "\n",
        "processed_not_drone_data = []\n",
        "\n",
        "# Function to randomly crop images, save in Not_Drone_Crop folder, and generate YOLOv8 format label file\n",
        "def process_not_drone_image(image_name):\n",
        "    # Read the image\n",
        "    img_path = os.path.join(data_folder, image_name)\n",
        "    img = cv2.imread(img_path)\n",
        "\n",
        "    # Check if the image is successfully loaded\n",
        "    if img is not None:\n",
        "        # Get image dimensions\n",
        "        img_height, img_width, _ = img.shape\n",
        "\n",
        "        # Set a random crop size (between 28 and the minimum of height and width)\n",
        "        crop_size = min(img_height, img_width, 28)  # Ensure the crop size is at most 28\n",
        "        x_start = np.random.randint(0, img_width - crop_size)\n",
        "        y_start = np.random.randint(0, img_height - crop_size)\n",
        "\n",
        "        # Calculate normalized coordinates\n",
        "        x_normalized = (x_start + crop_size // 2) / img_width\n",
        "        y_normalized = (y_start + crop_size // 2) / img_height\n",
        "        width_normalized = crop_size / img_width\n",
        "        height_normalized = crop_size / img_height\n",
        "\n",
        "        # Crop the image based on the random bounding box\n",
        "        crop_img = img[y_start:y_start + crop_size, x_start:x_start + crop_size]\n",
        "\n",
        "        # Convert the cropped image to black and white\n",
        "        gray_img = cv2.cvtColor(crop_img, cv2.COLOR_BGR2GRAY)\n",
        "\n",
        "        # Resize the image to a quadratic form (28x28)\n",
        "        resized_img = cv2.resize(gray_img, (28, 28))\n",
        "\n",
        "        # Save the processed image in Not_Drone_Crop folder\n",
        "        output_path = os.path.join(not_drone_output_folder, image_name.replace(\".jpg\", \"_not_drone_processed.jpg\"))\n",
        "        cv2.imwrite(output_path, resized_img)\n",
        "\n",
        "        # Save the YOLOv8 format label file for not drone images\n",
        "        label_output_path = os.path.join(not_drone_output_folder, image_name.replace(\".jpg\", \"_not_drone_processed.txt\"))\n",
        "        with open(label_output_path, \"w\") as label_output_file:\n",
        "            # Write YOLOv8 format to the label file\n",
        "            label_output_file.write(f\"0 {x_normalized} {y_normalized} {width_normalized} {height_normalized}\\n\")\n",
        "\n",
        "        # Append the processed data to the list\n",
        "        processed_not_drone_data.append({\"image_path\": output_path, \"label_path\": label_output_path, \"label\": \"not_drone\"})\n",
        "    else:\n",
        "        print(f\"Error: Unable to read image {image_name}\")\n",
        "\n",
        "# Process 10 images\n",
        "for img_name in sample(all_images, 10):\n",
        "    process_not_drone_image(img_name)\n",
        "\n",
        "# Display information about 10 randomly cropped not drone images and their labels\n",
        "for item in processed_not_drone_data:\n",
        "    print(f\"Image Path: {item['image_path']}\")\n",
        "    print(f\"Label Path: {item['label_path']}\")\n",
        "    print(f\"Label: {item['label']}\")\n",
        "    print(\"-----\")\n",
        "\n",
        "# Display 10 randomly cropped not drone images\n",
        "for item in processed_not_drone_data:\n",
        "    img = image.load_img(item[\"image_path\"])\n",
        "    display(img)\n"
      ],
      "metadata": {
        "colab": {
          "base_uri": "https://localhost:8080/",
          "height": 991
        },
        "id": "LuKdb8YCqmIl",
        "outputId": "44ebae06-ae75-4b62-bfa4-6d50ef1c48e5"
      },
      "execution_count": 1,
      "outputs": [
        {
          "output_type": "stream",
          "name": "stdout",
          "text": [
            "Image Path: /content/drive/MyDrive/Not_Drone_Crop/video14_121_not_drone_processed.jpg\n",
            "Label Path: /content/drive/MyDrive/Not_Drone_Crop/video14_121_not_drone_processed.txt\n",
            "Label: not_drone\n",
            "-----\n",
            "Image Path: /content/drive/MyDrive/Not_Drone_Crop/video16_366_not_drone_processed.jpg\n",
            "Label Path: /content/drive/MyDrive/Not_Drone_Crop/video16_366_not_drone_processed.txt\n",
            "Label: not_drone\n",
            "-----\n",
            "Image Path: /content/drive/MyDrive/Not_Drone_Crop/video18_2033_not_drone_processed.jpg\n",
            "Label Path: /content/drive/MyDrive/Not_Drone_Crop/video18_2033_not_drone_processed.txt\n",
            "Label: not_drone\n",
            "-----\n",
            "Image Path: /content/drive/MyDrive/Not_Drone_Crop/video14_137_not_drone_processed.jpg\n",
            "Label Path: /content/drive/MyDrive/Not_Drone_Crop/video14_137_not_drone_processed.txt\n",
            "Label: not_drone\n",
            "-----\n",
            "Image Path: /content/drive/MyDrive/Not_Drone_Crop/DJI_FPV_Sunny (427)_not_drone_processed.jpg\n",
            "Label Path: /content/drive/MyDrive/Not_Drone_Crop/DJI_FPV_Sunny (427)_not_drone_processed.txt\n",
            "Label: not_drone\n",
            "-----\n",
            "Image Path: /content/drive/MyDrive/Not_Drone_Crop/video19_2351_not_drone_processed.jpg\n",
            "Label Path: /content/drive/MyDrive/Not_Drone_Crop/video19_2351_not_drone_processed.txt\n",
            "Label: not_drone\n",
            "-----\n",
            "Image Path: /content/drive/MyDrive/Not_Drone_Crop/Dji_pantom_Sunny (192)_not_drone_processed.jpg\n",
            "Label Path: /content/drive/MyDrive/Not_Drone_Crop/Dji_pantom_Sunny (192)_not_drone_processed.txt\n",
            "Label: not_drone\n",
            "-----\n",
            "Image Path: /content/drive/MyDrive/Not_Drone_Crop/video16_465_not_drone_processed.jpg\n",
            "Label Path: /content/drive/MyDrive/Not_Drone_Crop/video16_465_not_drone_processed.txt\n",
            "Label: not_drone\n",
            "-----\n",
            "Image Path: /content/drive/MyDrive/Not_Drone_Crop/video16_141_not_drone_processed.jpg\n",
            "Label Path: /content/drive/MyDrive/Not_Drone_Crop/video16_141_not_drone_processed.txt\n",
            "Label: not_drone\n",
            "-----\n",
            "Image Path: /content/drive/MyDrive/Not_Drone_Crop/DJI_FPV_Sunny (678)_not_drone_processed.jpg\n",
            "Label Path: /content/drive/MyDrive/Not_Drone_Crop/DJI_FPV_Sunny (678)_not_drone_processed.txt\n",
            "Label: not_drone\n",
            "-----\n"
          ]
        },
        {
          "output_type": "display_data",
          "data": {
            "text/plain": [
              "<PIL.Image.Image image mode=RGB size=28x28>"
            ],
            "image/png": "[encoded data removed]"
          },
          "metadata": {}
        },
        {
          "output_type": "display_data",
          "data": {
            "text/plain": [
              "<PIL.Image.Image image mode=RGB size=28x28>"
            ],
            "image/png": "[encoded data removed]"
          },
          "metadata": {}
        },
        {
          "output_type": "display_data",
          "data": {
            "text/plain": [
              "<PIL.Image.Image image mode=RGB size=28x28>"
            ],
            "image/png": "[encoded data removed]"
          },
          "metadata": {}
        },
        {
          "output_type": "display_data",
          "data": {
            "text/plain": [
              "<PIL.Image.Image image mode=RGB size=28x28>"
            ],
            "image/png": "[encoded data removed]"
          },
          "metadata": {}
        },
        {
          "output_type": "display_data",
          "data": {
            "text/plain": [
              "<PIL.Image.Image image mode=RGB size=28x28>"
            ],
            "image/png": "[encoded data removed]"
          },
          "metadata": {}
        },
        {
          "output_type": "display_data",
          "data": {
            "text/plain": [
              "<PIL.Image.Image image mode=RGB size=28x28>"
            ],
            "image/png": "[encoded data removed]"
          },
          "metadata": {}
        },
        {
          "output_type": "display_data",
          "data": {
            "text/plain": [
              "<PIL.Image.Image image mode=RGB size=28x28>"
            ],
            "image/png": "[encoded data removed]"
          },
          "metadata": {}
        },
        {
          "output_type": "display_data",
          "data": {
            "text/plain": [
              "<PIL.Image.Image image mode=RGB size=28x28>"
            ],
            "image/png": "[encoded data removed]"
          },
          "metadata": {}
        },
        {
          "output_type": "display_data",
          "data": {
            "text/plain": [
              "<PIL.Image.Image image mode=RGB size=28x28>"
            ],
            "image/png": "[encoded data removed]"
          },
          "metadata": {}
        },
        {
          "output_type": "display_data",
          "data": {
            "text/plain": [
              "<PIL.Image.Image image mode=RGB size=28x28>"
            ],
            "image/png": "[encoded data removed]"
          },
          "metadata": {}
        }
      ]
    },
    {
      "cell_type": "code",
      "source": [
        "import os\n",
        "import cv2\n",
        "import numpy as np\n",
        "from keras.preprocessing import image\n",
        "from random import sample\n",
        "\n",
        "# Set paths\n",
        "data_folder = \"/content/drive/MyDrive/Copy_of_drone_data\"\n",
        "not_drone_output_folder = \"/content/drive/MyDrive/Not_Drone_Crop\"\n",
        "\n",
        "# Get a list of all image files in the data folder\n",
        "all_images = [file for file in os.listdir(data_folder) if file.endswith(\".jpg\")]\n",
        "\n",
        "processed_not_drone_data = []\n",
        "\n",
        "# Function to randomly crop images, save in Not_Drone_Crop folder, and generate YOLOv8 format label file\n",
        "def process_not_drone_image(image_name):\n",
        "    # Read the image\n",
        "    img_path = os.path.join(data_folder, image_name)\n",
        "    img = cv2.imread(img_path)\n",
        "\n",
        "    # Check if the image is successfully loaded\n",
        "    if img is not None:\n",
        "        # Get image dimensions\n",
        "        img_height, img_width, _ = img.shape\n",
        "\n",
        "        # Set a random crop size (between 28 and the minimum of height and width)\n",
        "        crop_size = min(img_height, img_width, 28)  # Ensure the crop size is at most 28\n",
        "        x_start = np.random.randint(0, img_width - crop_size)\n",
        "        y_start = np.random.randint(0, img_height - crop_size)\n",
        "\n",
        "        # Calculate normalized coordinates\n",
        "        x_normalized = (x_start + crop_size // 2) / img_width\n",
        "        y_normalized = (y_start + crop_size // 2) / img_height\n",
        "        width_normalized = crop_size / img_width\n",
        "        height_normalized = crop_size / img_height\n",
        "\n",
        "        # Crop the image based on the random bounding box\n",
        "        crop_img = img[y_start:y_start + crop_size, x_start:x_start + crop_size]\n",
        "\n",
        "        # Convert the cropped image to black and white\n",
        "        gray_img = cv2.cvtColor(crop_img, cv2.COLOR_BGR2GRAY)\n",
        "\n",
        "        # Resize the image to a quadratic form (28x28)\n",
        "        resized_img = cv2.resize(gray_img, (28, 28))\n",
        "\n",
        "        # Save the processed image in Not_Drone_Crop folder\n",
        "        output_path = os.path.join(not_drone_output_folder, image_name.replace(\".jpg\", \"_not_drone_processed.jpg\"))\n",
        "        cv2.imwrite(output_path, resized_img)\n",
        "\n",
        "        # Save the YOLOv8 format label file for not drone images\n",
        "        label_output_path = os.path.join(not_drone_output_folder, image_name.replace(\".jpg\", \"_not_drone_processed.txt\"))\n",
        "        with open(label_output_path, \"w\") as label_output_file:\n",
        "            # Write YOLOv8 format to the label file\n",
        "            label_output_file.write(f\"0 {x_normalized} {y_normalized} {width_normalized} {height_normalized}\\n\")\n",
        "\n",
        "        # Append the processed data to the list\n",
        "        processed_not_drone_data.append({\"image_path\": output_path, \"label_path\": label_output_path, \"label\": \"not_drone\"})\n",
        "    else:\n",
        "        print(f\"Error: Unable to read image {image_name}\")\n",
        "\n",
        "# Process all images\n",
        "for img_name in all_images:\n",
        "    process_not_drone_image(img_name)\n",
        "\n",
        "# Display information about 5 randomly cropped not drone images and their labels\n",
        "for item in sample(processed_not_drone_data, 5):\n",
        "    print(f\"Image Path: {item['image_path']}\")\n",
        "    print(f\"Label Path: {item['label_path']}\")\n",
        "    print(f\"Label: {item['label']}\")\n",
        "    print(\"-----\")\n",
        "\n",
        "# Display 5 randomly cropped not drone images\n",
        "for item in sample(processed_not_drone_data, 5):\n",
        "    img = image.load_img(item[\"image_path\"])\n",
        "    display(img)\n"
      ],
      "metadata": {
        "colab": {
          "base_uri": "https://localhost:8080/",
          "height": 504
        },
        "id": "lkJOXh9YsF3Q",
        "outputId": "98bfa027-69ed-4180-c4bf-02cd0d57d654"
      },
      "execution_count": 4,
      "outputs": [
        {
          "output_type": "stream",
          "name": "stdout",
          "text": [
            "Image Path: /content/drive/MyDrive/Not_Drone_Crop/DJI_FPV_Cloudy (535)_not_drone_processed.jpg\n",
            "Label Path: /content/drive/MyDrive/Not_Drone_Crop/DJI_FPV_Cloudy (535)_not_drone_processed.txt\n",
            "Label: not_drone\n",
            "-----\n",
            "Image Path: /content/drive/MyDrive/Not_Drone_Crop/Dji_pantom_Sunny (1090)_not_drone_processed.jpg\n",
            "Label Path: /content/drive/MyDrive/Not_Drone_Crop/Dji_pantom_Sunny (1090)_not_drone_processed.txt\n",
            "Label: not_drone\n",
            "-----\n",
            "Image Path: /content/drive/MyDrive/Not_Drone_Crop/video1345_not_drone_processed.jpg\n",
            "Label Path: /content/drive/MyDrive/Not_Drone_Crop/video1345_not_drone_processed.txt\n",
            "Label: not_drone\n",
            "-----\n",
            "Image Path: /content/drive/MyDrive/Not_Drone_Crop/video16_479_not_drone_processed.jpg\n",
            "Label Path: /content/drive/MyDrive/Not_Drone_Crop/video16_479_not_drone_processed.txt\n",
            "Label: not_drone\n",
            "-----\n",
            "Image Path: /content/drive/MyDrive/Not_Drone_Crop/DJI_FPV_Sunny (905)_not_drone_processed.jpg\n",
            "Label Path: /content/drive/MyDrive/Not_Drone_Crop/DJI_FPV_Sunny (905)_not_drone_processed.txt\n",
            "Label: not_drone\n",
            "-----\n"
          ]
        },
        {
          "output_type": "display_data",
          "data": {
            "text/plain": [
              "<PIL.Image.Image image mode=RGB size=28x28>"
            ],
            "image/png": "[encoded data removed]"
          },
          "metadata": {}
        },
        {
          "output_type": "display_data",
          "data": {
            "text/plain": [
              "<PIL.Image.Image image mode=RGB size=28x28>"
            ],
            "image/png": "[encoded data removed]"
          },
          "metadata": {}
        },
        {
          "output_type": "display_data",
          "data": {
            "text/plain": [
              "<PIL.Image.Image image mode=RGB size=28x28>"
            ],
            "image/png": "[encoded data removed]"
          },
          "metadata": {}
        },
        {
          "output_type": "display_data",
          "data": {
            "text/plain": [
              "<PIL.Image.Image image mode=RGB size=28x28>"
            ],
            "image/png": "[encoded data removed]"
          },
          "metadata": {}
        },
        {
          "output_type": "display_data",
          "data": {
            "text/plain": [
              "<PIL.Image.Image image mode=RGB size=28x28>"
            ],
            "image/png": "[encoded data removed]"
          },
          "metadata": {}
        }
      ]
    },
    {
      "cell_type": "code",
      "source": [
        "import tensorflow as tf\n",
        "from tensorflow.keras.utils import to_categorical\n",
        "from sklearn.model_selection import train_test_split\n",
        "from sklearn.preprocessing import LabelEncoder\n",
        "\n",
        "# Set paths\n",
        "drone_crop_folder = \"/content/drive/MyDrive/Drone_Crop\"\n",
        "not_drone_crop_folder = \"/content/drive/MyDrive/Not_Drone_Crop\"\n",
        "\n",
        "# Function to load and preprocess image\n",
        "def load_and_preprocess_image(image_path):\n",
        "    img = tf.io.read_file(image_path)\n",
        "    img = tf.image.decode_jpeg(img, channels=1)  # Assuming images are grayscale\n",
        "    img = tf.image.resize(img, (28, 28))  # Resize to your desired size\n",
        "    img = tf.image.convert_image_dtype(img, tf.float32)  # Normalize to [0, 1]\n",
        "    return img\n",
        "\n",
        "# Function to parse label file and get the label\n",
        "def parse_label_file(label_path):\n",
        "    label = tf.io.read_file(label_path)\n",
        "    label = tf.strings.split(label, \" \")\n",
        "    label = tf.strings.to_number(label, out_type=tf.float32)\n",
        "    return label\n",
        "\n",
        "# Function to create a dataset from a folder\n",
        "def create_dataset(image_folder, label_folder, label_value):\n",
        "    image_paths = [os.path.join(image_folder, file) for file in os.listdir(image_folder) if file.endswith(\".jpg\")]\n",
        "    label_paths = [os.path.join(label_folder, file) for file in os.listdir(label_folder) if file.endswith(\".txt\")]\n",
        "\n",
        "    # Shuffle and split the data\n",
        "    image_paths_train, image_paths_val, label_paths_train, label_paths_val = train_test_split(\n",
        "        image_paths, label_paths, test_size=0.2, random_state=42\n",
        "    )\n",
        "\n",
        "    # Create TensorFlow dataset\n",
        "    dataset = tf.data.Dataset.from_tensor_slices((image_paths_train, label_paths_train))\n",
        "    dataset = dataset.map(lambda img_path, label_path: (load_and_preprocess_image(img_path), parse_label_file(label_path)))\n",
        "\n",
        "    return dataset\n",
        "\n",
        "# Create datasets for Drone and Not Drone\n",
        "drone_dataset = create_dataset(drone_crop_folder, drone_crop_folder, 1)\n",
        "not_drone_dataset = create_dataset(not_drone_crop_folder, not_drone_crop_folder, 0)\n",
        "\n",
        "# Combine the datasets\n",
        "combined_dataset = drone_dataset.concatenate(not_drone_dataset)\n",
        "\n",
        "# Shuffle and batch the combined dataset\n",
        "batch_size = 32\n",
        "combined_dataset = combined_dataset.shuffle(buffer_size=10000).batch(batch_size)\n",
        "\n",
        "# Print the first two batches\n",
        "for images, labels in combined_dataset.take(2):\n",
        "    print(\"Batch Shape:\", images.shape)\n",
        "    print(\"Labels:\", labels.numpy())\n"
      ],
      "metadata": {
        "colab": {
          "base_uri": "https://localhost:8080/",
          "height": 773
        },
        "id": "42QwLA0VzENB",
        "outputId": "2f55efbb-35ea-4ac9-9b7e-db0023c0e4e4"
      },
      "execution_count": 5,
      "outputs": [
        {
          "output_type": "error",
          "ename": "ValueError",
          "evalue": "ignored",
          "traceback": [
            "\u001b[0;31m---------------------------------------------------------------------------\u001b[0m",
            "\u001b[0;31mValueError\u001b[0m                                Traceback (most recent call last)",
            "\u001b[0;32m<ipython-input-5-2f9c5a050787>\u001b[0m in \u001b[0;36m<cell line: 42>\u001b[0;34m()\u001b[0m\n\u001b[1;32m     40\u001b[0m \u001b[0;34m\u001b[0m\u001b[0m\n\u001b[1;32m     41\u001b[0m \u001b[0;31m# Create datasets for Drone and Not Drone\u001b[0m\u001b[0;34m\u001b[0m\u001b[0;34m\u001b[0m\u001b[0m\n\u001b[0;32m---> 42\u001b[0;31m \u001b[0mdrone_dataset\u001b[0m \u001b[0;34m=\u001b[0m \u001b[0mcreate_dataset\u001b[0m\u001b[0;34m(\u001b[0m\u001b[0mdrone_crop_folder\u001b[0m\u001b[0;34m,\u001b[0m \u001b[0mdrone_crop_folder\u001b[0m\u001b[0;34m,\u001b[0m \u001b[0;36m1\u001b[0m\u001b[0;34m)\u001b[0m\u001b[0;34m\u001b[0m\u001b[0;34m\u001b[0m\u001b[0m\n\u001b[0m\u001b[1;32m     43\u001b[0m \u001b[0mnot_drone_dataset\u001b[0m \u001b[0;34m=\u001b[0m \u001b[0mcreate_dataset\u001b[0m\u001b[0;34m(\u001b[0m\u001b[0mnot_drone_crop_folder\u001b[0m\u001b[0;34m,\u001b[0m \u001b[0mnot_drone_crop_folder\u001b[0m\u001b[0;34m,\u001b[0m \u001b[0;36m0\u001b[0m\u001b[0;34m)\u001b[0m\u001b[0;34m\u001b[0m\u001b[0;34m\u001b[0m\u001b[0m\n\u001b[1;32m     44\u001b[0m \u001b[0;34m\u001b[0m\u001b[0m\n",
            "\u001b[0;32m<ipython-input-5-2f9c5a050787>\u001b[0m in \u001b[0;36mcreate_dataset\u001b[0;34m(image_folder, label_folder, label_value)\u001b[0m\n\u001b[1;32m     29\u001b[0m \u001b[0;34m\u001b[0m\u001b[0m\n\u001b[1;32m     30\u001b[0m     \u001b[0;31m# Shuffle and split the data\u001b[0m\u001b[0;34m\u001b[0m\u001b[0;34m\u001b[0m\u001b[0m\n\u001b[0;32m---> 31\u001b[0;31m     image_paths_train, image_paths_val, label_paths_train, label_paths_val = train_test_split(\n\u001b[0m\u001b[1;32m     32\u001b[0m         \u001b[0mimage_paths\u001b[0m\u001b[0;34m,\u001b[0m \u001b[0mlabel_paths\u001b[0m\u001b[0;34m,\u001b[0m \u001b[0mtest_size\u001b[0m\u001b[0;34m=\u001b[0m\u001b[0;36m0.2\u001b[0m\u001b[0;34m,\u001b[0m \u001b[0mrandom_state\u001b[0m\u001b[0;34m=\u001b[0m\u001b[0;36m42\u001b[0m\u001b[0;34m\u001b[0m\u001b[0;34m\u001b[0m\u001b[0m\n\u001b[1;32m     33\u001b[0m     )\n",
            "\u001b[0;32m/usr/local/lib/python3.10/dist-packages/sklearn/model_selection/_split.py\u001b[0m in \u001b[0;36mtrain_test_split\u001b[0;34m(test_size, train_size, random_state, shuffle, stratify, *arrays)\u001b[0m\n\u001b[1;32m   2557\u001b[0m         \u001b[0;32mraise\u001b[0m \u001b[0mValueError\u001b[0m\u001b[0;34m(\u001b[0m\u001b[0;34m\"At least one array required as input\"\u001b[0m\u001b[0;34m)\u001b[0m\u001b[0;34m\u001b[0m\u001b[0;34m\u001b[0m\u001b[0m\n\u001b[1;32m   2558\u001b[0m \u001b[0;34m\u001b[0m\u001b[0m\n\u001b[0;32m-> 2559\u001b[0;31m     \u001b[0marrays\u001b[0m \u001b[0;34m=\u001b[0m \u001b[0mindexable\u001b[0m\u001b[0;34m(\u001b[0m\u001b[0;34m*\u001b[0m\u001b[0marrays\u001b[0m\u001b[0;34m)\u001b[0m\u001b[0;34m\u001b[0m\u001b[0;34m\u001b[0m\u001b[0m\n\u001b[0m\u001b[1;32m   2560\u001b[0m \u001b[0;34m\u001b[0m\u001b[0m\n\u001b[1;32m   2561\u001b[0m     \u001b[0mn_samples\u001b[0m \u001b[0;34m=\u001b[0m \u001b[0m_num_samples\u001b[0m\u001b[0;34m(\u001b[0m\u001b[0marrays\u001b[0m\u001b[0;34m[\u001b[0m\u001b[0;36m0\u001b[0m\u001b[0;34m]\u001b[0m\u001b[0;34m)\u001b[0m\u001b[0;34m\u001b[0m\u001b[0;34m\u001b[0m\u001b[0m\n",
            "\u001b[0;32m/usr/local/lib/python3.10/dist-packages/sklearn/utils/validation.py\u001b[0m in \u001b[0;36mindexable\u001b[0;34m(*iterables)\u001b[0m\n\u001b[1;32m    441\u001b[0m \u001b[0;34m\u001b[0m\u001b[0m\n\u001b[1;32m    442\u001b[0m     \u001b[0mresult\u001b[0m \u001b[0;34m=\u001b[0m \u001b[0;34m[\u001b[0m\u001b[0m_make_indexable\u001b[0m\u001b[0;34m(\u001b[0m\u001b[0mX\u001b[0m\u001b[0;34m)\u001b[0m \u001b[0;32mfor\u001b[0m \u001b[0mX\u001b[0m \u001b[0;32min\u001b[0m \u001b[0miterables\u001b[0m\u001b[0;34m]\u001b[0m\u001b[0;34m\u001b[0m\u001b[0;34m\u001b[0m\u001b[0m\n\u001b[0;32m--> 443\u001b[0;31m     \u001b[0mcheck_consistent_length\u001b[0m\u001b[0;34m(\u001b[0m\u001b[0;34m*\u001b[0m\u001b[0mresult\u001b[0m\u001b[0;34m)\u001b[0m\u001b[0;34m\u001b[0m\u001b[0;34m\u001b[0m\u001b[0m\n\u001b[0m\u001b[1;32m    444\u001b[0m     \u001b[0;32mreturn\u001b[0m \u001b[0mresult\u001b[0m\u001b[0;34m\u001b[0m\u001b[0;34m\u001b[0m\u001b[0m\n\u001b[1;32m    445\u001b[0m \u001b[0;34m\u001b[0m\u001b[0m\n",
            "\u001b[0;32m/usr/local/lib/python3.10/dist-packages/sklearn/utils/validation.py\u001b[0m in \u001b[0;36mcheck_consistent_length\u001b[0;34m(*arrays)\u001b[0m\n\u001b[1;32m    395\u001b[0m     \u001b[0muniques\u001b[0m \u001b[0;34m=\u001b[0m \u001b[0mnp\u001b[0m\u001b[0;34m.\u001b[0m\u001b[0munique\u001b[0m\u001b[0;34m(\u001b[0m\u001b[0mlengths\u001b[0m\u001b[0;34m)\u001b[0m\u001b[0;34m\u001b[0m\u001b[0;34m\u001b[0m\u001b[0m\n\u001b[1;32m    396\u001b[0m     \u001b[0;32mif\u001b[0m \u001b[0mlen\u001b[0m\u001b[0;34m(\u001b[0m\u001b[0muniques\u001b[0m\u001b[0;34m)\u001b[0m \u001b[0;34m>\u001b[0m \u001b[0;36m1\u001b[0m\u001b[0;34m:\u001b[0m\u001b[0;34m\u001b[0m\u001b[0;34m\u001b[0m\u001b[0m\n\u001b[0;32m--> 397\u001b[0;31m         raise ValueError(\n\u001b[0m\u001b[1;32m    398\u001b[0m             \u001b[0;34m\"Found input variables with inconsistent numbers of samples: %r\"\u001b[0m\u001b[0;34m\u001b[0m\u001b[0;34m\u001b[0m\u001b[0m\n\u001b[1;32m    399\u001b[0m             \u001b[0;34m%\u001b[0m \u001b[0;34m[\u001b[0m\u001b[0mint\u001b[0m\u001b[0;34m(\u001b[0m\u001b[0ml\u001b[0m\u001b[0;34m)\u001b[0m \u001b[0;32mfor\u001b[0m \u001b[0ml\u001b[0m \u001b[0;32min\u001b[0m \u001b[0mlengths\u001b[0m\u001b[0;34m]\u001b[0m\u001b[0;34m\u001b[0m\u001b[0;34m\u001b[0m\u001b[0m\n",
            "\u001b[0;31mValueError\u001b[0m: Found input variables with inconsistent numbers of samples: [2935, 2768]"
          ]
        }
      ]
    },
    {
      "cell_type": "code",
      "source": [
        "import os\n",
        "import tensorflow as tf\n",
        "from sklearn.model_selection import train_test_split\n",
        "\n",
        "# Set paths\n",
        "drone_crop_folder = \"/content/drive/MyDrive/Drone_Crop\"\n",
        "not_drone_crop_folder = \"/content/drive/MyDrive/Not_Drone_Crop\"\n",
        "\n",
        "# Function to load and preprocess image\n",
        "def load_and_preprocess_image(image_path):\n",
        "    img = tf.io.read_file(image_path)\n",
        "    img = tf.image.decode_jpeg(img, channels=1)  # Assuming images are grayscale\n",
        "    img = tf.image.resize(img, (28, 28))  # Resize to your desired size\n",
        "    img = tf.image.convert_image_dtype(img, tf.float32)  # Normalize to [0, 1]\n",
        "    return img\n",
        "\n",
        "# Function to parse label file and get the label\n",
        "def parse_label_file(label_path):\n",
        "    label = tf.io.read_file(label_path)\n",
        "    label = tf.strings.split(label, \" \")\n",
        "    label = tf.strings.to_number(label, out_type=tf.float32)\n",
        "    return label\n",
        "\n",
        "# Function to create a dataset from a folder\n",
        "def create_dataset(image_folder, label_folder, label_value):\n",
        "    image_paths = [os.path.join(image_folder, file) for file in os.listdir(image_folder) if file.endswith(\".jpg\")]\n",
        "    label_paths = [os.path.join(label_folder, file) for file in os.listdir(label_folder) if file.endswith(\".txt\")]\n",
        "\n",
        "    # Shuffle and split the data\n",
        "    image_paths_train, image_paths_val, label_paths_train, label_paths_val = train_test_split(\n",
        "        image_paths, label_paths, test_size=0.2, random_state=42\n",
        "    )\n",
        "\n",
        "    # Create TensorFlow dataset\n",
        "    dataset = tf.data.Dataset.from_tensor_slices((image_paths_train, label_paths_train))\n",
        "    dataset = dataset.map(lambda img_path, label_path: (load_and_preprocess_image(img_path), parse_label_file(label_path)))\n",
        "\n",
        "    return dataset\n",
        "\n",
        "# Create datasets for Drone and Not Drone\n",
        "drone_dataset = create_dataset(drone_crop_folder, drone_crop_folder, 1)\n",
        "not_drone_dataset = create_dataset(not_drone_crop_folder, not_drone_crop_folder, 0)\n",
        "\n",
        "# Adjust the number of samples in the smaller dataset\n",
        "min_samples = min(drone_dataset.cardinality().numpy(), not_drone_dataset.cardinality().numpy())\n",
        "drone_dataset = drone_dataset.take(min_samples)\n",
        "not_drone_dataset = not_drone_dataset.take(min_samples)\n",
        "\n",
        "# Combine the datasets\n",
        "combined_dataset = drone_dataset.concatenate(not_drone_dataset)\n",
        "\n",
        "# Shuffle and batch the combined dataset\n",
        "batch_size = 32\n",
        "combined_dataset = combined_dataset.shuffle(buffer_size=10000).batch(batch_size)\n",
        "\n",
        "# Print the first two batches\n",
        "for images, labels in combined_dataset.take(2):\n",
        "    print(\"Batch Shape:\", images.shape)\n",
        "    print(\"Labels:\", labels.numpy())\n"
      ],
      "metadata": {
        "colab": {
          "base_uri": "https://localhost:8080/",
          "height": 773
        },
        "id": "jV4fDcX4zlvx",
        "outputId": "f8d58206-f824-426d-8e81-7f121771dadc"
      },
      "execution_count": 6,
      "outputs": [
        {
          "output_type": "error",
          "ename": "ValueError",
          "evalue": "ignored",
          "traceback": [
            "\u001b[0;31m---------------------------------------------------------------------------\u001b[0m",
            "\u001b[0;31mValueError\u001b[0m                                Traceback (most recent call last)",
            "\u001b[0;32m<ipython-input-6-2703d0b05475>\u001b[0m in \u001b[0;36m<cell line: 41>\u001b[0;34m()\u001b[0m\n\u001b[1;32m     39\u001b[0m \u001b[0;34m\u001b[0m\u001b[0m\n\u001b[1;32m     40\u001b[0m \u001b[0;31m# Create datasets for Drone and Not Drone\u001b[0m\u001b[0;34m\u001b[0m\u001b[0;34m\u001b[0m\u001b[0m\n\u001b[0;32m---> 41\u001b[0;31m \u001b[0mdrone_dataset\u001b[0m \u001b[0;34m=\u001b[0m \u001b[0mcreate_dataset\u001b[0m\u001b[0;34m(\u001b[0m\u001b[0mdrone_crop_folder\u001b[0m\u001b[0;34m,\u001b[0m \u001b[0mdrone_crop_folder\u001b[0m\u001b[0;34m,\u001b[0m \u001b[0;36m1\u001b[0m\u001b[0;34m)\u001b[0m\u001b[0;34m\u001b[0m\u001b[0;34m\u001b[0m\u001b[0m\n\u001b[0m\u001b[1;32m     42\u001b[0m \u001b[0mnot_drone_dataset\u001b[0m \u001b[0;34m=\u001b[0m \u001b[0mcreate_dataset\u001b[0m\u001b[0;34m(\u001b[0m\u001b[0mnot_drone_crop_folder\u001b[0m\u001b[0;34m,\u001b[0m \u001b[0mnot_drone_crop_folder\u001b[0m\u001b[0;34m,\u001b[0m \u001b[0;36m0\u001b[0m\u001b[0;34m)\u001b[0m\u001b[0;34m\u001b[0m\u001b[0;34m\u001b[0m\u001b[0m\n\u001b[1;32m     43\u001b[0m \u001b[0;34m\u001b[0m\u001b[0m\n",
            "\u001b[0;32m<ipython-input-6-2703d0b05475>\u001b[0m in \u001b[0;36mcreate_dataset\u001b[0;34m(image_folder, label_folder, label_value)\u001b[0m\n\u001b[1;32m     28\u001b[0m \u001b[0;34m\u001b[0m\u001b[0m\n\u001b[1;32m     29\u001b[0m     \u001b[0;31m# Shuffle and split the data\u001b[0m\u001b[0;34m\u001b[0m\u001b[0;34m\u001b[0m\u001b[0m\n\u001b[0;32m---> 30\u001b[0;31m     image_paths_train, image_paths_val, label_paths_train, label_paths_val = train_test_split(\n\u001b[0m\u001b[1;32m     31\u001b[0m         \u001b[0mimage_paths\u001b[0m\u001b[0;34m,\u001b[0m \u001b[0mlabel_paths\u001b[0m\u001b[0;34m,\u001b[0m \u001b[0mtest_size\u001b[0m\u001b[0;34m=\u001b[0m\u001b[0;36m0.2\u001b[0m\u001b[0;34m,\u001b[0m \u001b[0mrandom_state\u001b[0m\u001b[0;34m=\u001b[0m\u001b[0;36m42\u001b[0m\u001b[0;34m\u001b[0m\u001b[0;34m\u001b[0m\u001b[0m\n\u001b[1;32m     32\u001b[0m     )\n",
            "\u001b[0;32m/usr/local/lib/python3.10/dist-packages/sklearn/model_selection/_split.py\u001b[0m in \u001b[0;36mtrain_test_split\u001b[0;34m(test_size, train_size, random_state, shuffle, stratify, *arrays)\u001b[0m\n\u001b[1;32m   2557\u001b[0m         \u001b[0;32mraise\u001b[0m \u001b[0mValueError\u001b[0m\u001b[0;34m(\u001b[0m\u001b[0;34m\"At least one array required as input\"\u001b[0m\u001b[0;34m)\u001b[0m\u001b[0;34m\u001b[0m\u001b[0;34m\u001b[0m\u001b[0m\n\u001b[1;32m   2558\u001b[0m \u001b[0;34m\u001b[0m\u001b[0m\n\u001b[0;32m-> 2559\u001b[0;31m     \u001b[0marrays\u001b[0m \u001b[0;34m=\u001b[0m \u001b[0mindexable\u001b[0m\u001b[0;34m(\u001b[0m\u001b[0;34m*\u001b[0m\u001b[0marrays\u001b[0m\u001b[0;34m)\u001b[0m\u001b[0;34m\u001b[0m\u001b[0;34m\u001b[0m\u001b[0m\n\u001b[0m\u001b[1;32m   2560\u001b[0m \u001b[0;34m\u001b[0m\u001b[0m\n\u001b[1;32m   2561\u001b[0m     \u001b[0mn_samples\u001b[0m \u001b[0;34m=\u001b[0m \u001b[0m_num_samples\u001b[0m\u001b[0;34m(\u001b[0m\u001b[0marrays\u001b[0m\u001b[0;34m[\u001b[0m\u001b[0;36m0\u001b[0m\u001b[0;34m]\u001b[0m\u001b[0;34m)\u001b[0m\u001b[0;34m\u001b[0m\u001b[0;34m\u001b[0m\u001b[0m\n",
            "\u001b[0;32m/usr/local/lib/python3.10/dist-packages/sklearn/utils/validation.py\u001b[0m in \u001b[0;36mindexable\u001b[0;34m(*iterables)\u001b[0m\n\u001b[1;32m    441\u001b[0m \u001b[0;34m\u001b[0m\u001b[0m\n\u001b[1;32m    442\u001b[0m     \u001b[0mresult\u001b[0m \u001b[0;34m=\u001b[0m \u001b[0;34m[\u001b[0m\u001b[0m_make_indexable\u001b[0m\u001b[0;34m(\u001b[0m\u001b[0mX\u001b[0m\u001b[0;34m)\u001b[0m \u001b[0;32mfor\u001b[0m \u001b[0mX\u001b[0m \u001b[0;32min\u001b[0m \u001b[0miterables\u001b[0m\u001b[0;34m]\u001b[0m\u001b[0;34m\u001b[0m\u001b[0;34m\u001b[0m\u001b[0m\n\u001b[0;32m--> 443\u001b[0;31m     \u001b[0mcheck_consistent_length\u001b[0m\u001b[0;34m(\u001b[0m\u001b[0;34m*\u001b[0m\u001b[0mresult\u001b[0m\u001b[0;34m)\u001b[0m\u001b[0;34m\u001b[0m\u001b[0;34m\u001b[0m\u001b[0m\n\u001b[0m\u001b[1;32m    444\u001b[0m     \u001b[0;32mreturn\u001b[0m \u001b[0mresult\u001b[0m\u001b[0;34m\u001b[0m\u001b[0;34m\u001b[0m\u001b[0m\n\u001b[1;32m    445\u001b[0m \u001b[0;34m\u001b[0m\u001b[0m\n",
            "\u001b[0;32m/usr/local/lib/python3.10/dist-packages/sklearn/utils/validation.py\u001b[0m in \u001b[0;36mcheck_consistent_length\u001b[0;34m(*arrays)\u001b[0m\n\u001b[1;32m    395\u001b[0m     \u001b[0muniques\u001b[0m \u001b[0;34m=\u001b[0m \u001b[0mnp\u001b[0m\u001b[0;34m.\u001b[0m\u001b[0munique\u001b[0m\u001b[0;34m(\u001b[0m\u001b[0mlengths\u001b[0m\u001b[0;34m)\u001b[0m\u001b[0;34m\u001b[0m\u001b[0;34m\u001b[0m\u001b[0m\n\u001b[1;32m    396\u001b[0m     \u001b[0;32mif\u001b[0m \u001b[0mlen\u001b[0m\u001b[0;34m(\u001b[0m\u001b[0muniques\u001b[0m\u001b[0;34m)\u001b[0m \u001b[0;34m>\u001b[0m \u001b[0;36m1\u001b[0m\u001b[0;34m:\u001b[0m\u001b[0;34m\u001b[0m\u001b[0;34m\u001b[0m\u001b[0m\n\u001b[0;32m--> 397\u001b[0;31m         raise ValueError(\n\u001b[0m\u001b[1;32m    398\u001b[0m             \u001b[0;34m\"Found input variables with inconsistent numbers of samples: %r\"\u001b[0m\u001b[0;34m\u001b[0m\u001b[0;34m\u001b[0m\u001b[0m\n\u001b[1;32m    399\u001b[0m             \u001b[0;34m%\u001b[0m \u001b[0;34m[\u001b[0m\u001b[0mint\u001b[0m\u001b[0;34m(\u001b[0m\u001b[0ml\u001b[0m\u001b[0;34m)\u001b[0m \u001b[0;32mfor\u001b[0m \u001b[0ml\u001b[0m \u001b[0;32min\u001b[0m \u001b[0mlengths\u001b[0m\u001b[0;34m]\u001b[0m\u001b[0;34m\u001b[0m\u001b[0;34m\u001b[0m\u001b[0m\n",
            "\u001b[0;31mValueError\u001b[0m: Found input variables with inconsistent numbers of samples: [2935, 2768]"
          ]
        }
      ]
    },
    {
      "cell_type": "code",
      "source": [
        "import os\n",
        "import tensorflow as tf\n",
        "from sklearn.model_selection import train_test_split\n",
        "\n",
        "# Set paths\n",
        "drone_crop_folder = \"/content/drive/MyDrive/Drone_Crop\"\n",
        "not_drone_crop_folder = \"/content/drive/MyDrive/Not_Drone_Crop\"\n",
        "\n",
        "# Function to load and preprocess image\n",
        "def load_and_preprocess_image(image_path):\n",
        "    img = tf.io.read_file(image_path)\n",
        "    img = tf.image.decode_jpeg(img, channels=1)  # Assuming images are grayscale\n",
        "    img = tf.image.resize(img, (28, 28))  # Resize to your desired size\n",
        "    img = tf.image.convert_image_dtype(img, tf.float32)  # Normalize to [0, 1]\n",
        "    return img\n",
        "\n",
        "# Function to parse label file and get the label\n",
        "def parse_label_file(label_path):\n",
        "    label = tf.io.read_file(label_path)\n",
        "    label = tf.strings.split(label, \" \")\n",
        "    label = tf.strings.to_number(label, out_type=tf.float32)\n",
        "    return label\n",
        "\n",
        "# Function to create a dataset from a folder\n",
        "def create_dataset(image_folder, label_folder, label_value):\n",
        "    image_paths = [os.path.join(image_folder, file) for file in os.listdir(image_folder) if file.endswith(\".jpg\")]\n",
        "    label_paths = [os.path.join(label_folder, file) for file in os.listdir(label_folder) if file.endswith(\".txt\")]\n",
        "\n",
        "    # Create TensorFlow dataset\n",
        "    dataset = tf.data.Dataset.from_tensor_slices((image_paths, label_paths))\n",
        "    dataset = dataset.map(lambda img_path, label_path: (load_and_preprocess_image(img_path), parse_label_file(label_path)))\n",
        "\n",
        "    return dataset\n",
        "\n",
        "# Create datasets for Drone and Not Drone\n",
        "drone_dataset = create_dataset(drone_crop_folder, drone_crop_folder, 1)\n",
        "not_drone_dataset = create_dataset(not_drone_crop_folder, not_drone_crop_folder, 0)\n",
        "\n",
        "# Combine the datasets\n",
        "combined_dataset = drone_dataset.concatenate(not_drone_dataset)\n",
        "\n",
        "# Shuffle and batch the combined dataset\n",
        "batch_size = 32\n",
        "combined_dataset = combined_dataset.shuffle(buffer_size=10000).batch(batch_size)\n",
        "\n",
        "# Print the first two batches\n",
        "for images, labels in combined_dataset.take(2):\n",
        "    print(\"Batch Shape:\", images.shape)\n",
        "    print(\"Labels:\", labels.numpy())\n"
      ],
      "metadata": {
        "colab": {
          "base_uri": "https://localhost:8080/",
          "height": 409
        },
        "id": "wiznl4aJz52K",
        "outputId": "c09758ae-4fec-4627-f2ed-d71cf45124ad"
      },
      "execution_count": 7,
      "outputs": [
        {
          "output_type": "error",
          "ename": "ValueError",
          "evalue": "ignored",
          "traceback": [
            "\u001b[0;31m---------------------------------------------------------------------------\u001b[0m",
            "\u001b[0;31mValueError\u001b[0m                                Traceback (most recent call last)",
            "\u001b[0;32m<ipython-input-7-c1d59f27f7d1>\u001b[0m in \u001b[0;36m<cell line: 36>\u001b[0;34m()\u001b[0m\n\u001b[1;32m     34\u001b[0m \u001b[0;34m\u001b[0m\u001b[0m\n\u001b[1;32m     35\u001b[0m \u001b[0;31m# Create datasets for Drone and Not Drone\u001b[0m\u001b[0;34m\u001b[0m\u001b[0;34m\u001b[0m\u001b[0m\n\u001b[0;32m---> 36\u001b[0;31m \u001b[0mdrone_dataset\u001b[0m \u001b[0;34m=\u001b[0m \u001b[0mcreate_dataset\u001b[0m\u001b[0;34m(\u001b[0m\u001b[0mdrone_crop_folder\u001b[0m\u001b[0;34m,\u001b[0m \u001b[0mdrone_crop_folder\u001b[0m\u001b[0;34m,\u001b[0m \u001b[0;36m1\u001b[0m\u001b[0;34m)\u001b[0m\u001b[0;34m\u001b[0m\u001b[0;34m\u001b[0m\u001b[0m\n\u001b[0m\u001b[1;32m     37\u001b[0m \u001b[0mnot_drone_dataset\u001b[0m \u001b[0;34m=\u001b[0m \u001b[0mcreate_dataset\u001b[0m\u001b[0;34m(\u001b[0m\u001b[0mnot_drone_crop_folder\u001b[0m\u001b[0;34m,\u001b[0m \u001b[0mnot_drone_crop_folder\u001b[0m\u001b[0;34m,\u001b[0m \u001b[0;36m0\u001b[0m\u001b[0;34m)\u001b[0m\u001b[0;34m\u001b[0m\u001b[0;34m\u001b[0m\u001b[0m\n\u001b[1;32m     38\u001b[0m \u001b[0;34m\u001b[0m\u001b[0m\n",
            "\u001b[0;32m<ipython-input-7-c1d59f27f7d1>\u001b[0m in \u001b[0;36mcreate_dataset\u001b[0;34m(image_folder, label_folder, label_value)\u001b[0m\n\u001b[1;32m     28\u001b[0m \u001b[0;34m\u001b[0m\u001b[0m\n\u001b[1;32m     29\u001b[0m     \u001b[0;31m# Create TensorFlow dataset\u001b[0m\u001b[0;34m\u001b[0m\u001b[0;34m\u001b[0m\u001b[0m\n\u001b[0;32m---> 30\u001b[0;31m     \u001b[0mdataset\u001b[0m \u001b[0;34m=\u001b[0m \u001b[0mtf\u001b[0m\u001b[0;34m.\u001b[0m\u001b[0mdata\u001b[0m\u001b[0;34m.\u001b[0m\u001b[0mDataset\u001b[0m\u001b[0;34m.\u001b[0m\u001b[0mfrom_tensor_slices\u001b[0m\u001b[0;34m(\u001b[0m\u001b[0;34m(\u001b[0m\u001b[0mimage_paths\u001b[0m\u001b[0;34m,\u001b[0m \u001b[0mlabel_paths\u001b[0m\u001b[0;34m)\u001b[0m\u001b[0;34m)\u001b[0m\u001b[0;34m\u001b[0m\u001b[0;34m\u001b[0m\u001b[0m\n\u001b[0m\u001b[1;32m     31\u001b[0m     \u001b[0mdataset\u001b[0m \u001b[0;34m=\u001b[0m \u001b[0mdataset\u001b[0m\u001b[0;34m.\u001b[0m\u001b[0mmap\u001b[0m\u001b[0;34m(\u001b[0m\u001b[0;32mlambda\u001b[0m \u001b[0mimg_path\u001b[0m\u001b[0;34m,\u001b[0m \u001b[0mlabel_path\u001b[0m\u001b[0;34m:\u001b[0m \u001b[0;34m(\u001b[0m\u001b[0mload_and_preprocess_image\u001b[0m\u001b[0;34m(\u001b[0m\u001b[0mimg_path\u001b[0m\u001b[0;34m)\u001b[0m\u001b[0;34m,\u001b[0m \u001b[0mparse_label_file\u001b[0m\u001b[0;34m(\u001b[0m\u001b[0mlabel_path\u001b[0m\u001b[0;34m)\u001b[0m\u001b[0;34m)\u001b[0m\u001b[0;34m)\u001b[0m\u001b[0;34m\u001b[0m\u001b[0;34m\u001b[0m\u001b[0m\n\u001b[1;32m     32\u001b[0m \u001b[0;34m\u001b[0m\u001b[0m\n",
            "\u001b[0;32m/usr/local/lib/python3.10/dist-packages/tensorflow/python/data/ops/dataset_ops.py\u001b[0m in \u001b[0;36mfrom_tensor_slices\u001b[0;34m(tensors, name)\u001b[0m\n\u001b[1;32m    819\u001b[0m     \u001b[0;31m# pylint: disable=g-import-not-at-top,protected-access\u001b[0m\u001b[0;34m\u001b[0m\u001b[0;34m\u001b[0m\u001b[0m\n\u001b[1;32m    820\u001b[0m     \u001b[0;32mfrom\u001b[0m \u001b[0mtensorflow\u001b[0m\u001b[0;34m.\u001b[0m\u001b[0mpython\u001b[0m\u001b[0;34m.\u001b[0m\u001b[0mdata\u001b[0m\u001b[0;34m.\u001b[0m\u001b[0mops\u001b[0m \u001b[0;32mimport\u001b[0m \u001b[0mfrom_tensor_slices_op\u001b[0m\u001b[0;34m\u001b[0m\u001b[0;34m\u001b[0m\u001b[0m\n\u001b[0;32m--> 821\u001b[0;31m     \u001b[0;32mreturn\u001b[0m \u001b[0mfrom_tensor_slices_op\u001b[0m\u001b[0;34m.\u001b[0m\u001b[0m_from_tensor_slices\u001b[0m\u001b[0;34m(\u001b[0m\u001b[0mtensors\u001b[0m\u001b[0;34m,\u001b[0m \u001b[0mname\u001b[0m\u001b[0;34m)\u001b[0m\u001b[0;34m\u001b[0m\u001b[0;34m\u001b[0m\u001b[0m\n\u001b[0m\u001b[1;32m    822\u001b[0m     \u001b[0;31m# pylint: enable=g-import-not-at-top,protected-access\u001b[0m\u001b[0;34m\u001b[0m\u001b[0;34m\u001b[0m\u001b[0m\n\u001b[1;32m    823\u001b[0m \u001b[0;34m\u001b[0m\u001b[0m\n",
            "\u001b[0;32m/usr/local/lib/python3.10/dist-packages/tensorflow/python/data/ops/from_tensor_slices_op.py\u001b[0m in \u001b[0;36m_from_tensor_slices\u001b[0;34m(tensors, name)\u001b[0m\n\u001b[1;32m     23\u001b[0m \u001b[0;34m\u001b[0m\u001b[0m\n\u001b[1;32m     24\u001b[0m \u001b[0;32mdef\u001b[0m \u001b[0m_from_tensor_slices\u001b[0m\u001b[0;34m(\u001b[0m\u001b[0mtensors\u001b[0m\u001b[0;34m,\u001b[0m \u001b[0mname\u001b[0m\u001b[0;34m=\u001b[0m\u001b[0;32mNone\u001b[0m\u001b[0;34m)\u001b[0m\u001b[0;34m:\u001b[0m\u001b[0;34m\u001b[0m\u001b[0;34m\u001b[0m\u001b[0m\n\u001b[0;32m---> 25\u001b[0;31m   \u001b[0;32mreturn\u001b[0m \u001b[0m_TensorSliceDataset\u001b[0m\u001b[0;34m(\u001b[0m\u001b[0mtensors\u001b[0m\u001b[0;34m,\u001b[0m \u001b[0mname\u001b[0m\u001b[0;34m=\u001b[0m\u001b[0mname\u001b[0m\u001b[0;34m)\u001b[0m\u001b[0;34m\u001b[0m\u001b[0;34m\u001b[0m\u001b[0m\n\u001b[0m\u001b[1;32m     26\u001b[0m \u001b[0;34m\u001b[0m\u001b[0m\n\u001b[1;32m     27\u001b[0m \u001b[0;34m\u001b[0m\u001b[0m\n",
            "\u001b[0;32m/usr/local/lib/python3.10/dist-packages/tensorflow/python/data/ops/from_tensor_slices_op.py\u001b[0m in \u001b[0;36m__init__\u001b[0;34m(self, element, is_files, name)\u001b[0m\n\u001b[1;32m     43\u001b[0m         tensor_shape.dimension_value(self._tensors[0].get_shape()[0]))\n\u001b[1;32m     44\u001b[0m     \u001b[0;32mfor\u001b[0m \u001b[0mt\u001b[0m \u001b[0;32min\u001b[0m \u001b[0mself\u001b[0m\u001b[0;34m.\u001b[0m\u001b[0m_tensors\u001b[0m\u001b[0;34m[\u001b[0m\u001b[0;36m1\u001b[0m\u001b[0;34m:\u001b[0m\u001b[0;34m]\u001b[0m\u001b[0;34m:\u001b[0m\u001b[0;34m\u001b[0m\u001b[0;34m\u001b[0m\u001b[0m\n\u001b[0;32m---> 45\u001b[0;31m       batch_dim.assert_is_compatible_with(\n\u001b[0m\u001b[1;32m     46\u001b[0m           tensor_shape.Dimension(\n\u001b[1;32m     47\u001b[0m               tensor_shape.dimension_value(t.get_shape()[0])))\n",
            "\u001b[0;32m/usr/local/lib/python3.10/dist-packages/tensorflow/python/framework/tensor_shape.py\u001b[0m in \u001b[0;36massert_is_compatible_with\u001b[0;34m(self, other)\u001b[0m\n\u001b[1;32m    298\u001b[0m     \"\"\"\n\u001b[1;32m    299\u001b[0m     \u001b[0;32mif\u001b[0m \u001b[0;32mnot\u001b[0m \u001b[0mself\u001b[0m\u001b[0;34m.\u001b[0m\u001b[0mis_compatible_with\u001b[0m\u001b[0;34m(\u001b[0m\u001b[0mother\u001b[0m\u001b[0;34m)\u001b[0m\u001b[0;34m:\u001b[0m\u001b[0;34m\u001b[0m\u001b[0;34m\u001b[0m\u001b[0m\n\u001b[0;32m--> 300\u001b[0;31m       raise ValueError(\"Dimensions %s and %s are not compatible\" %\n\u001b[0m\u001b[1;32m    301\u001b[0m                        (self, other))\n\u001b[1;32m    302\u001b[0m \u001b[0;34m\u001b[0m\u001b[0m\n",
            "\u001b[0;31mValueError\u001b[0m: Dimensions 2935 and 2768 are not compatible"
          ]
        }
      ]
    },
    {
      "cell_type": "code",
      "source": [
        "import os\n",
        "import tensorflow as tf\n",
        "from sklearn.model_selection import train_test_split\n",
        "\n",
        "# Set paths\n",
        "drone_crop_folder = \"/content/drive/MyDrive/Drone_Crop\"\n",
        "not_drone_crop_folder = \"/content/drive/MyDrive/Not_Drone_Crop\"\n",
        "\n",
        "# Function to load and preprocess image\n",
        "def load_and_preprocess_image(image_path):\n",
        "    img = tf.io.read_file(image_path)\n",
        "    img = tf.image.decode_jpeg(img, channels=1)  # Assuming images are grayscale\n",
        "    img = tf.image.resize(img, (28, 28))  # Resize to your desired size\n",
        "    img = tf.image.convert_image_dtype(img, tf.float32)  # Normalize to [0, 1]\n",
        "    return img\n",
        "\n",
        "# Function to parse label file and get the label\n",
        "def parse_label_file(label_path):\n",
        "    label = tf.io.read_file(label_path)\n",
        "    label = tf.strings.split(label, \" \")\n",
        "    label = tf.strings.to_number(label, out_type=tf.float32)\n",
        "    return label\n",
        "\n",
        "# Function to create a dataset from a folder\n",
        "def create_dataset(image_folder, label_folder, label_value):\n",
        "    image_paths = [os.path.join(image_folder, file) for file in os.listdir(image_folder) if file.endswith(\".jpg\")]\n",
        "    label_paths = [os.path.join(label_folder, file) for file in os.listdir(label_folder) if file.endswith(\".txt\")]\n",
        "\n",
        "    # Combine image and label paths into tuples\n",
        "    data_paths = list(zip(image_paths, label_paths))\n",
        "\n",
        "    # Shuffle and split the data\n",
        "    train_data_paths, val_data_paths = train_test_split(data_paths, test_size=0.2, random_state=42)\n",
        "\n",
        "    # Create TensorFlow datasets\n",
        "    train_dataset = tf.data.Dataset.from_tensor_slices(train_data_paths)\n",
        "    val_dataset = tf.data.Dataset.from_tensor_slices(val_data_paths)\n",
        "\n",
        "    # Map loading and preprocessing functions\n",
        "    train_dataset = train_dataset.map(lambda paths: (load_and_preprocess_image(paths[0]), parse_label_file(paths[1])))\n",
        "    val_dataset = val_dataset.map(lambda paths: (load_and_preprocess_image(paths[0]), parse_label_file(paths[1])))\n",
        "\n",
        "    return train_dataset, val_dataset\n",
        "\n",
        "# Create datasets for Drone and Not Drone\n",
        "drone_train_dataset, drone_val_dataset = create_dataset(drone_crop_folder, drone_crop_folder, 1)\n",
        "not_drone_train_dataset, not_drone_val_dataset = create_dataset(not_drone_crop_folder, not_drone_crop_folder, 0)\n",
        "\n",
        "# Combine the datasets\n",
        "train_dataset = drone_train_dataset.concatenate(not_drone_train_dataset)\n",
        "val_dataset = drone_val_dataset.concatenate(not_drone_val_dataset)\n",
        "\n",
        "# Shuffle and batch the datasets\n",
        "batch_size = 32\n",
        "train_dataset = train_dataset.shuffle(buffer_size=10000).batch(batch_size)\n",
        "val_dataset = val_dataset.shuffle(buffer_size=10000).batch(batch_size)\n",
        "\n",
        "# Print the first two batches of training dataset\n",
        "for images, labels in train_dataset.take(2):\n",
        "    print(\"Training Batch Shape:\", images.shape)\n",
        "    print(\"Training Labels:\", labels.numpy())\n",
        "\n",
        "# Print the first two batches of validation dataset\n",
        "for images, labels in val_dataset.take(2):\n",
        "    print(\"Validation Batch Shape:\", images.shape)\n",
        "    print(\"Validation Labels:\", labels.numpy())\n"
      ],
      "metadata": {
        "colab": {
          "base_uri": "https://localhost:8080/"
        },
        "id": "LjwpGU700f8T",
        "outputId": "2cb6df1a-740d-4c3b-eb5b-d1af81272c35"
      },
      "execution_count": 8,
      "outputs": [
        {
          "output_type": "stream",
          "name": "stdout",
          "text": [
            "Training Batch Shape: (32, 28, 28, 1)\n",
            "Training Labels: [[0.         0.65703124 0.56842816 0.0734375  0.09349594]\n",
            " [0.         0.79       0.07592592 0.01166667 0.02592593]\n",
            " [0.         0.28333333 0.54960936 0.1        0.03984375]\n",
            " [0.         0.5972656  0.5263889  0.01953125 0.025     ]\n",
            " [0.         0.6297917  0.82916665 0.01958333 0.03796296]\n",
            " [0.         0.5296875  0.9638889  0.01458333 0.02592593]\n",
            " [0.         0.570625   0.63796294 0.02125    0.03148148]\n",
            " [0.         0.43125    0.8763889  0.021875   0.03888889]\n",
            " [0.         0.7885417  0.6388889  0.01458333 0.02592593]\n",
            " [0.         0.44921875 0.40555555 0.440625   0.5       ]\n",
            " [0.         0.87916666 0.90185183 0.01458333 0.02592593]\n",
            " [0.         0.16458334 0.45555556 0.01166667 0.02592593]\n",
            " [0.         0.45895833 0.7138889  0.01208333 0.02407407]\n",
            " [0.         0.78125    0.43888888 0.01166667 0.02592593]\n",
            " [0.         0.09375    0.42222223 0.01166667 0.02592593]\n",
            " [0.         0.84583336 0.5185185  0.01166667 0.02592593]\n",
            " [0.         0.6076389  0.51640624 0.05972222 0.0265625 ]\n",
            " [0.         0.23625    0.19722222 0.01166667 0.02592593]\n",
            " [0.         0.40791667 0.62916666 0.0125     0.03055556]\n",
            " [0.         0.79817706 0.6398148  0.03177083 0.03333334]\n",
            " [0.         0.26328126 0.23680556 0.1765625  0.15416667]\n",
            " [0.         0.24479167 0.6962963  0.01458333 0.02592593]\n",
            " [0.         0.6638889  0.66796875 0.03888889 0.021875  ]\n",
            " [0.         0.74375    0.50185186 0.01166667 0.02592593]\n",
            " [0.         0.2986111  0.1953125  0.03888889 0.021875  ]\n",
            " [0.         0.5611111  0.53515625 0.10833333 0.04375   ]\n",
            " [0.         0.18888889 0.49921876 0.03888889 0.021875  ]\n",
            " [0.         0.38828126 0.40416667 0.121875   0.10833333]\n",
            " [0.         0.50208336 0.8273148  0.0125     0.02314815]\n",
            " [0.         0.8154167  0.89444447 0.01166667 0.02592593]\n",
            " [0.         0.4924479  0.5555556  0.04947917 0.06296296]\n",
            " [0.         0.46132812 0.26458332 0.01953125 0.02638889]]\n",
            "Training Batch Shape: (32, 28, 28, 1)\n",
            "Training Labels: [[0.         0.03458333 0.6703704  0.01166667 0.02592593]\n",
            " [0.         0.46875    0.7523148  0.03333334 0.04722222]\n",
            " [0.         0.6671875  0.4513889  0.053125   0.05277778]\n",
            " [0.         0.42916667 0.7717593  0.02416667 0.04351852]\n",
            " [0.         0.56333333 0.66064817 0.02416667 0.03981481]\n",
            " [0.         0.458125   0.6319444  0.02375    0.03611111]\n",
            " [0.         0.24947916 0.59583336 0.03958333 0.05277778]\n",
            " [0.         0.48458335 0.7712963  0.0225     0.03148148]\n",
            " [0.         0.23458333 0.8972222  0.01166667 0.02592593]\n",
            " [0.         0.57361114 0.59765625 0.03888889 0.021875  ]\n",
            " [0.         0.52152777 0.47148436 0.07361111 0.03046875]\n",
            " [0.         0.28541666 0.60925925 0.01458333 0.02592593]\n",
            " [0.         0.5672917  0.5694444  0.02458333 0.03518518]\n",
            " [0.         0.80104166 0.84166664 0.01458333 0.02592593]\n",
            " [0.         0.23125    0.26574075 0.01458333 0.02592593]\n",
            " [0.         0.6203125  0.39791667 0.04375    0.05833333]\n",
            " [0.         0.47791666 0.44166666 0.01166667 0.02592593]\n",
            " [0.         0.18255208 0.11157408 0.05364583 0.07685185]\n",
            " [0.         0.04895834 0.94074076 0.01458333 0.02592593]\n",
            " [0.         0.41708332 0.9592593  0.03083333 0.05185185]\n",
            " [0.         0.89375    0.26666668 0.021875   0.03888889]\n",
            " [0.         0.5625     0.48472223 0.040625   0.03611111]\n",
            " [0.         0.79444444 0.140625   0.03888889 0.021875  ]\n",
            " [0.         0.6557292  0.57685184 0.04375    0.05185185]\n",
            " [0.         0.13046876 0.49583334 0.021875   0.03888889]\n",
            " [0.         0.14270833 0.39074075 0.01458333 0.02592593]\n",
            " [0.         0.7265625  0.35833332 0.1171875  0.09166667]\n",
            " [0.         0.58867186 0.50555557 0.15703125 0.17777778]\n",
            " [0.         0.62916666 0.6611111  0.07604167 0.1037037 ]\n",
            " [0.         0.7576389  0.61328125 0.05416667 0.0234375 ]\n",
            " [0.         0.4125     0.5208333  0.1671875  0.14444445]\n",
            " [0.         0.5015625  0.18425927 0.01458333 0.02592593]]\n",
            "Validation Batch Shape: (32, 28, 28, 1)\n",
            "Validation Labels: [[0.         0.53046876 0.38402778 0.25625    0.4513889 ]\n",
            " [0.         0.47213542 0.57222223 0.04635417 0.0537037 ]\n",
            " [0.         0.413125   0.54953706 0.02958333 0.05648148]\n",
            " [0.         0.5679687  0.7847222  0.021875   0.03888889]\n",
            " [0.         0.125      0.5712963  0.02916667 0.05925926]\n",
            " [0.         0.09010417 0.6898148  0.01458333 0.02592593]\n",
            " [0.         0.5268229  0.51342595 0.0109375  0.01574074]\n",
            " [0.         0.27708334 0.6695312  0.07638889 0.034375  ]\n",
            " [0.         0.40338543 0.7324074  0.02760417 0.03888889]\n",
            " [0.         0.58520836 0.6027778  0.02458333 0.03888889]\n",
            " [0.         0.9305556  0.21171875 0.03888889 0.021875  ]\n",
            " [0.         0.92760414 0.53981483 0.01458333 0.02592593]\n",
            " [0.         0.6098958  0.19074073 0.01458333 0.02592593]\n",
            " [0.         0.62416667 0.5675926  0.01166667 0.02592593]\n",
            " [0.         0.5494792  0.37083334 0.04895834 0.05277778]\n",
            " [0.         0.5449219  0.26666668 0.24609375 0.325     ]\n",
            " [0.         0.325      0.8138889  0.01166667 0.02592593]\n",
            " [0.         0.81041664 0.8509259  0.01166667 0.02592593]\n",
            " [0.         0.485      0.6759259  0.0125     0.02407407]\n",
            " [0.         0.5289062  0.40324074 0.04322917 0.04722222]\n",
            " [0.         0.55546874 0.90694445 0.021875   0.03888889]\n",
            " [0.         0.46041667 0.7175926  0.01166667 0.02592593]\n",
            " [0.         0.35833332 0.42890626 0.03888889 0.021875  ]\n",
            " [0.         0.5548611  0.54296875 0.09583333 0.0421875 ]\n",
            " [0.         0.5013889  0.71484375 0.03888889 0.021875  ]\n",
            " [0.         0.7513889  0.0375     0.03888889 0.021875  ]\n",
            " [0.         0.47552082 0.5532407  0.04375    0.06203704]\n",
            " [0.         0.41791666 0.9777778  0.01166667 0.02592593]\n",
            " [0.         0.5953125  0.36805555 0.0203125  0.02222222]\n",
            " [0.         0.90234375 0.125      0.021875   0.03888889]\n",
            " [0.         0.74296874 0.3875     0.196875   0.275     ]\n",
            " [0.         0.81822914 0.8324074  0.01458333 0.02592593]]\n",
            "Validation Batch Shape: (32, 28, 28, 1)\n",
            "Validation Labels: [[0.         0.95069444 0.5445312  0.03472222 0.025     ]\n",
            " [0.         0.37421876 0.56180555 0.4296875  0.34583333]\n",
            " [0.         0.2611111  0.92890626 0.03888889 0.021875  ]\n",
            " [0.         0.096875   0.41203704 0.01458333 0.02592593]\n",
            " [0.         0.27005208 0.2962963  0.04635417 0.04444445]\n",
            " [0.         0.9015625  0.9763889  0.021875   0.03888889]\n",
            " [0.         0.6109375  0.4498645  0.021875   0.03794038]\n",
            " [0.         0.49791667 0.5683594  0.09027778 0.03671875]\n",
            " [0.         0.5545833  0.9037037  0.01166667 0.02592593]\n",
            " [0.         0.7885417  0.56898147 0.04270833 0.04166667]\n",
            " [0.         0.36944443 0.6796875  0.03888889 0.021875  ]\n",
            " [0.         0.24179688 0.28861788 0.13828126 0.15718158]\n",
            " [0.         0.9109375  0.77037036 0.01458333 0.02592593]\n",
            " [0.         0.53833336 0.02222222 0.01166667 0.02592593]\n",
            " [0.         0.8619792  0.07777778 0.01458333 0.02592593]\n",
            " [0.         0.5777778  0.5140625  0.03888889 0.021875  ]\n",
            " [0.         0.57458335 0.71435183 0.02416667 0.04351852]\n",
            " [0.         0.34375    0.65833336 0.021875   0.03888889]\n",
            " [0.         0.9895833  0.7222222  0.01458333 0.02592593]\n",
            " [0.         0.42520833 0.6967593  0.01791667 0.0287037 ]\n",
            " [0.         0.5208333  0.57421875 0.03888889 0.021875  ]\n",
            " [0.         0.5048611  0.59101564 0.0875     0.03671875]\n",
            " [0.         0.5570313  0.9291667  0.021875   0.03888889]\n",
            " [0.         0.775      0.69305557 0.021875   0.03888889]\n",
            " [0.         0.5520833  0.5625     0.09583333 0.0328125 ]\n",
            " [0.         0.184375   0.21111111 0.021875   0.03888889]\n",
            " [0.         0.79375    0.03518518 0.01166667 0.02592593]\n",
            " [0.         0.5758333  0.63703704 0.025      0.03888889]\n",
            " [0.         0.36666667 0.72037035 0.01458333 0.02592593]\n",
            " [0.         0.71166664 0.2074074  0.01166667 0.02592593]\n",
            " [0.         0.40546876 0.45833334 0.0296875  0.03518518]\n",
            " [0.         0.7625     0.2015625  0.03888889 0.021875  ]]\n"
          ]
        }
      ]
    },
    {
      "cell_type": "code",
      "source": [
        "import tensorflow as tf\n",
        "from tensorflow.keras import layers, models\n",
        "import matplotlib.pyplot as plt\n",
        "\n",
        "# Split the dataset into training and testing sets\n",
        "train_size = int(0.8 * len(train_dataset))\n",
        "val_size = int(0.2 * len(val_dataset))\n",
        "\n",
        "train_dataset = train_dataset.take(train_size)\n",
        "val_dataset = val_dataset.take(val_size)\n",
        "\n",
        "# Define the classifier model\n",
        "model = models.Sequential([\n",
        "    layers.Flatten(input_shape=(28, 28, 1)),\n",
        "    layers.Dense(128, activation='relu'),\n",
        "    layers.Dense(1, activation='sigmoid')\n",
        "])\n",
        "\n",
        "# Compile the model\n",
        "model.compile(optimizer='adam',\n",
        "              loss='binary_crossentropy',\n",
        "              metrics=['accuracy'])\n",
        "\n",
        "# Train the model\n",
        "history = model.fit(train_dataset, epochs=10, validation_data=val_dataset)\n",
        "\n",
        "# Evaluate the model on the test set\n",
        "test_loss, test_acc = model.evaluate(val_dataset)\n",
        "\n",
        "# Display the accuracy of the trained model on the test set\n",
        "print(f\"\\nTest Accuracy: {test_acc*100:.2f}%\")\n",
        "\n",
        "# Visualize some images from the dataset\n",
        "sample_images, sample_labels = next(iter(val_dataset))\n",
        "predictions = model.predict(sample_images)\n",
        "\n",
        "# Plot the images and their predicted labels\n",
        "plt.figure(figsize=(10, 4))\n",
        "for i in range(10):\n",
        "    plt.subplot(2, 5, i + 1)\n",
        "    plt.imshow(sample_images[i].numpy().reshape(28, 28), cmap='gray')\n",
        "    plt.title(f'Pred: {predictions[i][0]:.2f}\\nTrue: {sample_labels[i].numpy()}')\n",
        "    plt.axis('off')\n",
        "\n",
        "plt.show()\n"
      ],
      "metadata": {
        "colab": {
          "base_uri": "https://localhost:8080/",
          "height": 708
        },
        "id": "zi5kbHFm7xVn",
        "outputId": "0d08b47f-a3e7-469e-ff82-33c08ee4e50d"
      },
      "execution_count": 9,
      "outputs": [
        {
          "output_type": "stream",
          "name": "stdout",
          "text": [
            "Epoch 1/10\n",
            "136/136 [==============================] - 35s 51ms/step - loss: 17.4553 - accuracy: 0.1567 - val_loss: 4.0548 - val_accuracy: 0.0508\n",
            "Epoch 2/10\n",
            "136/136 [==============================] - 18s 23ms/step - loss: 7.3870 - accuracy: 0.1558 - val_loss: 3.2485 - val_accuracy: 0.1828\n",
            "Epoch 3/10\n",
            "136/136 [==============================] - 19s 45ms/step - loss: 4.4605 - accuracy: 0.1568 - val_loss: 4.7277 - val_accuracy: 0.1945\n",
            "Epoch 4/10\n",
            "136/136 [==============================] - 18s 45ms/step - loss: 3.5533 - accuracy: 0.1575 - val_loss: 8.1176 - val_accuracy: 0.0141\n",
            "Epoch 5/10\n",
            "136/136 [==============================] - 12s 20ms/step - loss: 3.2947 - accuracy: 0.1550 - val_loss: 4.4248 - val_accuracy: 0.1945\n",
            "Epoch 6/10\n",
            "136/136 [==============================] - 13s 23ms/step - loss: 4.0950 - accuracy: 0.1565 - val_loss: 1.5087 - val_accuracy: 0.1648\n",
            "Epoch 7/10\n",
            "136/136 [==============================] - 13s 23ms/step - loss: 2.4521 - accuracy: 0.1579 - val_loss: 1.3658 - val_accuracy: 0.1711\n",
            "Epoch 8/10\n",
            "136/136 [==============================] - 11s 20ms/step - loss: 2.6448 - accuracy: 0.1554 - val_loss: 2.2530 - val_accuracy: 0.1875\n",
            "Epoch 9/10\n",
            "136/136 [==============================] - 14s 44ms/step - loss: 2.2888 - accuracy: 0.1608 - val_loss: 2.4017 - val_accuracy: 0.1938\n",
            "Epoch 10/10\n",
            "136/136 [==============================] - 24s 30ms/step - loss: 4.1877 - accuracy: 0.1564 - val_loss: 1.3006 - val_accuracy: 0.1711\n",
            "8/8 [==============================] - 3s 7ms/step - loss: 1.3870 - accuracy: 0.1609\n",
            "\n",
            "Test Accuracy: 16.09%\n",
            "1/1 [==============================] - 0s 107ms/step\n"
          ]
        },
        {
          "output_type": "display_data",
          "data": {
            "text/plain": [
              "<Figure size 1000x400 with 10 Axes>"
            ],
            "image/png": "[encoded data removed]"
          },
          "metadata": {}
        }
      ]
    },
    {
      "cell_type": "code",
      "source": [
        "import tensorflow as tf\n",
        "from tensorflow.keras import layers, models\n",
        "import matplotlib.pyplot as plt\n",
        "\n",
        "# Split the dataset into training and testing sets\n",
        "train_size = int(0.8 * len(train_dataset))\n",
        "val_size = int(0.2 * len(val_dataset))\n",
        "\n",
        "# Use more data for training and validation\n",
        "train_dataset = train_dataset.take(train_size)\n",
        "val_dataset = val_dataset.take(val_size)\n",
        "\n",
        "# Define the classifier model\n",
        "model = models.Sequential([\n",
        "    layers.Flatten(input_shape=(28, 28, 1)),\n",
        "    layers.Dense(128, activation='relu'),\n",
        "    layers.Dense(1, activation='sigmoid')\n",
        "])\n",
        "\n",
        "# Compile the model\n",
        "model.compile(optimizer='adam',\n",
        "              loss='binary_crossentropy',\n",
        "              metrics=['accuracy'])\n",
        "\n",
        "# Train the model\n",
        "history = model.fit(train_dataset, epochs=10, validation_data=val_dataset)\n",
        "\n",
        "# Evaluate the model on the test set\n",
        "test_loss, test_acc = model.evaluate(val_dataset)\n",
        "\n",
        "# Display the accuracy of the trained model on the test set\n",
        "print(f\"\\nTest Accuracy: {test_acc*100:.2f}%\")\n",
        "\n",
        "# Visualize some images from the dataset\n",
        "sample_images, sample_labels = next(iter(val_dataset))\n",
        "predictions = model.predict(sample_images)\n",
        "\n",
        "# Plot the images and their predicted labels\n",
        "plt.figure(figsize=(10, 4))\n",
        "for i in range(10):\n",
        "    plt.subplot(2, 5, i + 1)\n",
        "    plt.imshow(sample_images[i].numpy().reshape(28, 28), cmap='gray')\n",
        "    plt.title(f'Pred: {predictions[i][0]:.2f}\\nTrue: {sample_labels[i].numpy()}')\n",
        "    plt.axis('off')\n",
        "\n",
        "plt.show()\n"
      ],
      "metadata": {
        "colab": {
          "base_uri": "https://localhost:8080/"
        },
        "id": "fOWt-lue9H2y",
        "outputId": "db37afab-6d01-433c-c312-232fe35f06b8"
      },
      "execution_count": null,
      "outputs": [
        {
          "output_type": "stream",
          "name": "stdout",
          "text": [
            "Epoch 1/10\n",
            "108/108 [==============================] - 25s 29ms/step - loss: 26.5494 - accuracy: 0.1567 - val_loss: 37.4005 - val_accuracy: 0.2000\n",
            "Epoch 2/10\n",
            "108/108 [==============================] - 11s 28ms/step - loss: 25.4645 - accuracy: 0.1574 - val_loss: 19.4156 - val_accuracy: 0.2000\n",
            "Epoch 3/10\n",
            "108/108 [==============================] - 15s 54ms/step - loss: 17.2201 - accuracy: 0.1573 - val_loss: 12.3041 - val_accuracy: 0.0250\n",
            "Epoch 4/10\n",
            "108/108 [==============================] - 13s 27ms/step - loss: 16.8583 - accuracy: 0.1553 - val_loss: 12.3222 - val_accuracy: 0.2000\n",
            "Epoch 5/10\n",
            "108/108 [==============================] - 12s 25ms/step - loss: 13.6538 - accuracy: 0.1573 - val_loss: 26.9766 - val_accuracy: 0.2000\n",
            "Epoch 6/10\n",
            "108/108 [==============================] - 15s 54ms/step - loss: 12.1092 - accuracy: 0.1573 - val_loss: 4.5305 - val_accuracy: 0.0188\n",
            "Epoch 7/10\n"
          ]
        }
      ]
    }
  ]
}